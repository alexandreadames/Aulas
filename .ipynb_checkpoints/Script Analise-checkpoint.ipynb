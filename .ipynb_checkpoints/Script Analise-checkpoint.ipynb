{
 "cells": [
  {
   "cell_type": "markdown",
   "metadata": {},
   "source": [
    "![title](LogoContabilidados.jpg)\n",
    "\n",
    "\n",
    "# Analise das demonstracoes\n",
    "\n",
    "\n",
    "## Visao das empresas\n",
    "\n",
    "<p> \n",
    "Aqui eu digo o que vamos fazer para o dia\n",
    "</p>\n",
    "\n",
    "\\begin{align*}\n",
    "x^2 &= \\frac{PL}{AT}\n",
    "\\end{align*}\n",
    "\n",
    "# Aula 1\n",
    "* Itens"
   ]
  },
  {
   "cell_type": "code",
   "execution_count": 1,
   "metadata": {},
   "outputs": [
    {
     "data": {
      "image/png": "[encoded data removed]",
      "text/plain": [
       "Plot with title \"Histogram of a\""
      ]
     },
     "metadata": {},
     "output_type": "display_data"
    }
   ],
   "source": [
    "a <- rnorm(100)\n",
    "hist(a)"
   ]
  },
  {
   "cell_type": "code",
   "execution_count": 2,
   "metadata": {},
   "outputs": [
    {
     "data": {
      "text/plain": [
       "    Min.  1st Qu.   Median     Mean  3rd Qu.     Max. \n",
       "-1.80558 -0.52323  0.06041  0.13196  0.90974  2.14936 "
      ]
     },
     "metadata": {},
     "output_type": "display_data"
    }
   ],
   "source": [
    "summary(a)"
   ]
  },
  {
   "cell_type": "code",
   "execution_count": 3,
   "metadata": {},
   "outputs": [],
   "source": [
    "b <- 2"
   ]
  },
  {
   "cell_type": "code",
   "execution_count": 4,
   "metadata": {},
   "outputs": [
    {
     "data": {
      "text/html": [
       "2"
      ],
      "text/latex": [
       "2"
      ],
      "text/markdown": [
       "2"
      ],
      "text/plain": [
       "[1] 2"
      ]
     },
     "metadata": {},
     "output_type": "display_data"
    }
   ],
   "source": [
    "b"
   ]
  },
  {
   "cell_type": "code",
   "execution_count": 5,
   "metadata": {},
   "outputs": [
    {
     "data": {
      "image/png": "[encoded data removed]",
      "text/plain": [
       "plot without title"
      ]
     },
     "metadata": {},
     "output_type": "display_data"
    }
   ],
   "source": [
    "plot(a)"
   ]
  },
  {
   "cell_type": "code",
   "execution_count": 1,
   "metadata": {},
   "outputs": [],
   "source": [
    "a <- readRDS(\"C:\\\\GDrive\\\\Ufersa\\\\repository\\\\programming\\\\Bancos de Dados\\\\BDEnergiaEtrVrMerc\\\\BDEtrEnergia.rds\")\n"
   ]
  },
  {
   "cell_type": "code",
   "execution_count": 3,
   "metadata": {},
   "outputs": [
    {
     "data": {
      "text/html": [
       "<table>\n",
       "<thead><tr><th scope=col>ID</th><th scope=col>cod</th><th scope=col>setorB3</th><th scope=col>listagem</th><th scope=col>Ano</th><th scope=col>provIR</th><th scope=col>irDiferido</th><th scope=col>lair</th><th scope=col>ebit</th><th scope=col>recLiq</th><th scope=col>...</th><th scope=col>capInv</th><th scope=col>receita</th><th scope=col>dIncent</th><th scope=col>capInvest</th><th scope=col>roicmedio</th><th scope=col>roicinic</th><th scope=col>etr</th><th scope=col>cashETR</th><th scope=col>TCC</th><th scope=col>alavanc</th></tr></thead>\n",
       "<tbody>\n",
       "\t<tr><td>1628             </td><td>NA               </td><td>NA               </td><td>NA               </td><td>  NA             </td><td>    NA           </td><td>    NA           </td><td>     NA          </td><td>     NA          </td><td>      NA         </td><td>...              </td><td>         NA      </td><td>      NA         </td><td>NA               </td><td>      NA         </td><td>  NA             </td><td>  NA             </td><td>       NA        </td><td>       NA        </td><td>        NA       </td><td>       NA        </td></tr>\n",
       "\t<tr><td>1897             </td><td>TIET11           </td><td>Utilidade pública</td><td>TRAD             </td><td>2009             </td><td>709393           </td><td> 72144           </td><td>2471106          </td><td>2283098          </td><td> 8415031         </td><td>...              </td><td>10805367000      </td><td>13618493         </td><td> 0               </td><td>13223976         </td><td>11.4             </td><td>11.4             </td><td>0.3162701        </td><td>       NA        </td><td>        NA       </td><td>0.2454746        </td></tr>\n",
       "\t<tr><td>1897             </td><td>TIET11           </td><td>Utilidade pública</td><td>TRAD             </td><td>2010             </td><td>892585           </td><td> 76405           </td><td>2756137          </td><td>2793360          </td><td>10016982         </td><td>...              </td><td>13094360000      </td><td>15044940         </td><td> 0               </td><td>13094360         </td><td>14.1             </td><td>14.1             </td><td>0.3515754        </td><td>       NA        </td><td>-1.6736473       </td><td>0.2454185        </td></tr>\n",
       "\t<tr><td>1897             </td><td>TIET11           </td><td>Utilidade pública</td><td>TRAD             </td><td>2011             </td><td>897545           </td><td>-39201           </td><td>2589098          </td><td>2758869          </td><td> 9917958         </td><td>...              </td><td>11981087000      </td><td>15437275         </td><td> 0               </td><td>11981087         </td><td>15.2             </td><td>15.2             </td><td>0.3315224        </td><td>       NA        </td><td> 0.7752321       </td><td>0.1988043        </td></tr>\n",
       "\t<tr><td>1897             </td><td>TIET11           </td><td>Utilidade pública</td><td>TRAD             </td><td>2012             </td><td>466570           </td><td> 10558           </td><td>1313656          </td><td>1408524          </td><td>10099789         </td><td>...              </td><td>12126235000      </td><td>15533017         </td><td> 0               </td><td>12126235         </td><td> 7.7             </td><td> 7.7             </td><td>0.3632062        </td><td>       NA        </td><td>-0.7598291       </td><td>0.2261894        </td></tr>\n",
       "\t<tr><td>1897             </td><td>TIET11           </td><td>Utilidade pública</td><td>TRAD             </td><td>2013             </td><td>554437           </td><td>-12708           </td><td>1605194          </td><td>1624370          </td><td> 9428650         </td><td>...              </td><td>12509128000      </td><td> 2479841         </td><td> 0               </td><td>12509128         </td><td> 8.6             </td><td> 8.6             </td><td>0.3374851        </td><td>0.3279429        </td><td> 0.6007580       </td><td>0.2332550        </td></tr>\n",
       "</tbody>\n",
       "</table>\n"
      ],
      "text/latex": [
       "\\begin{tabular}{r|lllllllllllllllllllllllllllllllllllll}\n",
       " ID & cod & setorB3 & listagem & Ano & provIR & irDiferido & lair & ebit & recLiq & ... & capInv & receita & dIncent & capInvest & roicmedio & roicinic & etr & cashETR & TCC & alavanc\\\\\n",
       "\\hline\n",
       "\t 1628              & NA                & NA                & NA                &   NA              &     NA            &     NA            &      NA           &      NA           &       NA          & ...               &          NA       &       NA          & NA                &       NA          &   NA              &   NA              &        NA         &        NA         &         NA        &        NA        \\\\\n",
       "\t 1897              & TIET11            & Utilidade pública & TRAD              & 2009              & 709393            &  72144            & 2471106           & 2283098           &  8415031          & ...               & 10805367000       & 13618493          &  0                & 13223976          & 11.4              & 11.4              & 0.3162701         &        NA         &         NA        & 0.2454746        \\\\\n",
       "\t 1897              & TIET11            & Utilidade pública & TRAD              & 2010              & 892585            &  76405            & 2756137           & 2793360           & 10016982          & ...               & 13094360000       & 15044940          &  0                & 13094360          & 14.1              & 14.1              & 0.3515754         &        NA         & -1.6736473        & 0.2454185        \\\\\n",
       "\t 1897              & TIET11            & Utilidade pública & TRAD              & 2011              & 897545            & -39201            & 2589098           & 2758869           &  9917958          & ...               & 11981087000       & 15437275          &  0                & 11981087          & 15.2              & 15.2              & 0.3315224         &        NA         &  0.7752321        & 0.1988043        \\\\\n",
       "\t 1897              & TIET11            & Utilidade pública & TRAD              & 2012              & 466570            &  10558            & 1313656           & 1408524           & 10099789          & ...               & 12126235000       & 15533017          &  0                & 12126235          &  7.7              &  7.7              & 0.3632062         &        NA         & -0.7598291        & 0.2261894        \\\\\n",
       "\t 1897              & TIET11            & Utilidade pública & TRAD              & 2013              & 554437            & -12708            & 1605194           & 1624370           &  9428650          & ...               & 12509128000       &  2479841          &  0                & 12509128          &  8.6              &  8.6              & 0.3374851         & 0.3279429         &  0.6007580        & 0.2332550        \\\\\n",
       "\\end{tabular}\n"
      ],
      "text/markdown": [
       "\n",
       "| ID | cod | setorB3 | listagem | Ano | provIR | irDiferido | lair | ebit | recLiq | ... | capInv | receita | dIncent | capInvest | roicmedio | roicinic | etr | cashETR | TCC | alavanc |\n",
       "|---|---|---|---|---|---|---|---|---|---|---|---|---|---|---|---|---|---|---|---|---|\n",
       "| 1628              | NA                | NA                | NA                |   NA              |     NA            |     NA            |      NA           |      NA           |       NA          | ...               |          NA       |       NA          | NA                |       NA          |   NA              |   NA              |        NA         |        NA         |         NA        |        NA         |\n",
       "| 1897              | TIET11            | Utilidade pública | TRAD              | 2009              | 709393            |  72144            | 2471106           | 2283098           |  8415031          | ...               | 10805367000       | 13618493          |  0                | 13223976          | 11.4              | 11.4              | 0.3162701         |        NA         |         NA        | 0.2454746         |\n",
       "| 1897              | TIET11            | Utilidade pública | TRAD              | 2010              | 892585            |  76405            | 2756137           | 2793360           | 10016982          | ...               | 13094360000       | 15044940          |  0                | 13094360          | 14.1              | 14.1              | 0.3515754         |        NA         | -1.6736473        | 0.2454185         |\n",
       "| 1897              | TIET11            | Utilidade pública | TRAD              | 2011              | 897545            | -39201            | 2589098           | 2758869           |  9917958          | ...               | 11981087000       | 15437275          |  0                | 11981087          | 15.2              | 15.2              | 0.3315224         |        NA         |  0.7752321        | 0.1988043         |\n",
       "| 1897              | TIET11            | Utilidade pública | TRAD              | 2012              | 466570            |  10558            | 1313656           | 1408524           | 10099789          | ...               | 12126235000       | 15533017          |  0                | 12126235          |  7.7              |  7.7              | 0.3632062         |        NA         | -0.7598291        | 0.2261894         |\n",
       "| 1897              | TIET11            | Utilidade pública | TRAD              | 2013              | 554437            | -12708            | 1605194           | 1624370           |  9428650          | ...               | 12509128000       |  2479841          |  0                | 12509128          |  8.6              |  8.6              | 0.3374851         | 0.3279429         |  0.6007580        | 0.2332550         |\n",
       "\n"
      ],
      "text/plain": [
       "  ID   cod    setorB3           listagem Ano  provIR irDiferido lair    ebit   \n",
       "1 1628 NA     NA                NA         NA     NA     NA          NA      NA\n",
       "2 1897 TIET11 Utilidade pública TRAD     2009 709393  72144     2471106 2283098\n",
       "3 1897 TIET11 Utilidade pública TRAD     2010 892585  76405     2756137 2793360\n",
       "4 1897 TIET11 Utilidade pública TRAD     2011 897545 -39201     2589098 2758869\n",
       "5 1897 TIET11 Utilidade pública TRAD     2012 466570  10558     1313656 1408524\n",
       "6 1897 TIET11 Utilidade pública TRAD     2013 554437 -12708     1605194 1624370\n",
       "  recLiq   ... capInv      receita  dIncent capInvest roicmedio roicinic\n",
       "1       NA ...          NA       NA NA            NA    NA        NA    \n",
       "2  8415031 ... 10805367000 13618493  0      13223976  11.4      11.4    \n",
       "3 10016982 ... 13094360000 15044940  0      13094360  14.1      14.1    \n",
       "4  9917958 ... 11981087000 15437275  0      11981087  15.2      15.2    \n",
       "5 10099789 ... 12126235000 15533017  0      12126235   7.7       7.7    \n",
       "6  9428650 ... 12509128000  2479841  0      12509128   8.6       8.6    \n",
       "  etr       cashETR   TCC        alavanc  \n",
       "1        NA        NA         NA        NA\n",
       "2 0.3162701        NA         NA 0.2454746\n",
       "3 0.3515754        NA -1.6736473 0.2454185\n",
       "4 0.3315224        NA  0.7752321 0.1988043\n",
       "5 0.3632062        NA -0.7598291 0.2261894\n",
       "6 0.3374851 0.3279429  0.6007580 0.2332550"
      ]
     },
     "metadata": {},
     "output_type": "display_data"
    }
   ],
   "source": [
    "head(a)"
   ]
  },
  {
   "cell_type": "code",
   "execution_count": 4,
   "metadata": {},
   "outputs": [
    {
     "data": {
      "text/plain": [
       "       ID           cod              setorB3            listagem        \n",
       " Min.   : 243   Length:383         Length:383         Length:383        \n",
       " 1st Qu.:1445   Class :character   Class :character   Class :character  \n",
       " Median :1699   Mode  :character   Mode  :character   Mode  :character  \n",
       " Mean   :1553                                                           \n",
       " 3rd Qu.:1987                                                           \n",
       " Max.   :2259                                                           \n",
       "                                                                        \n",
       "      Ano           provIR           irDiferido           lair          \n",
       " Min.   :2009   Min.   :-1795900   Min.   :-657860   Min.   :-14243546  \n",
       " 1st Qu.:2011   1st Qu.:   11953   1st Qu.: -23115   1st Qu.:    19884  \n",
       " Median :2014   Median :   74390   Median :    634   Median :   327470  \n",
       " Mean   :2014   Mean   :  168694   Mean   :  37004   Mean   :   602346  \n",
       " 3rd Qu.:2016   3rd Qu.:  172251   3rd Qu.:  40107   3rd Qu.:   852103  \n",
       " Max.   :2018   Max.   : 3141578   Max.   :7891775   Max.   : 17710338  \n",
       " NA's   :3      NA's   :19         NA's   :19        NA's   :14         \n",
       "      ebit               recLiq             patLiq             atvTot         \n",
       " Min.   :-12544521   Min.   :       0   Min.   :-3347557   Min.   :    54791  \n",
       " 1st Qu.:   122769   1st Qu.: 1327336   1st Qu.:  966768   1st Qu.:  3398831  \n",
       " Median :   517853   Median : 2987183   Median : 2447799   Median :  6991580  \n",
       " Mean   :   865176   Mean   : 5586201   Mean   : 5101393   Mean   : 13855447  \n",
       " 3rd Qu.:  1162718   3rd Qu.: 7422256   3rd Qu.: 5375935   3rd Qu.: 13926696  \n",
       " Max.   : 18288411   Max.   :60748853   Max.   :77202321   Max.   :181210208  \n",
       " NA's   :14          NA's   :14         NA's   :14         NA's   :14         \n",
       "     lucLiq             cxEquiv             finLP             operDesc       \n",
       " Min.   :-14441607   Min.   :      64   Min.   :       0   Min.   :-1879043  \n",
       " 1st Qu.:    14982   1st Qu.:   58882   1st Qu.:  366199   1st Qu.:       0  \n",
       " Median :   220408   Median :  242655   Median :  984264   Median :       0  \n",
       " Mean   :   358086   Mean   :  710145   Mean   : 2594710   Mean   :   -1741  \n",
       " 3rd Qu.:   604831   3rd Qu.:  812086   3rd Qu.: 2485085   3rd Qu.:       0  \n",
       " Max.   : 13262378   Max.   :11278387   Max.   :45204025   Max.   :  936755  \n",
       " NA's   :14          NA's   :48         NA's   :18         NA's   :44        \n",
       "   empfinTot            vrMerc             divBrt            aplicFin       \n",
       " Min.   :       0   Min.   :   69296   Min.   :       0   Min.   :       0  \n",
       " 1st Qu.:  155345   1st Qu.: 1540695   1st Qu.: 1020807   1st Qu.:       0  \n",
       " Median :  420419   Median : 3873248   Median : 2372256   Median :   30925  \n",
       " Mean   :  879092   Mean   : 5709880   Mean   : 4549163   Mean   :  452043  \n",
       " 3rd Qu.: 1010619   3rd Qu.: 6612922   3rd Qu.: 4628360   3rd Qu.:  417186  \n",
       " Max.   :12255107   Max.   :40100342   Max.   :55817141   Max.   :11252504  \n",
       " NA's   :14         NA's   :54         NA's   :14         NA's   :48        \n",
       "    empfinCP           pasCirc             ROEin            ROEmean       \n",
       " Min.   :       0   Min.   :    1221   Min.   :-196.60   Min.   :-225.90  \n",
       " 1st Qu.:  155345   1st Qu.:  751767   1st Qu.:   3.70   1st Qu.:   3.70  \n",
       " Median :  420419   Median : 1452571   Median :  13.60   Median :  13.45  \n",
       " Mean   :  879092   Mean   : 2865345   Mean   :  10.89   Mean   :  10.73  \n",
       " 3rd Qu.: 1010619   3rd Qu.: 3131472   3rd Qu.:  21.30   3rd Qu.:  20.20  \n",
       " Max.   :12255107   Max.   :36523971   Max.   :  89.70   Max.   :  62.60  \n",
       " NA's   :14         NA's   :14         NA's   :28        NA's   :31       \n",
       "      ROA               ROICin           ROICmean            capInv          \n",
       " Min.   :-173.500   Min.   : -60.00   Min.   :-363.500   Min.   :-7.060e+08  \n",
       " 1st Qu.:   1.000   1st Qu.:   3.80   1st Qu.:   3.700   1st Qu.: 2.317e+09  \n",
       " Median :   5.000   Median :   8.00   Median :   7.600   Median : 5.248e+09  \n",
       " Mean   :   3.866   Mean   :  11.61   Mean   :   6.462   Mean   : 1.070e+10  \n",
       " 3rd Qu.:   8.200   3rd Qu.:  11.80   3rd Qu.:  10.900   3rd Qu.: 1.065e+10  \n",
       " Max.   :  68.000   Max.   :1417.80   Max.   : 136.000   Max.   : 1.484e+11  \n",
       " NA's   :14         NA's   :20        NA's   :20         NA's   :14          \n",
       "    receita            dIncent          capInvest           roicmedio       \n",
       " Min.   : -721458   Min.   :0.00000   Min.   :  -705980   Min.   :-375.700  \n",
       " 1st Qu.: 1231404   1st Qu.:0.00000   1st Qu.:  2142245   1st Qu.:   3.600  \n",
       " Median : 3637318   Median :0.00000   Median :  5057996   Median :   7.200  \n",
       " Mean   : 6907997   Mean   :0.08158   Mean   : 10501051   Mean   :   6.057  \n",
       " 3rd Qu.: 8721997   3rd Qu.:0.00000   3rd Qu.: 10552242   3rd Qu.:  10.200  \n",
       " Max.   :70987912   Max.   :1.00000   Max.   :148389800   Max.   :  77.000  \n",
       " NA's   :109        NA's   :3         NA's   :3           NA's   :14        \n",
       "    roicinic             etr               cashETR               TCC          \n",
       " Min.   :-375.700   Min.   :-26.94545   Min.   :-11.02374   Min.   :-2.66623  \n",
       " 1st Qu.:   3.600   1st Qu.:  0.08144   1st Qu.:  0.05032   1st Qu.:-0.41075  \n",
       " Median :   7.200   Median :  0.21351   Median :  0.15496   Median : 0.04808  \n",
       " Mean   :   6.057   Mean   :  0.55147   Mean   :  0.03140   Mean   : 0.00000  \n",
       " 3rd Qu.:  10.200   3rd Qu.:  0.30616   3rd Qu.:  0.28408   3rd Qu.: 0.39211  \n",
       " Max.   :  77.000   Max.   : 97.66071   Max.   :  5.95717   Max.   : 2.66667  \n",
       " NA's   :14         NA's   :14          NA's   :183         NA's   :52        \n",
       "    alavanc      \n",
       " Min.   :0.0000  \n",
       " 1st Qu.:0.2234  \n",
       " Median :0.3275  \n",
       " Mean   :0.3243  \n",
       " 3rd Qu.:0.4328  \n",
       " Max.   :3.2429  \n",
       " NA's   :14      "
      ]
     },
     "metadata": {},
     "output_type": "display_data"
    }
   ],
   "source": [
    "summary(a)"
   ]
  },
  {
   "cell_type": "code",
   "execution_count": null,
   "metadata": {},
   "outputs": [],
   "source": []
  }
 ],
 "metadata": {
  "kernelspec": {
   "display_name": "R",
   "language": "R",
   "name": "ir"
  },
  "language_info": {
   "codemirror_mode": "r",
   "file_extension": ".r",
   "mimetype": "text/x-r-source",
   "name": "R",
   "pygments_lexer": "r",
   "version": "3.6.0"
  }
 },
 "nbformat": 4,
 "nbformat_minor": 2
}
