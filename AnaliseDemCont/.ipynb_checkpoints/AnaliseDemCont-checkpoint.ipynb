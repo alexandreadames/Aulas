{
 "cells": [
  {
   "cell_type": "markdown",
   "metadata": {},
   "source": [
    "### **Disciplina**: Análise das Demonstrações Contábeis\n",
    "\n",
    "### **Professor**: Kléber Formiga Miranda"
   ]
  },
  {
   "cell_type": "markdown",
   "metadata": {},
   "source": [
    "***\n",
    "\n",
    "**Objetivos**: Proporcionar aos discentes ferramentas para analisar os aspectos patrimoniais, financeiros e de desempenho das organizações, os motivos que determinam a evolução apresentada e as tendências futuras, fornecendo informações úteis para tomada de decisão dos diversos agentes econômicos."
   ]
  },
  {
   "cell_type": "markdown",
   "metadata": {},
   "source": [
    "Leituras recomendadas:&nbsp;\n",
    "\n",
    "* [Análise Financeira - Accounting Tools](https://www.accountingtools.com/articles/2017/5/14/financial-statement-analysis)\n",
    "* [Outro texto](https://investinganswers.com/articles/financial-statement-analysis-beginners)\n",
    "\n",
    "Links Uteis:&nbsp;\n",
    "\n",
    "* [Github do professor](https://github.com/kleberformiga)"
   ]
  },
  {
   "cell_type": "markdown",
   "metadata": {},
   "source": [
    "***\n",
    "### Aula 1\n",
    "Objetivo: *Discutir a necessidade da análise das demonstrações contábeis com foco no objetivo de cada usuário.*"
   ]
  },
  {
   "cell_type": "markdown",
   "metadata": {},
   "source": [
    "### Questões:\n",
    "\n",
    "1. Para QUE serve a análise das demonstrações contábeis?\n",
    "2. Para QUEM serve a análise das demonstrações contábeis?\n",
    "3. Quais informações utilizar? Sempre as mesmas? Apenas contábeis?\n",
    "4. Os números apresentados pela contabilidade são sensíveis a fatores externos a empresa (inflação, tempo, política, etc)?\n",
    "\n",
    "[Vamos ver uma notícia](http://www.valor.com.br/empresas/6397595/azul-tem-maior-rentabilidade-no-trimestre)\n",
    "<br>\n",
    "[Acessar aqui (pdf)](https://github.com/kleberformiga/Aulas/blob/master/AnaliseDemCont/Documentos/NEWS%20Azul%20tem%20maior%20rentabilidade%20no%20trimestre.pdf)\n",
    "\n",
    "\n",
    "### Para pensar sobre isso, vamos ver um caso prático com dados obtidos na plataforma Economatica(R)."
   ]
  },
  {
   "cell_type": "code",
   "execution_count": 24,
   "metadata": {},
   "outputs": [],
   "source": [
    "library(repr)\n",
    "options(repr.plot.width=10, repr.plot.height=5)"
   ]
  },
  {
   "cell_type": "code",
   "execution_count": 25,
   "metadata": {
    "scrolled": false
   },
   "outputs": [
    {
     "name": "stdout",
     "output_type": "stream",
     "text": [
      "Classes 'data.table' and 'data.frame':\t711 obs. of  15 variables:\n",
      " $ cod         : chr  \"ADHM3\" \"ADHM3\" \"ADHM3\" \"AELP3\" ...\n",
      " $ id          : chr  \"2172\" \"2172\" \"2172\" \"1931\" ...\n",
      " $ ano         : chr  \"2015\" \"2016\" \"2017\" \"2015\" ...\n",
      " $ econo_bov   : Factor w/ 10 levels \"Bens industriais\",..: 3 3 3 10 10 10 4 4 4 4 ...\n",
      " $ AtvTotal    : num  6681 2750 2409 13872026 50040 ...\n",
      " $ AtvCirc     : num  570 957 357 4609746 28108 ...\n",
      " $ PasCirc     : num  34931 3278 7931 4508669 11979 ...\n",
      " $ PatLiq      : num  -35587 -4232 -9328 1459965 16216 ...\n",
      " $ CxOper      : num  -26 -32802 -180 -316155 1702442 ...\n",
      " $ RecLiq      : num  0 0 18 13667413 0 ...\n",
      " $ VrMerc      : num  9763 23898 15428 538045 1236744 ...\n",
      " $ LAIR        : num  -12533 -5448 -5411 112769 535 ...\n",
      " $ LucroLiquido: num  -14799 -1817 -5411 -15532 226577 ...\n",
      " $ LucroBruto  : num  0 0 18 471607 -1278 ...\n",
      " $ LiqBolsa    : num  0.00434 0.00869 0.00273 0.00028 0.00022 0.00008 0 0.00001 0 0.00007 ...\n",
      " - attr(*, \".internal.selfref\")=<externalptr> \n"
     ]
    }
   ],
   "source": [
    "# Baixando o arquivo BDAula1.rds para exemplos\n",
    "options(scipen=999) # Opção para não  mostrar número em formato centífico (ex.: 9.28140e-01) \n",
    "options(warn=0)  # retira os avisos\n",
    "BD.Aula1 <- readRDS(\"Dados/BDAula1.rds\") # Atribuido o nome BD.Aula1 ao banco de dados (objeto)\n",
    "library(data.table); library(readxl); library(tidyverse) # pacotes para manipulação de dados\n",
    "str(BD.Aula1) # Verificando a estrutura do banco de dados"
   ]
  },
  {
   "cell_type": "code",
   "execution_count": 26,
   "metadata": {
    "scrolled": true
   },
   "outputs": [
    {
     "name": "stdout",
     "output_type": "stream",
     "text": [
      "Classes 'data.table' and 'data.frame':\t711 obs. of  15 variables:\n",
      " $ cod         : chr  \"ADHM3\" \"ADHM3\" \"ADHM3\" \"AELP3\" ...\n",
      " $ id          : num  2172 2172 2172 1931 1931 ...\n",
      " $ ano         : num  2015 2016 2017 2015 2016 ...\n",
      " $ setor       : Factor w/ 10 levels \"Bens industriais\",..: 3 3 3 10 10 10 4 4 4 4 ...\n",
      " $ AtvTotal    : num  6681 2750 2409 13872026 50040 ...\n",
      " $ AtvCirc     : num  570 957 357 4609746 28108 ...\n",
      " $ PasCirc     : num  34931 3278 7931 4508669 11979 ...\n",
      " $ PatLiq      : num  -35587 -4232 -9328 1459965 16216 ...\n",
      " $ CxOper      : num  -26 -32802 -180 -316155 1702442 ...\n",
      " $ RecLiq      : num  0 0 18 13667413 0 ...\n",
      " $ VrMerc      : num  9763 23898 15428 538045 1236744 ...\n",
      " $ LAIR        : num  -12533 -5448 -5411 112769 535 ...\n",
      " $ LucroLiquido: num  -14799 -1817 -5411 -15532 226577 ...\n",
      " $ LucroBruto  : num  0 0 18 471607 -1278 ...\n",
      " $ LiqBolsa    : num  0.00434 0.00869 0.00273 0.00028 0.00022 0.00008 0 0.00001 0 0.00007 ...\n",
      " - attr(*, \".internal.selfref\")=<externalptr> \n"
     ]
    }
   ],
   "source": [
    "BD.Aula1$id <- as.numeric(BD.Aula1$id) # transformando o id da empresa para formato numérico\n",
    "BD.Aula1$ano <- as.numeric(BD.Aula1$ano) # transformando o ano para formato numérico\n",
    "setnames(BD.Aula1, \"econo_bov\", \"setor\") # trocando o nome da variavel econo_bov para setor (mais sugestivo)\n",
    "str(BD.Aula1) # verificando se a estrutura dessas duas variáveis foram alteradas"
   ]
  },
  {
   "cell_type": "markdown",
   "metadata": {},
   "source": [
    "### Questões\n",
    "\n",
    "1. O que podemos observar nesse banco de dados?\n",
    "2. É possível fazer alguma análise?\n"
   ]
  },
  {
   "cell_type": "code",
   "execution_count": 27,
   "metadata": {
    "scrolled": true
   },
   "outputs": [
    {
     "data": {
      "text/html": [
       "<table>\n",
       "<thead><tr><th scope=col>cod</th><th scope=col>id</th><th scope=col>ano</th><th scope=col>setor</th><th scope=col>AtvTotal</th><th scope=col>AtvCirc</th><th scope=col>PasCirc</th><th scope=col>PatLiq</th><th scope=col>CxOper</th><th scope=col>RecLiq</th><th scope=col>VrMerc</th><th scope=col>LAIR</th><th scope=col>LucroLiquido</th><th scope=col>LucroBruto</th><th scope=col>LiqBolsa</th></tr></thead>\n",
       "<tbody>\n",
       "\t<tr><td>ADHM3              </td><td>2172               </td><td>2015               </td><td>Consumo não cíclico</td><td>    6681           </td><td>     570           </td><td>   34931           </td><td>  -35587           </td><td>     -26           </td><td>       0           </td><td>     9763          </td><td>  -12533           </td><td>  -14799           </td><td>       0           </td><td>     0.00434       </td></tr>\n",
       "\t<tr><td>ADHM3              </td><td>2172               </td><td>2016               </td><td>Consumo não cíclico</td><td>    2750           </td><td>     957           </td><td>    3278           </td><td>   -4232           </td><td>  -32802           </td><td>       0           </td><td>    23898          </td><td>   -5448           </td><td>   -1817           </td><td>       0           </td><td>     0.00869       </td></tr>\n",
       "\t<tr><td>ADHM3              </td><td>2172               </td><td>2017               </td><td>Consumo não cíclico</td><td>    2409           </td><td>     357           </td><td>    7931           </td><td>   -9328           </td><td>    -180           </td><td>      18           </td><td>    15428          </td><td>   -5411           </td><td>   -5411           </td><td>      18           </td><td>     0.00273       </td></tr>\n",
       "\t<tr><td>AELP3              </td><td>1931               </td><td>2015               </td><td>Utilidade pública  </td><td>13872026           </td><td> 4609746           </td><td> 4508669           </td><td> 1459965           </td><td> -316155           </td><td>13667413           </td><td>   538045          </td><td>  112769           </td><td>  -15532           </td><td>  471607           </td><td>     0.00028       </td></tr>\n",
       "\t<tr><td>AELP3              </td><td>1931               </td><td>2016               </td><td>Utilidade pública  </td><td>   50040           </td><td>   28108           </td><td>   11979           </td><td>   16216           </td><td> 1702442           </td><td>       0           </td><td>  1236744          </td><td>     535           </td><td>  226577           </td><td>   -1278           </td><td>     0.00022       </td></tr>\n",
       "\t<tr><td>AELP3              </td><td>1931               </td><td>2017               </td><td>Utilidade pública  </td><td>   34273           </td><td>   11157           </td><td>   12008           </td><td>    -759           </td><td>       0           </td><td>       0           </td><td>   470674          </td><td>     181           </td><td>     130           </td><td>    -765           </td><td>     0.00008       </td></tr>\n",
       "\t<tr><td>BRGE6              </td><td> 470               </td><td>2015               </td><td>Financeiro e outros</td><td> 3034511           </td><td> 1720799           </td><td> 1155473           </td><td>  999692           </td><td>  126222           </td><td>   27701           </td><td>   336882          </td><td>  118269           </td><td>   64225           </td><td>  -71286           </td><td>     0.00000       </td></tr>\n",
       "\t<tr><td>BRGE6              </td><td> 470               </td><td>2016               </td><td>Financeiro e outros</td><td> 3247532           </td><td> 1855664           </td><td> 1282724           </td><td> 1044205           </td><td>  123703           </td><td>   30556           </td><td>   212774          </td><td>  122897           </td><td>   61175           </td><td>  -58695           </td><td>     0.00001       </td></tr>\n",
       "\t<tr><td>BRGE6              </td><td> 470               </td><td>2017               </td><td>Financeiro e outros</td><td> 3141175           </td><td> 1880712           </td><td> 1293229           </td><td> 1090754           </td><td>  136395           </td><td>   25294           </td><td>   248995          </td><td>  108806           </td><td>   51187           </td><td>  -65916           </td><td>     0.00000       </td></tr>\n",
       "\t<tr><td>RPAD5              </td><td> 995               </td><td>2015               </td><td>Financeiro e outros</td><td>  857499           </td><td>    9396           </td><td>    5830           </td><td>  851427           </td><td>   -2423           </td><td>     189           </td><td>   209630          </td><td>   51585           </td><td>   51537           </td><td>     162           </td><td>     0.00007       </td></tr>\n",
       "\t<tr><td>RPAD5              </td><td> 995               </td><td>2016               </td><td>Financeiro e outros</td><td>  889310           </td><td>    6243           </td><td>    6114           </td><td>  882902           </td><td>   -2489           </td><td>     239           </td><td>   341428          </td><td>   50735           </td><td>   50783           </td><td>     227           </td><td>     0.00027       </td></tr>\n",
       "\t<tr><td>RPAD5              </td><td> 995               </td><td>2017               </td><td>Financeiro e outros</td><td>  925349           </td><td>   22302           </td><td>    6631           </td><td>  918365           </td><td>   -2595           </td><td>     308           </td><td>   249601          </td><td>   40621           </td><td>   43536           </td><td>     293           </td><td>     0.00006       </td></tr>\n",
       "\t<tr><td>ALSC3              </td><td>2130               </td><td>2015               </td><td>Financeiro e outros</td><td> 4115208           </td><td>  297078           </td><td>  320420           </td><td> 1819779           </td><td>  306164           </td><td>  494799           </td><td>  1762757          </td><td>  184162           </td><td>  131971           </td><td>  369745           </td><td>     0.12896       </td></tr>\n",
       "\t<tr><td>ALSC3              </td><td>2130               </td><td>2016               </td><td>Financeiro e outros</td><td> 4896895           </td><td>  921565           </td><td>  557181           </td><td> 2404431           </td><td>  234013           </td><td>  487551           </td><td>  2919162          </td><td>    4177           </td><td>  -17766           </td><td>  364143           </td><td>     0.13409       </td></tr>\n",
       "\t<tr><td>ALSC3              </td><td>2130               </td><td>2017               </td><td>Financeiro e outros</td><td> 4793893           </td><td>  713202           </td><td>  254062           </td><td> 2465415           </td><td>  390669           </td><td>  507691           </td><td>  3656124          </td><td>  125022           </td><td>   94539           </td><td>  377152           </td><td>     0.16624       </td></tr>\n",
       "\t<tr><td>ALPA4              </td><td>1045               </td><td>2015               </td><td>Consumo cíclico    </td><td> 3763470           </td><td> 2208631           </td><td> 1309519           </td><td> 1839529           </td><td>  407319           </td><td> 4126254           </td><td>  3880414          </td><td>  306000           </td><td>  272314           </td><td> 1759426           </td><td>     0.11066       </td></tr>\n",
       "\t<tr><td>ALPA4              </td><td>1045               </td><td>2016               </td><td>Consumo cíclico    </td><td> 3782052           </td><td> 2262005           </td><td>  994530           </td><td> 1976023           </td><td>  340971           </td><td> 4054404           </td><td>  4362152          </td><td>  385281           </td><td>  361567           </td><td> 1800284           </td><td>     0.12783       </td></tr>\n",
       "\t<tr><td>ALPA4              </td><td>1045               </td><td>2017               </td><td>Consumo cíclico    </td><td> 3853454           </td><td> 2439913           </td><td> 1121505           </td><td> 2186390           </td><td>  303003           </td><td> 3721863           </td><td>  7981233          </td><td>  305795           </td><td>  362289           </td><td> 1639602           </td><td>     0.16364       </td></tr>\n",
       "\t<tr><td>ALUP11             </td><td>2149               </td><td>2015               </td><td>Utilidade pública  </td><td>10011663           </td><td> 2320219           </td><td> 1927256           </td><td> 2510077           </td><td> 1263031           </td><td> 1493559           </td><td>  2739153          </td><td>  649522           </td><td>  209169           </td><td> 1153621           </td><td>     0.06983       </td></tr>\n",
       "\t<tr><td>ALUP11             </td><td>2149               </td><td>2016               </td><td>Utilidade pública  </td><td>10230001           </td><td> 2577166           </td><td> 1777465           </td><td> 2899182           </td><td> 1135442           </td><td> 1553811           </td><td>  5365648          </td><td>  811193           </td><td>  310812           </td><td> 1213610           </td><td>     0.11389       </td></tr>\n",
       "\t<tr><td>ALUP11             </td><td>2149               </td><td>2017               </td><td>Utilidade pública  </td><td>11463372           </td><td> 3597227           </td><td> 1705261           </td><td> 3883930           </td><td> 1105317           </td><td> 1538191           </td><td>  6273239          </td><td>  789721           </td><td>  330885           </td><td> 1131110           </td><td>     0.20849       </td></tr>\n",
       "\t<tr><td>ABEV3              </td><td>2326               </td><td>2015               </td><td>Consumo não cíclico</td><td>90176234           </td><td>28314489           </td><td>30141913           </td><td>48331883           </td><td>23580946           </td><td>46720141           </td><td>279978928          </td><td>16513389           </td><td>12423771           </td><td>30658770           </td><td>309636.00000       </td></tr>\n",
       "\t<tr><td>ABEV3              </td><td>2326               </td><td>2016               </td><td>Consumo não cíclico</td><td>83841418           </td><td>23886851           </td><td>28773650           </td><td>44825048           </td><td>12344513           </td><td>45602561           </td><td>257498089          </td><td>13398370           </td><td>12546610           </td><td>28924602           </td><td>332545.00000       </td></tr>\n",
       "\t<tr><td>ABEV3              </td><td>2326               </td><td>2017               </td><td>Consumo não cíclico</td><td>86851989           </td><td>24718073           </td><td>28688476           </td><td>46008814           </td><td>17874062           </td><td>47899276           </td><td>334313503          </td><td>12929802           </td><td> 7331968           </td><td>29857498           </td><td>286391.00000       </td></tr>\n",
       "\t<tr><td>CBEE3              </td><td> 305               </td><td>2015               </td><td>Utilidade pública  </td><td> 7818528           </td><td> 2265388           </td><td> 1906229           </td><td> 2513420           </td><td>  310808           </td><td> 5177380           </td><td>  3491039          </td><td>  -34667           </td><td>  -35234           </td><td>  495304           </td><td>     0.00005       </td></tr>\n",
       "\t<tr><td>CBEE3              </td><td> 305               </td><td>2016               </td><td>Utilidade pública  </td><td> 8104030           </td><td> 1733407           </td><td> 2147850           </td><td> 2269847           </td><td>  669294           </td><td> 4466988           </td><td>  4216709          </td><td> -316203           </td><td> -221832           </td><td>  507139           </td><td>     0.00002       </td></tr>\n",
       "\t<tr><td>CBEE3              </td><td> 305               </td><td>2017               </td><td>Utilidade pública  </td><td> 9330722           </td><td> 2156080           </td><td> 2685422           </td><td> 3356968           </td><td>  510816           </td><td> 5338280           </td><td>  4299157          </td><td> -148074           </td><td> -102977           </td><td>  626442           </td><td>     0.00002       </td></tr>\n",
       "\t<tr><td>ANIM3              </td><td>2324               </td><td>2015               </td><td>Consumo cíclico    </td><td> 1175777           </td><td>  394124           </td><td>  238064           </td><td>  642118           </td><td>  -35768           </td><td>  856620           </td><td>  1139776          </td><td>   58469           </td><td>   64203           </td><td>  364004           </td><td>     0.23466       </td></tr>\n",
       "\t<tr><td>ANIM3              </td><td>2324               </td><td>2016               </td><td>Consumo cíclico    </td><td> 1387852           </td><td>  434042           </td><td>  268289           </td><td>  635692           </td><td>  122084           </td><td>  960434           </td><td>  1090775          </td><td>   19318           </td><td>   20845           </td><td>  348851           </td><td>     0.05842       </td></tr>\n",
       "\t<tr><td>ANIM3              </td><td>2324               </td><td>2017               </td><td>Consumo cíclico    </td><td> 1338152           </td><td>  410012           </td><td>  221467           </td><td>  696441           </td><td>  157251           </td><td> 1045674           </td><td>  2257111          </td><td>   48319           </td><td>   85152           </td><td>  399133           </td><td>     0.05444       </td></tr>\n",
       "</tbody>\n",
       "</table>\n"
      ],
      "text/latex": [
       "\\begin{tabular}{r|lllllllllllllll}\n",
       " cod & id & ano & setor & AtvTotal & AtvCirc & PasCirc & PatLiq & CxOper & RecLiq & VrMerc & LAIR & LucroLiquido & LucroBruto & LiqBolsa\\\\\n",
       "\\hline\n",
       "\t ADHM3               & 2172                & 2015                & Consumo não cíclico &     6681            &      570            &    34931            &   -35587            &      -26            &        0            &      9763           &   -12533            &   -14799            &        0            &      0.00434       \\\\\n",
       "\t ADHM3               & 2172                & 2016                & Consumo não cíclico &     2750            &      957            &     3278            &    -4232            &   -32802            &        0            &     23898           &    -5448            &    -1817            &        0            &      0.00869       \\\\\n",
       "\t ADHM3               & 2172                & 2017                & Consumo não cíclico &     2409            &      357            &     7931            &    -9328            &     -180            &       18            &     15428           &    -5411            &    -5411            &       18            &      0.00273       \\\\\n",
       "\t AELP3               & 1931                & 2015                & Utilidade pública   & 13872026            &  4609746            &  4508669            &  1459965            &  -316155            & 13667413            &    538045           &   112769            &   -15532            &   471607            &      0.00028       \\\\\n",
       "\t AELP3               & 1931                & 2016                & Utilidade pública   &    50040            &    28108            &    11979            &    16216            &  1702442            &        0            &   1236744           &      535            &   226577            &    -1278            &      0.00022       \\\\\n",
       "\t AELP3               & 1931                & 2017                & Utilidade pública   &    34273            &    11157            &    12008            &     -759            &        0            &        0            &    470674           &      181            &      130            &     -765            &      0.00008       \\\\\n",
       "\t BRGE6               &  470                & 2015                & Financeiro e outros &  3034511            &  1720799            &  1155473            &   999692            &   126222            &    27701            &    336882           &   118269            &    64225            &   -71286            &      0.00000       \\\\\n",
       "\t BRGE6               &  470                & 2016                & Financeiro e outros &  3247532            &  1855664            &  1282724            &  1044205            &   123703            &    30556            &    212774           &   122897            &    61175            &   -58695            &      0.00001       \\\\\n",
       "\t BRGE6               &  470                & 2017                & Financeiro e outros &  3141175            &  1880712            &  1293229            &  1090754            &   136395            &    25294            &    248995           &   108806            &    51187            &   -65916            &      0.00000       \\\\\n",
       "\t RPAD5               &  995                & 2015                & Financeiro e outros &   857499            &     9396            &     5830            &   851427            &    -2423            &      189            &    209630           &    51585            &    51537            &      162            &      0.00007       \\\\\n",
       "\t RPAD5               &  995                & 2016                & Financeiro e outros &   889310            &     6243            &     6114            &   882902            &    -2489            &      239            &    341428           &    50735            &    50783            &      227            &      0.00027       \\\\\n",
       "\t RPAD5               &  995                & 2017                & Financeiro e outros &   925349            &    22302            &     6631            &   918365            &    -2595            &      308            &    249601           &    40621            &    43536            &      293            &      0.00006       \\\\\n",
       "\t ALSC3               & 2130                & 2015                & Financeiro e outros &  4115208            &   297078            &   320420            &  1819779            &   306164            &   494799            &   1762757           &   184162            &   131971            &   369745            &      0.12896       \\\\\n",
       "\t ALSC3               & 2130                & 2016                & Financeiro e outros &  4896895            &   921565            &   557181            &  2404431            &   234013            &   487551            &   2919162           &     4177            &   -17766            &   364143            &      0.13409       \\\\\n",
       "\t ALSC3               & 2130                & 2017                & Financeiro e outros &  4793893            &   713202            &   254062            &  2465415            &   390669            &   507691            &   3656124           &   125022            &    94539            &   377152            &      0.16624       \\\\\n",
       "\t ALPA4               & 1045                & 2015                & Consumo cíclico     &  3763470            &  2208631            &  1309519            &  1839529            &   407319            &  4126254            &   3880414           &   306000            &   272314            &  1759426            &      0.11066       \\\\\n",
       "\t ALPA4               & 1045                & 2016                & Consumo cíclico     &  3782052            &  2262005            &   994530            &  1976023            &   340971            &  4054404            &   4362152           &   385281            &   361567            &  1800284            &      0.12783       \\\\\n",
       "\t ALPA4               & 1045                & 2017                & Consumo cíclico     &  3853454            &  2439913            &  1121505            &  2186390            &   303003            &  3721863            &   7981233           &   305795            &   362289            &  1639602            &      0.16364       \\\\\n",
       "\t ALUP11              & 2149                & 2015                & Utilidade pública   & 10011663            &  2320219            &  1927256            &  2510077            &  1263031            &  1493559            &   2739153           &   649522            &   209169            &  1153621            &      0.06983       \\\\\n",
       "\t ALUP11              & 2149                & 2016                & Utilidade pública   & 10230001            &  2577166            &  1777465            &  2899182            &  1135442            &  1553811            &   5365648           &   811193            &   310812            &  1213610            &      0.11389       \\\\\n",
       "\t ALUP11              & 2149                & 2017                & Utilidade pública   & 11463372            &  3597227            &  1705261            &  3883930            &  1105317            &  1538191            &   6273239           &   789721            &   330885            &  1131110            &      0.20849       \\\\\n",
       "\t ABEV3               & 2326                & 2015                & Consumo não cíclico & 90176234            & 28314489            & 30141913            & 48331883            & 23580946            & 46720141            & 279978928           & 16513389            & 12423771            & 30658770            & 309636.00000       \\\\\n",
       "\t ABEV3               & 2326                & 2016                & Consumo não cíclico & 83841418            & 23886851            & 28773650            & 44825048            & 12344513            & 45602561            & 257498089           & 13398370            & 12546610            & 28924602            & 332545.00000       \\\\\n",
       "\t ABEV3               & 2326                & 2017                & Consumo não cíclico & 86851989            & 24718073            & 28688476            & 46008814            & 17874062            & 47899276            & 334313503           & 12929802            &  7331968            & 29857498            & 286391.00000       \\\\\n",
       "\t CBEE3               &  305                & 2015                & Utilidade pública   &  7818528            &  2265388            &  1906229            &  2513420            &   310808            &  5177380            &   3491039           &   -34667            &   -35234            &   495304            &      0.00005       \\\\\n",
       "\t CBEE3               &  305                & 2016                & Utilidade pública   &  8104030            &  1733407            &  2147850            &  2269847            &   669294            &  4466988            &   4216709           &  -316203            &  -221832            &   507139            &      0.00002       \\\\\n",
       "\t CBEE3               &  305                & 2017                & Utilidade pública   &  9330722            &  2156080            &  2685422            &  3356968            &   510816            &  5338280            &   4299157           &  -148074            &  -102977            &   626442            &      0.00002       \\\\\n",
       "\t ANIM3               & 2324                & 2015                & Consumo cíclico     &  1175777            &   394124            &   238064            &   642118            &   -35768            &   856620            &   1139776           &    58469            &    64203            &   364004            &      0.23466       \\\\\n",
       "\t ANIM3               & 2324                & 2016                & Consumo cíclico     &  1387852            &   434042            &   268289            &   635692            &   122084            &   960434            &   1090775           &    19318            &    20845            &   348851            &      0.05842       \\\\\n",
       "\t ANIM3               & 2324                & 2017                & Consumo cíclico     &  1338152            &   410012            &   221467            &   696441            &   157251            &  1045674            &   2257111           &    48319            &    85152            &   399133            &      0.05444       \\\\\n",
       "\\end{tabular}\n"
      ],
      "text/markdown": [
       "\n",
       "| cod | id | ano | setor | AtvTotal | AtvCirc | PasCirc | PatLiq | CxOper | RecLiq | VrMerc | LAIR | LucroLiquido | LucroBruto | LiqBolsa |\n",
       "|---|---|---|---|---|---|---|---|---|---|---|---|---|---|---|\n",
       "| ADHM3               | 2172                | 2015                | Consumo não cíclico |     6681            |      570            |    34931            |   -35587            |      -26            |        0            |      9763           |   -12533            |   -14799            |        0            |      0.00434        |\n",
       "| ADHM3               | 2172                | 2016                | Consumo não cíclico |     2750            |      957            |     3278            |    -4232            |   -32802            |        0            |     23898           |    -5448            |    -1817            |        0            |      0.00869        |\n",
       "| ADHM3               | 2172                | 2017                | Consumo não cíclico |     2409            |      357            |     7931            |    -9328            |     -180            |       18            |     15428           |    -5411            |    -5411            |       18            |      0.00273        |\n",
       "| AELP3               | 1931                | 2015                | Utilidade pública   | 13872026            |  4609746            |  4508669            |  1459965            |  -316155            | 13667413            |    538045           |   112769            |   -15532            |   471607            |      0.00028        |\n",
       "| AELP3               | 1931                | 2016                | Utilidade pública   |    50040            |    28108            |    11979            |    16216            |  1702442            |        0            |   1236744           |      535            |   226577            |    -1278            |      0.00022        |\n",
       "| AELP3               | 1931                | 2017                | Utilidade pública   |    34273            |    11157            |    12008            |     -759            |        0            |        0            |    470674           |      181            |      130            |     -765            |      0.00008        |\n",
       "| BRGE6               |  470                | 2015                | Financeiro e outros |  3034511            |  1720799            |  1155473            |   999692            |   126222            |    27701            |    336882           |   118269            |    64225            |   -71286            |      0.00000        |\n",
       "| BRGE6               |  470                | 2016                | Financeiro e outros |  3247532            |  1855664            |  1282724            |  1044205            |   123703            |    30556            |    212774           |   122897            |    61175            |   -58695            |      0.00001        |\n",
       "| BRGE6               |  470                | 2017                | Financeiro e outros |  3141175            |  1880712            |  1293229            |  1090754            |   136395            |    25294            |    248995           |   108806            |    51187            |   -65916            |      0.00000        |\n",
       "| RPAD5               |  995                | 2015                | Financeiro e outros |   857499            |     9396            |     5830            |   851427            |    -2423            |      189            |    209630           |    51585            |    51537            |      162            |      0.00007        |\n",
       "| RPAD5               |  995                | 2016                | Financeiro e outros |   889310            |     6243            |     6114            |   882902            |    -2489            |      239            |    341428           |    50735            |    50783            |      227            |      0.00027        |\n",
       "| RPAD5               |  995                | 2017                | Financeiro e outros |   925349            |    22302            |     6631            |   918365            |    -2595            |      308            |    249601           |    40621            |    43536            |      293            |      0.00006        |\n",
       "| ALSC3               | 2130                | 2015                | Financeiro e outros |  4115208            |   297078            |   320420            |  1819779            |   306164            |   494799            |   1762757           |   184162            |   131971            |   369745            |      0.12896        |\n",
       "| ALSC3               | 2130                | 2016                | Financeiro e outros |  4896895            |   921565            |   557181            |  2404431            |   234013            |   487551            |   2919162           |     4177            |   -17766            |   364143            |      0.13409        |\n",
       "| ALSC3               | 2130                | 2017                | Financeiro e outros |  4793893            |   713202            |   254062            |  2465415            |   390669            |   507691            |   3656124           |   125022            |    94539            |   377152            |      0.16624        |\n",
       "| ALPA4               | 1045                | 2015                | Consumo cíclico     |  3763470            |  2208631            |  1309519            |  1839529            |   407319            |  4126254            |   3880414           |   306000            |   272314            |  1759426            |      0.11066        |\n",
       "| ALPA4               | 1045                | 2016                | Consumo cíclico     |  3782052            |  2262005            |   994530            |  1976023            |   340971            |  4054404            |   4362152           |   385281            |   361567            |  1800284            |      0.12783        |\n",
       "| ALPA4               | 1045                | 2017                | Consumo cíclico     |  3853454            |  2439913            |  1121505            |  2186390            |   303003            |  3721863            |   7981233           |   305795            |   362289            |  1639602            |      0.16364        |\n",
       "| ALUP11              | 2149                | 2015                | Utilidade pública   | 10011663            |  2320219            |  1927256            |  2510077            |  1263031            |  1493559            |   2739153           |   649522            |   209169            |  1153621            |      0.06983        |\n",
       "| ALUP11              | 2149                | 2016                | Utilidade pública   | 10230001            |  2577166            |  1777465            |  2899182            |  1135442            |  1553811            |   5365648           |   811193            |   310812            |  1213610            |      0.11389        |\n",
       "| ALUP11              | 2149                | 2017                | Utilidade pública   | 11463372            |  3597227            |  1705261            |  3883930            |  1105317            |  1538191            |   6273239           |   789721            |   330885            |  1131110            |      0.20849        |\n",
       "| ABEV3               | 2326                | 2015                | Consumo não cíclico | 90176234            | 28314489            | 30141913            | 48331883            | 23580946            | 46720141            | 279978928           | 16513389            | 12423771            | 30658770            | 309636.00000        |\n",
       "| ABEV3               | 2326                | 2016                | Consumo não cíclico | 83841418            | 23886851            | 28773650            | 44825048            | 12344513            | 45602561            | 257498089           | 13398370            | 12546610            | 28924602            | 332545.00000        |\n",
       "| ABEV3               | 2326                | 2017                | Consumo não cíclico | 86851989            | 24718073            | 28688476            | 46008814            | 17874062            | 47899276            | 334313503           | 12929802            |  7331968            | 29857498            | 286391.00000        |\n",
       "| CBEE3               |  305                | 2015                | Utilidade pública   |  7818528            |  2265388            |  1906229            |  2513420            |   310808            |  5177380            |   3491039           |   -34667            |   -35234            |   495304            |      0.00005        |\n",
       "| CBEE3               |  305                | 2016                | Utilidade pública   |  8104030            |  1733407            |  2147850            |  2269847            |   669294            |  4466988            |   4216709           |  -316203            |  -221832            |   507139            |      0.00002        |\n",
       "| CBEE3               |  305                | 2017                | Utilidade pública   |  9330722            |  2156080            |  2685422            |  3356968            |   510816            |  5338280            |   4299157           |  -148074            |  -102977            |   626442            |      0.00002        |\n",
       "| ANIM3               | 2324                | 2015                | Consumo cíclico     |  1175777            |   394124            |   238064            |   642118            |   -35768            |   856620            |   1139776           |    58469            |    64203            |   364004            |      0.23466        |\n",
       "| ANIM3               | 2324                | 2016                | Consumo cíclico     |  1387852            |   434042            |   268289            |   635692            |   122084            |   960434            |   1090775           |    19318            |    20845            |   348851            |      0.05842        |\n",
       "| ANIM3               | 2324                | 2017                | Consumo cíclico     |  1338152            |   410012            |   221467            |   696441            |   157251            |  1045674            |   2257111           |    48319            |    85152            |   399133            |      0.05444        |\n",
       "\n"
      ],
      "text/plain": [
       "   cod    id   ano  setor               AtvTotal AtvCirc  PasCirc  PatLiq  \n",
       "1  ADHM3  2172 2015 Consumo não cíclico     6681      570    34931   -35587\n",
       "2  ADHM3  2172 2016 Consumo não cíclico     2750      957     3278    -4232\n",
       "3  ADHM3  2172 2017 Consumo não cíclico     2409      357     7931    -9328\n",
       "4  AELP3  1931 2015 Utilidade pública   13872026  4609746  4508669  1459965\n",
       "5  AELP3  1931 2016 Utilidade pública      50040    28108    11979    16216\n",
       "6  AELP3  1931 2017 Utilidade pública      34273    11157    12008     -759\n",
       "7  BRGE6   470 2015 Financeiro e outros  3034511  1720799  1155473   999692\n",
       "8  BRGE6   470 2016 Financeiro e outros  3247532  1855664  1282724  1044205\n",
       "9  BRGE6   470 2017 Financeiro e outros  3141175  1880712  1293229  1090754\n",
       "10 RPAD5   995 2015 Financeiro e outros   857499     9396     5830   851427\n",
       "11 RPAD5   995 2016 Financeiro e outros   889310     6243     6114   882902\n",
       "12 RPAD5   995 2017 Financeiro e outros   925349    22302     6631   918365\n",
       "13 ALSC3  2130 2015 Financeiro e outros  4115208   297078   320420  1819779\n",
       "14 ALSC3  2130 2016 Financeiro e outros  4896895   921565   557181  2404431\n",
       "15 ALSC3  2130 2017 Financeiro e outros  4793893   713202   254062  2465415\n",
       "16 ALPA4  1045 2015 Consumo cíclico      3763470  2208631  1309519  1839529\n",
       "17 ALPA4  1045 2016 Consumo cíclico      3782052  2262005   994530  1976023\n",
       "18 ALPA4  1045 2017 Consumo cíclico      3853454  2439913  1121505  2186390\n",
       "19 ALUP11 2149 2015 Utilidade pública   10011663  2320219  1927256  2510077\n",
       "20 ALUP11 2149 2016 Utilidade pública   10230001  2577166  1777465  2899182\n",
       "21 ALUP11 2149 2017 Utilidade pública   11463372  3597227  1705261  3883930\n",
       "22 ABEV3  2326 2015 Consumo não cíclico 90176234 28314489 30141913 48331883\n",
       "23 ABEV3  2326 2016 Consumo não cíclico 83841418 23886851 28773650 44825048\n",
       "24 ABEV3  2326 2017 Consumo não cíclico 86851989 24718073 28688476 46008814\n",
       "25 CBEE3   305 2015 Utilidade pública    7818528  2265388  1906229  2513420\n",
       "26 CBEE3   305 2016 Utilidade pública    8104030  1733407  2147850  2269847\n",
       "27 CBEE3   305 2017 Utilidade pública    9330722  2156080  2685422  3356968\n",
       "28 ANIM3  2324 2015 Consumo cíclico      1175777   394124   238064   642118\n",
       "29 ANIM3  2324 2016 Consumo cíclico      1387852   434042   268289   635692\n",
       "30 ANIM3  2324 2017 Consumo cíclico      1338152   410012   221467   696441\n",
       "   CxOper   RecLiq   VrMerc    LAIR     LucroLiquido LucroBruto LiqBolsa    \n",
       "1       -26        0      9763   -12533   -14799            0        0.00434\n",
       "2    -32802        0     23898    -5448    -1817            0        0.00869\n",
       "3      -180       18     15428    -5411    -5411           18        0.00273\n",
       "4   -316155 13667413    538045   112769   -15532       471607        0.00028\n",
       "5   1702442        0   1236744      535   226577        -1278        0.00022\n",
       "6         0        0    470674      181      130         -765        0.00008\n",
       "7    126222    27701    336882   118269    64225       -71286        0.00000\n",
       "8    123703    30556    212774   122897    61175       -58695        0.00001\n",
       "9    136395    25294    248995   108806    51187       -65916        0.00000\n",
       "10    -2423      189    209630    51585    51537          162        0.00007\n",
       "11    -2489      239    341428    50735    50783          227        0.00027\n",
       "12    -2595      308    249601    40621    43536          293        0.00006\n",
       "13   306164   494799   1762757   184162   131971       369745        0.12896\n",
       "14   234013   487551   2919162     4177   -17766       364143        0.13409\n",
       "15   390669   507691   3656124   125022    94539       377152        0.16624\n",
       "16   407319  4126254   3880414   306000   272314      1759426        0.11066\n",
       "17   340971  4054404   4362152   385281   361567      1800284        0.12783\n",
       "18   303003  3721863   7981233   305795   362289      1639602        0.16364\n",
       "19  1263031  1493559   2739153   649522   209169      1153621        0.06983\n",
       "20  1135442  1553811   5365648   811193   310812      1213610        0.11389\n",
       "21  1105317  1538191   6273239   789721   330885      1131110        0.20849\n",
       "22 23580946 46720141 279978928 16513389 12423771     30658770   309636.00000\n",
       "23 12344513 45602561 257498089 13398370 12546610     28924602   332545.00000\n",
       "24 17874062 47899276 334313503 12929802  7331968     29857498   286391.00000\n",
       "25   310808  5177380   3491039   -34667   -35234       495304        0.00005\n",
       "26   669294  4466988   4216709  -316203  -221832       507139        0.00002\n",
       "27   510816  5338280   4299157  -148074  -102977       626442        0.00002\n",
       "28   -35768   856620   1139776    58469    64203       364004        0.23466\n",
       "29   122084   960434   1090775    19318    20845       348851        0.05842\n",
       "30   157251  1045674   2257111    48319    85152       399133        0.05444"
      ]
     },
     "metadata": {},
     "output_type": "display_data"
    }
   ],
   "source": [
    "head(BD.Aula1, 30) # observando as 30 primeiras observações do banco de dados (BD.Aula1)"
   ]
  },
  {
   "cell_type": "markdown",
   "metadata": {},
   "source": [
    "### Vamos ver informações setoriais para tentar outros insights"
   ]
  },
  {
   "cell_type": "code",
   "execution_count": 28,
   "metadata": {
    "scrolled": true
   },
   "outputs": [
    {
     "data": {
      "text/html": [
       "<table>\n",
       "<thead><tr><th scope=col>setor</th><th scope=col>ano</th><th scope=col>qdeEmpresas</th><th scope=col>AtivoMedio</th></tr></thead>\n",
       "<tbody>\n",
       "\t<tr><td>Petróleo, gás e biocombustíveis</td><td>2015                           </td><td> 7                             </td><td>133594615                      </td></tr>\n",
       "\t<tr><td>Petróleo, gás e biocombustíveis</td><td>2017                           </td><td> 7                             </td><td>124059312                      </td></tr>\n",
       "\t<tr><td>Petróleo, gás e biocombustíveis</td><td>2016                           </td><td> 7                             </td><td>119531565                      </td></tr>\n",
       "\t<tr><td>Telecomunicações               </td><td>2015                           </td><td> 4                             </td><td> 59164513                      </td></tr>\n",
       "\t<tr><td>Telecomunicações               </td><td>2016                           </td><td> 4                             </td><td> 55488266                      </td></tr>\n",
       "\t<tr><td>Telecomunicações               </td><td>2017                           </td><td> 4                             </td><td> 51437939                      </td></tr>\n",
       "\t<tr><td>Materiais básicos              </td><td>2015                           </td><td>23                             </td><td> 32522038                      </td></tr>\n",
       "\t<tr><td>Materiais básicos              </td><td>2017                           </td><td>23                             </td><td> 30119553                      </td></tr>\n",
       "\t<tr><td>Materiais básicos              </td><td>2016                           </td><td>23                             </td><td> 29871080                      </td></tr>\n",
       "\t<tr><td>Consumo não cíclico            </td><td>2015                           </td><td>22                             </td><td> 21418085                      </td></tr>\n",
       "\t<tr><td>Consumo não cíclico            </td><td>2017                           </td><td>22                             </td><td> 21196793                      </td></tr>\n",
       "\t<tr><td>Consumo não cíclico            </td><td>2016                           </td><td>22                             </td><td> 19796615                      </td></tr>\n",
       "\t<tr><td>Utilidade pública              </td><td>2017                           </td><td>39                             </td><td> 16645611                      </td></tr>\n",
       "\t<tr><td>Utilidade pública              </td><td>2016                           </td><td>39                             </td><td> 15811761                      </td></tr>\n",
       "\t<tr><td>Utilidade pública              </td><td>2015                           </td><td>39                             </td><td> 14960235                      </td></tr>\n",
       "\t<tr><td>Financeiro e outros            </td><td>2017                           </td><td>25                             </td><td> 11129654                      </td></tr>\n",
       "\t<tr><td>Financeiro e outros            </td><td>2016                           </td><td>25                             </td><td>  8411279                      </td></tr>\n",
       "\t<tr><td>Financeiro e outros            </td><td>2015                           </td><td>25                             </td><td>  8028839                      </td></tr>\n",
       "\t<tr><td>Bens industriais               </td><td>2017                           </td><td>36                             </td><td>  5273417                      </td></tr>\n",
       "\t<tr><td>Bens industriais               </td><td>2015                           </td><td>36                             </td><td>  5148267                      </td></tr>\n",
       "\t<tr><td>Bens industriais               </td><td>2016                           </td><td>36                             </td><td>  4847532                      </td></tr>\n",
       "\t<tr><td>Consumo cíclico                </td><td>2017                           </td><td>64                             </td><td>  4354130                      </td></tr>\n",
       "\t<tr><td>Consumo cíclico                </td><td>2015                           </td><td>64                             </td><td>  4303478                      </td></tr>\n",
       "\t<tr><td>Consumo cíclico                </td><td>2016                           </td><td>64                             </td><td>  4053913                      </td></tr>\n",
       "\t<tr><td>Saúde                          </td><td>2017                           </td><td>12                             </td><td>  2233218                      </td></tr>\n",
       "\t<tr><td>Saúde                          </td><td>2016                           </td><td>12                             </td><td>  2129127                      </td></tr>\n",
       "\t<tr><td>Saúde                          </td><td>2015                           </td><td>12                             </td><td>  2041961                      </td></tr>\n",
       "\t<tr><td>Tecnologia da informação       </td><td>2015                           </td><td> 5                             </td><td>  1203482                      </td></tr>\n",
       "\t<tr><td>Tecnologia da informação       </td><td>2017                           </td><td> 5                             </td><td>  1200851                      </td></tr>\n",
       "\t<tr><td>Tecnologia da informação       </td><td>2016                           </td><td> 5                             </td><td>  1200107                      </td></tr>\n",
       "</tbody>\n",
       "</table>\n"
      ],
      "text/latex": [
       "\\begin{tabular}{r|llll}\n",
       " setor & ano & qdeEmpresas & AtivoMedio\\\\\n",
       "\\hline\n",
       "\t Petróleo, gás e biocombustíveis & 2015                            &  7                              & 133594615                      \\\\\n",
       "\t Petróleo, gás e biocombustíveis & 2017                            &  7                              & 124059312                      \\\\\n",
       "\t Petróleo, gás e biocombustíveis & 2016                            &  7                              & 119531565                      \\\\\n",
       "\t Telecomunicações                & 2015                            &  4                              &  59164513                      \\\\\n",
       "\t Telecomunicações                & 2016                            &  4                              &  55488266                      \\\\\n",
       "\t Telecomunicações                & 2017                            &  4                              &  51437939                      \\\\\n",
       "\t Materiais básicos               & 2015                            & 23                              &  32522038                      \\\\\n",
       "\t Materiais básicos               & 2017                            & 23                              &  30119553                      \\\\\n",
       "\t Materiais básicos               & 2016                            & 23                              &  29871080                      \\\\\n",
       "\t Consumo não cíclico             & 2015                            & 22                              &  21418085                      \\\\\n",
       "\t Consumo não cíclico             & 2017                            & 22                              &  21196793                      \\\\\n",
       "\t Consumo não cíclico             & 2016                            & 22                              &  19796615                      \\\\\n",
       "\t Utilidade pública               & 2017                            & 39                              &  16645611                      \\\\\n",
       "\t Utilidade pública               & 2016                            & 39                              &  15811761                      \\\\\n",
       "\t Utilidade pública               & 2015                            & 39                              &  14960235                      \\\\\n",
       "\t Financeiro e outros             & 2017                            & 25                              &  11129654                      \\\\\n",
       "\t Financeiro e outros             & 2016                            & 25                              &   8411279                      \\\\\n",
       "\t Financeiro e outros             & 2015                            & 25                              &   8028839                      \\\\\n",
       "\t Bens industriais                & 2017                            & 36                              &   5273417                      \\\\\n",
       "\t Bens industriais                & 2015                            & 36                              &   5148267                      \\\\\n",
       "\t Bens industriais                & 2016                            & 36                              &   4847532                      \\\\\n",
       "\t Consumo cíclico                 & 2017                            & 64                              &   4354130                      \\\\\n",
       "\t Consumo cíclico                 & 2015                            & 64                              &   4303478                      \\\\\n",
       "\t Consumo cíclico                 & 2016                            & 64                              &   4053913                      \\\\\n",
       "\t Saúde                           & 2017                            & 12                              &   2233218                      \\\\\n",
       "\t Saúde                           & 2016                            & 12                              &   2129127                      \\\\\n",
       "\t Saúde                           & 2015                            & 12                              &   2041961                      \\\\\n",
       "\t Tecnologia da informação        & 2015                            &  5                              &   1203482                      \\\\\n",
       "\t Tecnologia da informação        & 2017                            &  5                              &   1200851                      \\\\\n",
       "\t Tecnologia da informação        & 2016                            &  5                              &   1200107                      \\\\\n",
       "\\end{tabular}\n"
      ],
      "text/markdown": [
       "\n",
       "| setor | ano | qdeEmpresas | AtivoMedio |\n",
       "|---|---|---|---|\n",
       "| Petróleo, gás e biocombustíveis | 2015                            |  7                              | 133594615                       |\n",
       "| Petróleo, gás e biocombustíveis | 2017                            |  7                              | 124059312                       |\n",
       "| Petróleo, gás e biocombustíveis | 2016                            |  7                              | 119531565                       |\n",
       "| Telecomunicações                | 2015                            |  4                              |  59164513                       |\n",
       "| Telecomunicações                | 2016                            |  4                              |  55488266                       |\n",
       "| Telecomunicações                | 2017                            |  4                              |  51437939                       |\n",
       "| Materiais básicos               | 2015                            | 23                              |  32522038                       |\n",
       "| Materiais básicos               | 2017                            | 23                              |  30119553                       |\n",
       "| Materiais básicos               | 2016                            | 23                              |  29871080                       |\n",
       "| Consumo não cíclico             | 2015                            | 22                              |  21418085                       |\n",
       "| Consumo não cíclico             | 2017                            | 22                              |  21196793                       |\n",
       "| Consumo não cíclico             | 2016                            | 22                              |  19796615                       |\n",
       "| Utilidade pública               | 2017                            | 39                              |  16645611                       |\n",
       "| Utilidade pública               | 2016                            | 39                              |  15811761                       |\n",
       "| Utilidade pública               | 2015                            | 39                              |  14960235                       |\n",
       "| Financeiro e outros             | 2017                            | 25                              |  11129654                       |\n",
       "| Financeiro e outros             | 2016                            | 25                              |   8411279                       |\n",
       "| Financeiro e outros             | 2015                            | 25                              |   8028839                       |\n",
       "| Bens industriais                | 2017                            | 36                              |   5273417                       |\n",
       "| Bens industriais                | 2015                            | 36                              |   5148267                       |\n",
       "| Bens industriais                | 2016                            | 36                              |   4847532                       |\n",
       "| Consumo cíclico                 | 2017                            | 64                              |   4354130                       |\n",
       "| Consumo cíclico                 | 2015                            | 64                              |   4303478                       |\n",
       "| Consumo cíclico                 | 2016                            | 64                              |   4053913                       |\n",
       "| Saúde                           | 2017                            | 12                              |   2233218                       |\n",
       "| Saúde                           | 2016                            | 12                              |   2129127                       |\n",
       "| Saúde                           | 2015                            | 12                              |   2041961                       |\n",
       "| Tecnologia da informação        | 2015                            |  5                              |   1203482                       |\n",
       "| Tecnologia da informação        | 2017                            |  5                              |   1200851                       |\n",
       "| Tecnologia da informação        | 2016                            |  5                              |   1200107                       |\n",
       "\n"
      ],
      "text/plain": [
       "   setor                           ano  qdeEmpresas AtivoMedio\n",
       "1  Petróleo, gás e biocombustíveis 2015  7          133594615 \n",
       "2  Petróleo, gás e biocombustíveis 2017  7          124059312 \n",
       "3  Petróleo, gás e biocombustíveis 2016  7          119531565 \n",
       "4  Telecomunicações                2015  4           59164513 \n",
       "5  Telecomunicações                2016  4           55488266 \n",
       "6  Telecomunicações                2017  4           51437939 \n",
       "7  Materiais básicos               2015 23           32522038 \n",
       "8  Materiais básicos               2017 23           30119553 \n",
       "9  Materiais básicos               2016 23           29871080 \n",
       "10 Consumo não cíclico             2015 22           21418085 \n",
       "11 Consumo não cíclico             2017 22           21196793 \n",
       "12 Consumo não cíclico             2016 22           19796615 \n",
       "13 Utilidade pública               2017 39           16645611 \n",
       "14 Utilidade pública               2016 39           15811761 \n",
       "15 Utilidade pública               2015 39           14960235 \n",
       "16 Financeiro e outros             2017 25           11129654 \n",
       "17 Financeiro e outros             2016 25            8411279 \n",
       "18 Financeiro e outros             2015 25            8028839 \n",
       "19 Bens industriais                2017 36            5273417 \n",
       "20 Bens industriais                2015 36            5148267 \n",
       "21 Bens industriais                2016 36            4847532 \n",
       "22 Consumo cíclico                 2017 64            4354130 \n",
       "23 Consumo cíclico                 2015 64            4303478 \n",
       "24 Consumo cíclico                 2016 64            4053913 \n",
       "25 Saúde                           2017 12            2233218 \n",
       "26 Saúde                           2016 12            2129127 \n",
       "27 Saúde                           2015 12            2041961 \n",
       "28 Tecnologia da informação        2015  5            1203482 \n",
       "29 Tecnologia da informação        2017  5            1200851 \n",
       "30 Tecnologia da informação        2016  5            1200107 "
      ]
     },
     "metadata": {},
     "output_type": "display_data"
    }
   ],
   "source": [
    "setorial <- BD.Aula1[, .(qdeEmpresas = .N, AtivoMedio = mean(AtvTotal)), by = .(setor, ano)][order(AtivoMedio, decreasing = T)] # Esse banco de dados possui 3 observações por empresa\n",
    "setorial"
   ]
  },
  {
   "cell_type": "markdown",
   "metadata": {},
   "source": [
    "### Vamos ver informações de apenas um setor"
   ]
  },
  {
   "cell_type": "code",
   "execution_count": 29,
   "metadata": {
    "scrolled": true
   },
   "outputs": [
    {
     "data": {
      "text/html": [
       "<table>\n",
       "<thead><tr><th scope=col>cod</th><th scope=col>id</th><th scope=col>ano</th><th scope=col>setor</th><th scope=col>AtvTotal</th><th scope=col>AtvCirc</th><th scope=col>PasCirc</th><th scope=col>PatLiq</th><th scope=col>CxOper</th><th scope=col>RecLiq</th><th scope=col>VrMerc</th><th scope=col>LAIR</th><th scope=col>LucroLiquido</th><th scope=col>LucroBruto</th><th scope=col>LiqBolsa</th></tr></thead>\n",
       "<tbody>\n",
       "\t<tr><td>BALM4   </td><td> 156    </td><td>2015    </td><td>Saúde   </td><td> 161822 </td><td> 108270 </td><td>  42945 </td><td>   86166</td><td>   4694 </td><td>  112044</td><td>   87808</td><td>   21246</td><td>   14111</td><td>  67957 </td><td>0.00004 </td></tr>\n",
       "\t<tr><td>BALM4   </td><td> 156    </td><td>2016    </td><td>Saúde   </td><td> 170692 </td><td>  95050 </td><td>  42355 </td><td>   87628</td><td>    766 </td><td>  113105</td><td>   79576</td><td>    5428</td><td>    3016</td><td>  70046 </td><td>0.00004 </td></tr>\n",
       "\t<tr><td>BALM4   </td><td> 156    </td><td>2017    </td><td>Saúde   </td><td> 180845 </td><td> 104603 </td><td>  54390 </td><td>   88569</td><td>   5534 </td><td>  109753</td><td>   86240</td><td>    2451</td><td>     675</td><td>  63469 </td><td>0.00003 </td></tr>\n",
       "\t<tr><td>BIOM3   </td><td>1930    </td><td>2015    </td><td>Saúde   </td><td> 229673 </td><td> 130406 </td><td>  13862 </td><td>  115128</td><td> -13899 </td><td>       0</td><td>  172631</td><td>   15620</td><td>    8282</td><td>      0 </td><td>0.00064 </td></tr>\n",
       "\t<tr><td>BIOM3   </td><td>1930    </td><td>2016    </td><td>Saúde   </td><td> 237385 </td><td>  51491 </td><td>  19723 </td><td>   65929</td><td> -38281 </td><td>       0</td><td>  198834</td><td>  -50020</td><td>  -45608</td><td>      0 </td><td>0.00029 </td></tr>\n",
       "\t<tr><td>BIOM3   </td><td>1930    </td><td>2017    </td><td>Saúde   </td><td> 262387 </td><td>  64367 </td><td>  43317 </td><td>   59301</td><td> -54405 </td><td>     103</td><td>  335436</td><td>  -41032</td><td>  -38128</td><td>     36 </td><td>0.00071 </td></tr>\n",
       "\t<tr><td>BPHA3   </td><td>2250    </td><td>2015    </td><td>Saúde   </td><td>2333307 </td><td> 817919 </td><td>1703057 </td><td>  544362</td><td>  39378 </td><td> 3387469</td><td>   35942</td><td> -701171</td><td> -654545</td><td> 918389 </td><td>0.03551 </td></tr>\n",
       "\t<tr><td>BPHA3   </td><td>2250    </td><td>2016    </td><td>Saúde   </td><td>1458384 </td><td> 219497 </td><td>1031504 </td><td>  304336</td><td>  25249 </td><td> 1502656</td><td>  506603</td><td> -638752</td><td> -634341</td><td> 461469 </td><td>0.02689 </td></tr>\n",
       "\t<tr><td>BPHA3   </td><td>2250    </td><td>2017    </td><td>Saúde   </td><td> 144941 </td><td>  56273 </td><td>1375821 </td><td>-1317339</td><td>-330065 </td><td>  516786</td><td>  411615</td><td>-1581172</td><td>-1621675</td><td> 159151 </td><td>0.01407 </td></tr>\n",
       "\t<tr><td>CREM3   </td><td>2014    </td><td>2015    </td><td>Saúde   </td><td> 828153 </td><td> 478956 </td><td> 347513 </td><td>  173971</td><td>  13836 </td><td>  874403</td><td>  525484</td><td>   21333</td><td>   25219</td><td> 257311 </td><td>0.00007 </td></tr>\n",
       "\t<tr><td>CREM3   </td><td>2014    </td><td>2016    </td><td>Saúde   </td><td> 636632 </td><td> 323852 </td><td> 315504 </td><td>  152546</td><td>  -6149 </td><td>  741477</td><td>  261968</td><td>   10695</td><td>    7883</td><td> 223273 </td><td>0.00006 </td></tr>\n",
       "\t<tr><td>CREM3   </td><td>2014    </td><td>2017    </td><td>Saúde   </td><td> 671562 </td><td> 394211 </td><td> 321445 </td><td>  168356</td><td>  66315 </td><td>  652407</td><td>  498748</td><td>   18195</td><td>   14368</td><td> 202342 </td><td>0.00032 </td></tr>\n",
       "\t<tr><td>DASA3   </td><td>1962    </td><td>2015    </td><td>Saúde   </td><td>4681796 </td><td>1352144 </td><td> 748472 </td><td> 2789044</td><td> 494329 </td><td> 2794399</td><td> 3139982</td><td>   53312</td><td>   23813</td><td> 768403 </td><td>0.00613 </td></tr>\n",
       "\t<tr><td>DASA3   </td><td>1962    </td><td>2016    </td><td>Saúde   </td><td>5124727 </td><td>1531793 </td><td> 951824 </td><td> 2860034</td><td> 841937 </td><td> 3040775</td><td> 5480849</td><td>  195388</td><td>   94738</td><td> 964574 </td><td>0.00119 </td></tr>\n",
       "\t<tr><td>DASA3   </td><td>1962    </td><td>2017    </td><td>Saúde   </td><td>6246487 </td><td>1576451 </td><td>1493379 </td><td> 3335463</td><td> 653235 </td><td> 3399308</td><td> 8533894</td><td>  180528</td><td>  131443</td><td>1160728 </td><td>0.00016 </td></tr>\n",
       "\t<tr><td>PNVL3   </td><td> 934    </td><td>2015    </td><td>Saúde   </td><td> 759967 </td><td> 539884 </td><td> 315609 </td><td>  344142</td><td>  72556 </td><td> 1986026</td><td> 1259065</td><td>   62001</td><td>   45268</td><td> 451572 </td><td>0.00323 </td></tr>\n",
       "\t<tr><td>PNVL3   </td><td> 934    </td><td>2016    </td><td>Saúde   </td><td> 820973 </td><td> 590440 </td><td> 370484 </td><td>  381650</td><td> 101603 </td><td> 2128732</td><td> 2854129</td><td>   72712</td><td>   53059</td><td> 520285 </td><td>0.00351 </td></tr>\n",
       "\t<tr><td>PNVL3   </td><td> 934    </td><td>2017    </td><td>Saúde   </td><td> 950172 </td><td> 705024 </td><td> 403768 </td><td>  426747</td><td>  40885 </td><td> 2258246</td><td> 1787206</td><td>   73945</td><td>   59798</td><td> 536510 </td><td>0.00146 </td></tr>\n",
       "\t<tr><td>FLRY3   </td><td>2188    </td><td>2015    </td><td>Saúde   </td><td>3203997 </td><td>1132210 </td><td> 417657 </td><td> 1655439</td><td> 368922 </td><td> 1894960</td><td> 2500694</td><td>  172480</td><td>  107343</td><td> 502886 </td><td>0.06193 </td></tr>\n",
       "\t<tr><td>FLRY3   </td><td>2188    </td><td>2016    </td><td>Saúde   </td><td>3005820 </td><td> 933225 </td><td> 409182 </td><td> 1535725</td><td> 513870 </td><td> 2096113</td><td> 5601154</td><td>  294376</td><td>  228749</td><td> 601051 </td><td>0.25374 </td></tr>\n",
       "\t<tr><td>FLRY3   </td><td>2188    </td><td>2017    </td><td>Saúde   </td><td>3527332 </td><td>1267037 </td><td> 639146 </td><td> 1706528</td><td> 529607 </td><td> 2383012</td><td> 9336394</td><td>  427765</td><td>  320618</td><td> 736076 </td><td>0.54972 </td></tr>\n",
       "\t<tr><td>ODPV3   </td><td>2012    </td><td>2015    </td><td>Saúde   </td><td>1195650 </td><td> 479853 </td><td> 277316 </td><td>  651602</td><td> 237090 </td><td> 1249691</td><td> 4991078</td><td>  326917</td><td>  220946</td><td> 667163 </td><td>0.38659 </td></tr>\n",
       "\t<tr><td>ODPV3   </td><td>2012    </td><td>2016    </td><td>Saúde   </td><td>1358010 </td><td> 582291 </td><td> 307352 </td><td>  693575</td><td> 196299 </td><td> 1365039</td><td> 6689055</td><td>  305467</td><td>  215990</td><td> 693235 </td><td>0.35132 </td></tr>\n",
       "\t<tr><td>ODPV3   </td><td>2012    </td><td>2017    </td><td>Saúde   </td><td>1389568 </td><td> 626227 </td><td> 425923 </td><td>  923242</td><td> 289483 </td><td> 1437283</td><td> 8448731</td><td>  745397</td><td>  502919</td><td>1042123 </td><td>0.28193 </td></tr>\n",
       "\t<tr><td>OFSA3   </td><td>2350    </td><td>2015    </td><td>Saúde   </td><td> 693371 </td><td> 378377 </td><td> 149994 </td><td>  380181</td><td>  15509 </td><td>  534045</td><td> 1887441</td><td>   87267</td><td>   69192</td><td> 297361 </td><td>0.00708 </td></tr>\n",
       "\t<tr><td>OFSA3   </td><td>2350    </td><td>2016    </td><td>Saúde   </td><td> 775576 </td><td> 379922 </td><td> 142959 </td><td>  376334</td><td>  42202 </td><td>  456587</td><td> 1510572</td><td>  -13350</td><td>   -5206</td><td> 226083 </td><td>0.00312 </td></tr>\n",
       "\t<tr><td>OFSA3   </td><td>2350    </td><td>2017    </td><td>Saúde   </td><td> 810227 </td><td> 407296 </td><td> 276517 </td><td>  405879</td><td>  99503 </td><td>  505281</td><td> 1294776</td><td>   49558</td><td>   38108</td><td> 266569 </td><td>0.00247 </td></tr>\n",
       "\t<tr><td>PFRM3   </td><td>2034    </td><td>2015    </td><td>Saúde   </td><td>2282159 </td><td>1642637 </td><td>1187526 </td><td>  667946</td><td>  59265 </td><td> 3465143</td><td>  203953</td><td>  -19823</td><td>  -21182</td><td> 436969 </td><td>0.01213 </td></tr>\n",
       "\t<tr><td>PFRM3   </td><td>2034    </td><td>2016    </td><td>Saúde   </td><td>2712233 </td><td>1692956 </td><td>1156942 </td><td>  758956</td><td>-107293 </td><td> 4084669</td><td>  526270</td><td>  -52418</td><td>  -48963</td><td> 625253 </td><td>0.01504 </td></tr>\n",
       "\t<tr><td>PFRM3   </td><td>2034    </td><td>2017    </td><td>Saúde   </td><td>2619492 </td><td>1645464 </td><td>1576748 </td><td>  745932</td><td> -51826 </td><td> 4100711</td><td>  559555</td><td> -153614</td><td> -112720</td><td> 700968 </td><td>0.02076 </td></tr>\n",
       "\t<tr><td>QUAL3   </td><td>2249    </td><td>2015    </td><td>Saúde   </td><td>3434432 </td><td> 710948 </td><td> 476831 </td><td> 1989850</td><td> 570179 </td><td> 1730159</td><td> 3875546</td><td>  400783</td><td>  227126</td><td>1274358 </td><td>0.90501 </td></tr>\n",
       "\t<tr><td>QUAL3   </td><td>2249    </td><td>2016    </td><td>Saúde   </td><td>3589787 </td><td> 892784 </td><td> 728650 </td><td> 2063510</td><td> 621293 </td><td> 1964404</td><td> 5304003</td><td>  460434</td><td>  404727</td><td>1461762 </td><td>0.70798 </td></tr>\n",
       "\t<tr><td>QUAL3   </td><td>2249    </td><td>2017    </td><td>Saúde   </td><td>3531358 </td><td>1034181 </td><td> 407464 </td><td> 2366895</td><td> 534648 </td><td> 2075289</td><td> 8850873</td><td>  583154</td><td>  370710</td><td>1577907 </td><td>0.88941 </td></tr>\n",
       "\t<tr><td>RADL3   </td><td> 525    </td><td>2015    </td><td>Saúde   </td><td>4699201 </td><td>2685844 </td><td>1648766 </td><td> 2633809</td><td> 501695 </td><td> 8897849</td><td>11683067</td><td>  435902</td><td>  340206</td><td>2714560 </td><td>0.73956 </td></tr>\n",
       "\t<tr><td>RADL3   </td><td> 525    </td><td>2016    </td><td>Saúde   </td><td>5659303 </td><td>3427783 </td><td>2184684 </td><td> 2909787</td><td> 555529 </td><td>11256565</td><td>20163856</td><td>  595216</td><td>  447685</td><td>3504143 </td><td>0.87124 </td></tr>\n",
       "\t<tr><td>RADL3   </td><td> 525    </td><td>2017    </td><td>Saúde   </td><td>6464249 </td><td>3928204 </td><td>2493779 </td><td> 3222513</td><td> 628840 </td><td>13212505</td><td>30267547</td><td>  686544</td><td>  511163</td><td>3988000 </td><td>0.87684 </td></tr>\n",
       "</tbody>\n",
       "</table>\n"
      ],
      "text/latex": [
       "\\begin{tabular}{r|lllllllllllllll}\n",
       " cod & id & ano & setor & AtvTotal & AtvCirc & PasCirc & PatLiq & CxOper & RecLiq & VrMerc & LAIR & LucroLiquido & LucroBruto & LiqBolsa\\\\\n",
       "\\hline\n",
       "\t BALM4    &  156     & 2015     & Saúde    &  161822  &  108270  &   42945  &    86166 &    4694  &   112044 &    87808 &    21246 &    14111 &   67957  & 0.00004 \\\\\n",
       "\t BALM4    &  156     & 2016     & Saúde    &  170692  &   95050  &   42355  &    87628 &     766  &   113105 &    79576 &     5428 &     3016 &   70046  & 0.00004 \\\\\n",
       "\t BALM4    &  156     & 2017     & Saúde    &  180845  &  104603  &   54390  &    88569 &    5534  &   109753 &    86240 &     2451 &      675 &   63469  & 0.00003 \\\\\n",
       "\t BIOM3    & 1930     & 2015     & Saúde    &  229673  &  130406  &   13862  &   115128 &  -13899  &        0 &   172631 &    15620 &     8282 &       0  & 0.00064 \\\\\n",
       "\t BIOM3    & 1930     & 2016     & Saúde    &  237385  &   51491  &   19723  &    65929 &  -38281  &        0 &   198834 &   -50020 &   -45608 &       0  & 0.00029 \\\\\n",
       "\t BIOM3    & 1930     & 2017     & Saúde    &  262387  &   64367  &   43317  &    59301 &  -54405  &      103 &   335436 &   -41032 &   -38128 &      36  & 0.00071 \\\\\n",
       "\t BPHA3    & 2250     & 2015     & Saúde    & 2333307  &  817919  & 1703057  &   544362 &   39378  &  3387469 &    35942 &  -701171 &  -654545 &  918389  & 0.03551 \\\\\n",
       "\t BPHA3    & 2250     & 2016     & Saúde    & 1458384  &  219497  & 1031504  &   304336 &   25249  &  1502656 &   506603 &  -638752 &  -634341 &  461469  & 0.02689 \\\\\n",
       "\t BPHA3    & 2250     & 2017     & Saúde    &  144941  &   56273  & 1375821  & -1317339 & -330065  &   516786 &   411615 & -1581172 & -1621675 &  159151  & 0.01407 \\\\\n",
       "\t CREM3    & 2014     & 2015     & Saúde    &  828153  &  478956  &  347513  &   173971 &   13836  &   874403 &   525484 &    21333 &    25219 &  257311  & 0.00007 \\\\\n",
       "\t CREM3    & 2014     & 2016     & Saúde    &  636632  &  323852  &  315504  &   152546 &   -6149  &   741477 &   261968 &    10695 &     7883 &  223273  & 0.00006 \\\\\n",
       "\t CREM3    & 2014     & 2017     & Saúde    &  671562  &  394211  &  321445  &   168356 &   66315  &   652407 &   498748 &    18195 &    14368 &  202342  & 0.00032 \\\\\n",
       "\t DASA3    & 1962     & 2015     & Saúde    & 4681796  & 1352144  &  748472  &  2789044 &  494329  &  2794399 &  3139982 &    53312 &    23813 &  768403  & 0.00613 \\\\\n",
       "\t DASA3    & 1962     & 2016     & Saúde    & 5124727  & 1531793  &  951824  &  2860034 &  841937  &  3040775 &  5480849 &   195388 &    94738 &  964574  & 0.00119 \\\\\n",
       "\t DASA3    & 1962     & 2017     & Saúde    & 6246487  & 1576451  & 1493379  &  3335463 &  653235  &  3399308 &  8533894 &   180528 &   131443 & 1160728  & 0.00016 \\\\\n",
       "\t PNVL3    &  934     & 2015     & Saúde    &  759967  &  539884  &  315609  &   344142 &   72556  &  1986026 &  1259065 &    62001 &    45268 &  451572  & 0.00323 \\\\\n",
       "\t PNVL3    &  934     & 2016     & Saúde    &  820973  &  590440  &  370484  &   381650 &  101603  &  2128732 &  2854129 &    72712 &    53059 &  520285  & 0.00351 \\\\\n",
       "\t PNVL3    &  934     & 2017     & Saúde    &  950172  &  705024  &  403768  &   426747 &   40885  &  2258246 &  1787206 &    73945 &    59798 &  536510  & 0.00146 \\\\\n",
       "\t FLRY3    & 2188     & 2015     & Saúde    & 3203997  & 1132210  &  417657  &  1655439 &  368922  &  1894960 &  2500694 &   172480 &   107343 &  502886  & 0.06193 \\\\\n",
       "\t FLRY3    & 2188     & 2016     & Saúde    & 3005820  &  933225  &  409182  &  1535725 &  513870  &  2096113 &  5601154 &   294376 &   228749 &  601051  & 0.25374 \\\\\n",
       "\t FLRY3    & 2188     & 2017     & Saúde    & 3527332  & 1267037  &  639146  &  1706528 &  529607  &  2383012 &  9336394 &   427765 &   320618 &  736076  & 0.54972 \\\\\n",
       "\t ODPV3    & 2012     & 2015     & Saúde    & 1195650  &  479853  &  277316  &   651602 &  237090  &  1249691 &  4991078 &   326917 &   220946 &  667163  & 0.38659 \\\\\n",
       "\t ODPV3    & 2012     & 2016     & Saúde    & 1358010  &  582291  &  307352  &   693575 &  196299  &  1365039 &  6689055 &   305467 &   215990 &  693235  & 0.35132 \\\\\n",
       "\t ODPV3    & 2012     & 2017     & Saúde    & 1389568  &  626227  &  425923  &   923242 &  289483  &  1437283 &  8448731 &   745397 &   502919 & 1042123  & 0.28193 \\\\\n",
       "\t OFSA3    & 2350     & 2015     & Saúde    &  693371  &  378377  &  149994  &   380181 &   15509  &   534045 &  1887441 &    87267 &    69192 &  297361  & 0.00708 \\\\\n",
       "\t OFSA3    & 2350     & 2016     & Saúde    &  775576  &  379922  &  142959  &   376334 &   42202  &   456587 &  1510572 &   -13350 &    -5206 &  226083  & 0.00312 \\\\\n",
       "\t OFSA3    & 2350     & 2017     & Saúde    &  810227  &  407296  &  276517  &   405879 &   99503  &   505281 &  1294776 &    49558 &    38108 &  266569  & 0.00247 \\\\\n",
       "\t PFRM3    & 2034     & 2015     & Saúde    & 2282159  & 1642637  & 1187526  &   667946 &   59265  &  3465143 &   203953 &   -19823 &   -21182 &  436969  & 0.01213 \\\\\n",
       "\t PFRM3    & 2034     & 2016     & Saúde    & 2712233  & 1692956  & 1156942  &   758956 & -107293  &  4084669 &   526270 &   -52418 &   -48963 &  625253  & 0.01504 \\\\\n",
       "\t PFRM3    & 2034     & 2017     & Saúde    & 2619492  & 1645464  & 1576748  &   745932 &  -51826  &  4100711 &   559555 &  -153614 &  -112720 &  700968  & 0.02076 \\\\\n",
       "\t QUAL3    & 2249     & 2015     & Saúde    & 3434432  &  710948  &  476831  &  1989850 &  570179  &  1730159 &  3875546 &   400783 &   227126 & 1274358  & 0.90501 \\\\\n",
       "\t QUAL3    & 2249     & 2016     & Saúde    & 3589787  &  892784  &  728650  &  2063510 &  621293  &  1964404 &  5304003 &   460434 &   404727 & 1461762  & 0.70798 \\\\\n",
       "\t QUAL3    & 2249     & 2017     & Saúde    & 3531358  & 1034181  &  407464  &  2366895 &  534648  &  2075289 &  8850873 &   583154 &   370710 & 1577907  & 0.88941 \\\\\n",
       "\t RADL3    &  525     & 2015     & Saúde    & 4699201  & 2685844  & 1648766  &  2633809 &  501695  &  8897849 & 11683067 &   435902 &   340206 & 2714560  & 0.73956 \\\\\n",
       "\t RADL3    &  525     & 2016     & Saúde    & 5659303  & 3427783  & 2184684  &  2909787 &  555529  & 11256565 & 20163856 &   595216 &   447685 & 3504143  & 0.87124 \\\\\n",
       "\t RADL3    &  525     & 2017     & Saúde    & 6464249  & 3928204  & 2493779  &  3222513 &  628840  & 13212505 & 30267547 &   686544 &   511163 & 3988000  & 0.87684 \\\\\n",
       "\\end{tabular}\n"
      ],
      "text/markdown": [
       "\n",
       "| cod | id | ano | setor | AtvTotal | AtvCirc | PasCirc | PatLiq | CxOper | RecLiq | VrMerc | LAIR | LucroLiquido | LucroBruto | LiqBolsa |\n",
       "|---|---|---|---|---|---|---|---|---|---|---|---|---|---|---|\n",
       "| BALM4    |  156     | 2015     | Saúde    |  161822  |  108270  |   42945  |    86166 |    4694  |   112044 |    87808 |    21246 |    14111 |   67957  | 0.00004  |\n",
       "| BALM4    |  156     | 2016     | Saúde    |  170692  |   95050  |   42355  |    87628 |     766  |   113105 |    79576 |     5428 |     3016 |   70046  | 0.00004  |\n",
       "| BALM4    |  156     | 2017     | Saúde    |  180845  |  104603  |   54390  |    88569 |    5534  |   109753 |    86240 |     2451 |      675 |   63469  | 0.00003  |\n",
       "| BIOM3    | 1930     | 2015     | Saúde    |  229673  |  130406  |   13862  |   115128 |  -13899  |        0 |   172631 |    15620 |     8282 |       0  | 0.00064  |\n",
       "| BIOM3    | 1930     | 2016     | Saúde    |  237385  |   51491  |   19723  |    65929 |  -38281  |        0 |   198834 |   -50020 |   -45608 |       0  | 0.00029  |\n",
       "| BIOM3    | 1930     | 2017     | Saúde    |  262387  |   64367  |   43317  |    59301 |  -54405  |      103 |   335436 |   -41032 |   -38128 |      36  | 0.00071  |\n",
       "| BPHA3    | 2250     | 2015     | Saúde    | 2333307  |  817919  | 1703057  |   544362 |   39378  |  3387469 |    35942 |  -701171 |  -654545 |  918389  | 0.03551  |\n",
       "| BPHA3    | 2250     | 2016     | Saúde    | 1458384  |  219497  | 1031504  |   304336 |   25249  |  1502656 |   506603 |  -638752 |  -634341 |  461469  | 0.02689  |\n",
       "| BPHA3    | 2250     | 2017     | Saúde    |  144941  |   56273  | 1375821  | -1317339 | -330065  |   516786 |   411615 | -1581172 | -1621675 |  159151  | 0.01407  |\n",
       "| CREM3    | 2014     | 2015     | Saúde    |  828153  |  478956  |  347513  |   173971 |   13836  |   874403 |   525484 |    21333 |    25219 |  257311  | 0.00007  |\n",
       "| CREM3    | 2014     | 2016     | Saúde    |  636632  |  323852  |  315504  |   152546 |   -6149  |   741477 |   261968 |    10695 |     7883 |  223273  | 0.00006  |\n",
       "| CREM3    | 2014     | 2017     | Saúde    |  671562  |  394211  |  321445  |   168356 |   66315  |   652407 |   498748 |    18195 |    14368 |  202342  | 0.00032  |\n",
       "| DASA3    | 1962     | 2015     | Saúde    | 4681796  | 1352144  |  748472  |  2789044 |  494329  |  2794399 |  3139982 |    53312 |    23813 |  768403  | 0.00613  |\n",
       "| DASA3    | 1962     | 2016     | Saúde    | 5124727  | 1531793  |  951824  |  2860034 |  841937  |  3040775 |  5480849 |   195388 |    94738 |  964574  | 0.00119  |\n",
       "| DASA3    | 1962     | 2017     | Saúde    | 6246487  | 1576451  | 1493379  |  3335463 |  653235  |  3399308 |  8533894 |   180528 |   131443 | 1160728  | 0.00016  |\n",
       "| PNVL3    |  934     | 2015     | Saúde    |  759967  |  539884  |  315609  |   344142 |   72556  |  1986026 |  1259065 |    62001 |    45268 |  451572  | 0.00323  |\n",
       "| PNVL3    |  934     | 2016     | Saúde    |  820973  |  590440  |  370484  |   381650 |  101603  |  2128732 |  2854129 |    72712 |    53059 |  520285  | 0.00351  |\n",
       "| PNVL3    |  934     | 2017     | Saúde    |  950172  |  705024  |  403768  |   426747 |   40885  |  2258246 |  1787206 |    73945 |    59798 |  536510  | 0.00146  |\n",
       "| FLRY3    | 2188     | 2015     | Saúde    | 3203997  | 1132210  |  417657  |  1655439 |  368922  |  1894960 |  2500694 |   172480 |   107343 |  502886  | 0.06193  |\n",
       "| FLRY3    | 2188     | 2016     | Saúde    | 3005820  |  933225  |  409182  |  1535725 |  513870  |  2096113 |  5601154 |   294376 |   228749 |  601051  | 0.25374  |\n",
       "| FLRY3    | 2188     | 2017     | Saúde    | 3527332  | 1267037  |  639146  |  1706528 |  529607  |  2383012 |  9336394 |   427765 |   320618 |  736076  | 0.54972  |\n",
       "| ODPV3    | 2012     | 2015     | Saúde    | 1195650  |  479853  |  277316  |   651602 |  237090  |  1249691 |  4991078 |   326917 |   220946 |  667163  | 0.38659  |\n",
       "| ODPV3    | 2012     | 2016     | Saúde    | 1358010  |  582291  |  307352  |   693575 |  196299  |  1365039 |  6689055 |   305467 |   215990 |  693235  | 0.35132  |\n",
       "| ODPV3    | 2012     | 2017     | Saúde    | 1389568  |  626227  |  425923  |   923242 |  289483  |  1437283 |  8448731 |   745397 |   502919 | 1042123  | 0.28193  |\n",
       "| OFSA3    | 2350     | 2015     | Saúde    |  693371  |  378377  |  149994  |   380181 |   15509  |   534045 |  1887441 |    87267 |    69192 |  297361  | 0.00708  |\n",
       "| OFSA3    | 2350     | 2016     | Saúde    |  775576  |  379922  |  142959  |   376334 |   42202  |   456587 |  1510572 |   -13350 |    -5206 |  226083  | 0.00312  |\n",
       "| OFSA3    | 2350     | 2017     | Saúde    |  810227  |  407296  |  276517  |   405879 |   99503  |   505281 |  1294776 |    49558 |    38108 |  266569  | 0.00247  |\n",
       "| PFRM3    | 2034     | 2015     | Saúde    | 2282159  | 1642637  | 1187526  |   667946 |   59265  |  3465143 |   203953 |   -19823 |   -21182 |  436969  | 0.01213  |\n",
       "| PFRM3    | 2034     | 2016     | Saúde    | 2712233  | 1692956  | 1156942  |   758956 | -107293  |  4084669 |   526270 |   -52418 |   -48963 |  625253  | 0.01504  |\n",
       "| PFRM3    | 2034     | 2017     | Saúde    | 2619492  | 1645464  | 1576748  |   745932 |  -51826  |  4100711 |   559555 |  -153614 |  -112720 |  700968  | 0.02076  |\n",
       "| QUAL3    | 2249     | 2015     | Saúde    | 3434432  |  710948  |  476831  |  1989850 |  570179  |  1730159 |  3875546 |   400783 |   227126 | 1274358  | 0.90501  |\n",
       "| QUAL3    | 2249     | 2016     | Saúde    | 3589787  |  892784  |  728650  |  2063510 |  621293  |  1964404 |  5304003 |   460434 |   404727 | 1461762  | 0.70798  |\n",
       "| QUAL3    | 2249     | 2017     | Saúde    | 3531358  | 1034181  |  407464  |  2366895 |  534648  |  2075289 |  8850873 |   583154 |   370710 | 1577907  | 0.88941  |\n",
       "| RADL3    |  525     | 2015     | Saúde    | 4699201  | 2685844  | 1648766  |  2633809 |  501695  |  8897849 | 11683067 |   435902 |   340206 | 2714560  | 0.73956  |\n",
       "| RADL3    |  525     | 2016     | Saúde    | 5659303  | 3427783  | 2184684  |  2909787 |  555529  | 11256565 | 20163856 |   595216 |   447685 | 3504143  | 0.87124  |\n",
       "| RADL3    |  525     | 2017     | Saúde    | 6464249  | 3928204  | 2493779  |  3222513 |  628840  | 13212505 | 30267547 |   686544 |   511163 | 3988000  | 0.87684  |\n",
       "\n"
      ],
      "text/plain": [
       "   cod   id   ano  setor AtvTotal AtvCirc PasCirc PatLiq   CxOper  RecLiq  \n",
       "1  BALM4  156 2015 Saúde  161822   108270   42945    86166    4694   112044\n",
       "2  BALM4  156 2016 Saúde  170692    95050   42355    87628     766   113105\n",
       "3  BALM4  156 2017 Saúde  180845   104603   54390    88569    5534   109753\n",
       "4  BIOM3 1930 2015 Saúde  229673   130406   13862   115128  -13899        0\n",
       "5  BIOM3 1930 2016 Saúde  237385    51491   19723    65929  -38281        0\n",
       "6  BIOM3 1930 2017 Saúde  262387    64367   43317    59301  -54405      103\n",
       "7  BPHA3 2250 2015 Saúde 2333307   817919 1703057   544362   39378  3387469\n",
       "8  BPHA3 2250 2016 Saúde 1458384   219497 1031504   304336   25249  1502656\n",
       "9  BPHA3 2250 2017 Saúde  144941    56273 1375821 -1317339 -330065   516786\n",
       "10 CREM3 2014 2015 Saúde  828153   478956  347513   173971   13836   874403\n",
       "11 CREM3 2014 2016 Saúde  636632   323852  315504   152546   -6149   741477\n",
       "12 CREM3 2014 2017 Saúde  671562   394211  321445   168356   66315   652407\n",
       "13 DASA3 1962 2015 Saúde 4681796  1352144  748472  2789044  494329  2794399\n",
       "14 DASA3 1962 2016 Saúde 5124727  1531793  951824  2860034  841937  3040775\n",
       "15 DASA3 1962 2017 Saúde 6246487  1576451 1493379  3335463  653235  3399308\n",
       "16 PNVL3  934 2015 Saúde  759967   539884  315609   344142   72556  1986026\n",
       "17 PNVL3  934 2016 Saúde  820973   590440  370484   381650  101603  2128732\n",
       "18 PNVL3  934 2017 Saúde  950172   705024  403768   426747   40885  2258246\n",
       "19 FLRY3 2188 2015 Saúde 3203997  1132210  417657  1655439  368922  1894960\n",
       "20 FLRY3 2188 2016 Saúde 3005820   933225  409182  1535725  513870  2096113\n",
       "21 FLRY3 2188 2017 Saúde 3527332  1267037  639146  1706528  529607  2383012\n",
       "22 ODPV3 2012 2015 Saúde 1195650   479853  277316   651602  237090  1249691\n",
       "23 ODPV3 2012 2016 Saúde 1358010   582291  307352   693575  196299  1365039\n",
       "24 ODPV3 2012 2017 Saúde 1389568   626227  425923   923242  289483  1437283\n",
       "25 OFSA3 2350 2015 Saúde  693371   378377  149994   380181   15509   534045\n",
       "26 OFSA3 2350 2016 Saúde  775576   379922  142959   376334   42202   456587\n",
       "27 OFSA3 2350 2017 Saúde  810227   407296  276517   405879   99503   505281\n",
       "28 PFRM3 2034 2015 Saúde 2282159  1642637 1187526   667946   59265  3465143\n",
       "29 PFRM3 2034 2016 Saúde 2712233  1692956 1156942   758956 -107293  4084669\n",
       "30 PFRM3 2034 2017 Saúde 2619492  1645464 1576748   745932  -51826  4100711\n",
       "31 QUAL3 2249 2015 Saúde 3434432   710948  476831  1989850  570179  1730159\n",
       "32 QUAL3 2249 2016 Saúde 3589787   892784  728650  2063510  621293  1964404\n",
       "33 QUAL3 2249 2017 Saúde 3531358  1034181  407464  2366895  534648  2075289\n",
       "34 RADL3  525 2015 Saúde 4699201  2685844 1648766  2633809  501695  8897849\n",
       "35 RADL3  525 2016 Saúde 5659303  3427783 2184684  2909787  555529 11256565\n",
       "36 RADL3  525 2017 Saúde 6464249  3928204 2493779  3222513  628840 13212505\n",
       "   VrMerc   LAIR     LucroLiquido LucroBruto LiqBolsa\n",
       "1     87808    21246    14111       67957    0.00004 \n",
       "2     79576     5428     3016       70046    0.00004 \n",
       "3     86240     2451      675       63469    0.00003 \n",
       "4    172631    15620     8282           0    0.00064 \n",
       "5    198834   -50020   -45608           0    0.00029 \n",
       "6    335436   -41032   -38128          36    0.00071 \n",
       "7     35942  -701171  -654545      918389    0.03551 \n",
       "8    506603  -638752  -634341      461469    0.02689 \n",
       "9    411615 -1581172 -1621675      159151    0.01407 \n",
       "10   525484    21333    25219      257311    0.00007 \n",
       "11   261968    10695     7883      223273    0.00006 \n",
       "12   498748    18195    14368      202342    0.00032 \n",
       "13  3139982    53312    23813      768403    0.00613 \n",
       "14  5480849   195388    94738      964574    0.00119 \n",
       "15  8533894   180528   131443     1160728    0.00016 \n",
       "16  1259065    62001    45268      451572    0.00323 \n",
       "17  2854129    72712    53059      520285    0.00351 \n",
       "18  1787206    73945    59798      536510    0.00146 \n",
       "19  2500694   172480   107343      502886    0.06193 \n",
       "20  5601154   294376   228749      601051    0.25374 \n",
       "21  9336394   427765   320618      736076    0.54972 \n",
       "22  4991078   326917   220946      667163    0.38659 \n",
       "23  6689055   305467   215990      693235    0.35132 \n",
       "24  8448731   745397   502919     1042123    0.28193 \n",
       "25  1887441    87267    69192      297361    0.00708 \n",
       "26  1510572   -13350    -5206      226083    0.00312 \n",
       "27  1294776    49558    38108      266569    0.00247 \n",
       "28   203953   -19823   -21182      436969    0.01213 \n",
       "29   526270   -52418   -48963      625253    0.01504 \n",
       "30   559555  -153614  -112720      700968    0.02076 \n",
       "31  3875546   400783   227126     1274358    0.90501 \n",
       "32  5304003   460434   404727     1461762    0.70798 \n",
       "33  8850873   583154   370710     1577907    0.88941 \n",
       "34 11683067   435902   340206     2714560    0.73956 \n",
       "35 20163856   595216   447685     3504143    0.87124 \n",
       "36 30267547   686544   511163     3988000    0.87684 "
      ]
     },
     "metadata": {},
     "output_type": "display_data"
    }
   ],
   "source": [
    "BD.Aula1[grep(\"Saú\", setor)] # Escolhido o setor que contem o padrão informado entre aspas"
   ]
  },
  {
   "cell_type": "markdown",
   "metadata": {},
   "source": [
    "### Como facilitar a visualização do panorama da empresa?\n",
    "\n",
    "#### Vamos discutir sobre índices, gráficos e comparações intra/inter empresas/mercado"
   ]
  },
  {
   "cell_type": "markdown",
   "metadata": {},
   "source": [
    "A utilização de índices é importante, pois mitiga o efeito dos números absolutos. Por exemplo, a PETROBRAS possui mais ativos que a ALUPAR. Na mesma linha, é de se esperar que o valor absoluto do lucro da Petrobras seja superior ao da ALUPAR. Contudo, será que a relação entre o lucro gerado pelos ativos da PETROBRAS é superior ao lucro gerado pelos ativos da ALUPAR?"
   ]
  },
  {
   "cell_type": "markdown",
   "metadata": {},
   "source": [
    "## Vamos ver graficamente"
   ]
  },
  {
   "cell_type": "code",
   "execution_count": 16,
   "metadata": {},
   "outputs": [
    {
     "data": {
      "image/png": "[encoded data removed]",
      "text/plain": [
       "plot without title"
      ]
     },
     "metadata": {},
     "output_type": "display_data"
    }
   ],
   "source": [
    "ggplot(setorial, aes(x = ano, y = AtivoMedio)) +\n",
    "geom_bar(stat = \"identity\", aes(fill = setor), position = \"dodge\") +\n",
    "theme(legend.position = \"bottom\", panel.background = element_blank()) +\n",
    "annotate(\"text\", x = 2016.1, y = 130000000, label = \"Temos influência da Petrobras?\")"
   ]
  },
  {
   "cell_type": "code",
   "execution_count": 17,
   "metadata": {},
   "outputs": [],
   "source": [
    "setorial2 <- BD.Aula1[cod != \"PETR4\", .(qdeOBS = .N, qdeEmpresas = .N/3, AtivoMedio = mean(AtvTotal)), by = .(setor, ano)][order(AtivoMedio, decreasing = T)] # O codigo da petrobras no banco de dados é PETR4"
   ]
  },
  {
   "cell_type": "code",
   "execution_count": 18,
   "metadata": {
    "scrolled": true
   },
   "outputs": [
    {
     "data": {
      "image/png": "[encoded data removed]",
      "text/plain": [
       "plot without title"
      ]
     },
     "metadata": {},
     "output_type": "display_data"
    }
   ],
   "source": [
    "ggplot(setorial2, aes(reorder(setor, AtivoMedio), AtivoMedio, fill = factor(ano))) +\n",
    "geom_col(position = \"dodge\") + coord_flip() +\n",
    "theme(legend.position = \"bottom\", panel.background = element_blank(), axis.title=element_blank(), axis.text.x=element_blank())\n",
    "\n"
   ]
  },
  {
   "cell_type": "markdown",
   "metadata": {},
   "source": [
    "Para usar índices temos:\n",
    "\n",
    "\\begin{align*}\n",
    "INDICE &= \\frac{LUCRO}{ATIVO}\n",
    "\\end{align*}"
   ]
  },
  {
   "cell_type": "code",
   "execution_count": 19,
   "metadata": {},
   "outputs": [
    {
     "data": {
      "text/html": [
       "<table>\n",
       "<thead><tr><th scope=col>setor</th><th scope=col>ano</th><th scope=col>indice</th></tr></thead>\n",
       "<tbody>\n",
       "\t<tr><td>Consumo não cíclico</td><td>2015               </td><td>-0.118             </td></tr>\n",
       "\t<tr><td>Consumo não cíclico</td><td>2016               </td><td>-0.016             </td></tr>\n",
       "\t<tr><td>Consumo não cíclico</td><td>2017               </td><td>-0.090             </td></tr>\n",
       "\t<tr><td>Utilidade pública  </td><td>2015               </td><td> 0.029             </td></tr>\n",
       "\t<tr><td>Utilidade pública  </td><td>2016               </td><td> 0.156             </td></tr>\n",
       "\t<tr><td>Utilidade pública  </td><td>2017               </td><td> 0.028             </td></tr>\n",
       "</tbody>\n",
       "</table>\n"
      ],
      "text/latex": [
       "\\begin{tabular}{r|lll}\n",
       " setor & ano & indice\\\\\n",
       "\\hline\n",
       "\t Consumo não cíclico & 2015                & -0.118             \\\\\n",
       "\t Consumo não cíclico & 2016                & -0.016             \\\\\n",
       "\t Consumo não cíclico & 2017                & -0.090             \\\\\n",
       "\t Utilidade pública   & 2015                &  0.029             \\\\\n",
       "\t Utilidade pública   & 2016                &  0.156             \\\\\n",
       "\t Utilidade pública   & 2017                &  0.028             \\\\\n",
       "\\end{tabular}\n"
      ],
      "text/markdown": [
       "\n",
       "| setor | ano | indice |\n",
       "|---|---|---|\n",
       "| Consumo não cíclico | 2015                | -0.118              |\n",
       "| Consumo não cíclico | 2016                | -0.016              |\n",
       "| Consumo não cíclico | 2017                | -0.090              |\n",
       "| Utilidade pública   | 2015                |  0.029              |\n",
       "| Utilidade pública   | 2016                |  0.156              |\n",
       "| Utilidade pública   | 2017                |  0.028              |\n",
       "\n"
      ],
      "text/plain": [
       "  setor               ano  indice\n",
       "1 Consumo não cíclico 2015 -0.118\n",
       "2 Consumo não cíclico 2016 -0.016\n",
       "3 Consumo não cíclico 2017 -0.090\n",
       "4 Utilidade pública   2015  0.029\n",
       "5 Utilidade pública   2016  0.156\n",
       "6 Utilidade pública   2017  0.028"
      ]
     },
     "metadata": {},
     "output_type": "display_data"
    }
   ],
   "source": [
    "resultSetor <- BD.Aula1[, .(indice = round(mean(LucroLiquido/AtvTotal), 3)), by = .(setor, ano)]\n",
    "head(resultSetor)"
   ]
  },
  {
   "cell_type": "code",
   "execution_count": 20,
   "metadata": {
    "scrolled": true
   },
   "outputs": [
    {
     "data": {
      "image/png": "[encoded data removed]",
      "text/plain": [
       "plot without title"
      ]
     },
     "metadata": {},
     "output_type": "display_data"
    }
   ],
   "source": [
    "ggplot(resultSetor, aes(reorder(setor, indice), indice, fill = factor(ano))) +\n",
    "geom_col(position = \"dodge\") + coord_flip() +\n",
    "theme(legend.position = \"bottom\", panel.background = element_blank(), axis.title=element_blank(),\n",
    "      axis.text.x=element_blank(), legend.title = element_blank()) +\n",
    "geom_text(aes(y = indice + 0.1 * sign(indice), label = indice), \n",
    "              position = position_dodge(width = 0.9), size = 3, color = \"red\", fontface = \"bold\")"
   ]
  },
  {
   "cell_type": "code",
   "execution_count": 22,
   "metadata": {
    "scrolled": true
   },
   "outputs": [
    {
     "data": {
      "image/png": "[encoded data removed]",
      "text/plain": [
       "plot without title"
      ]
     },
     "metadata": {},
     "output_type": "display_data"
    }
   ],
   "source": [
    "ggplot(resultSetor[substr(setor, 1, 4) %in% c(\"Petr\", \"Tele\", \"Cons\")], aes(ano, indice, col = setor)) +\n",
    "geom_line() +\n",
    "theme(legend.position = \"right\", panel.background = element_blank(), axis.title=element_blank(), legend.title = element_blank()) +\n",
    "labs(title = \"Grafico em linha\", subtitle = \"Aula1\", caption = \"Gráfico para disciplina de Análise (Prof. Kléber Formiga)\")"
   ]
  },
  {
   "cell_type": "markdown",
   "metadata": {},
   "source": [
    "### Até aqui vimos\n",
    "* Tabelas\n",
    "* Gráficos\n",
    "* Tendências\n",
    "* Importância do setor\n",
    "* Noção da necessidade de índices\n",
    "* Formas de comunicar informações financeiras\n",
    "\n",
    "<br>\n",
    "Para a proxima aula, trazer as diferenças entre os setores indicados no gráfico anterior. A intenção é discutir o que pode diferenciar nos números das empresas de um setor em relação às de outro."
   ]
  },
  {
   "cell_type": "code",
   "execution_count": null,
   "metadata": {},
   "outputs": [],
   "source": []
  }
 ],
 "metadata": {
  "kernelspec": {
   "display_name": "R",
   "language": "R",
   "name": "ir"
  },
  "language_info": {
   "codemirror_mode": "r",
   "file_extension": ".r",
   "mimetype": "text/x-r-source",
   "name": "R",
   "pygments_lexer": "r",
   "version": "3.6.0"
  }
 },
 "nbformat": 4,
 "nbformat_minor": 2
}
