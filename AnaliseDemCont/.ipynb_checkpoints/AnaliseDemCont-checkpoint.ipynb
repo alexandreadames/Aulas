{
 "cells": [
  {
   "cell_type": "markdown",
   "metadata": {},
   "source": [
    "<img src=\"Imagens/logo.jpg\">"
   ]
  },
  {
   "cell_type": "markdown",
   "metadata": {},
   "source": [
    "## **Disciplina**: Análise das Demonstrações Contábeis\n",
    "## **Professor**: Kléber Formiga Miranda"
   ]
  },
  {
   "cell_type": "markdown",
   "metadata": {},
   "source": [
    "***\n",
    "### Índice\n",
    "[Aula 1](#Aula1)\n"
   ]
  },
  {
   "cell_type": "markdown",
   "metadata": {},
   "source": [
    "***\n",
    "\n",
    "**Objetivos**: Proporcionar aos discentes ferramentas para analisar os aspectos patrimoniais, financeiros e de desempenho das organizações, os motivos que determinam a evolução apresentada e as tendências futuras, fornecendo informações úteis para tomada de decisão dos diversos agentes econômicos."
   ]
  },
  {
   "cell_type": "markdown",
   "metadata": {},
   "source": [
    "Leituras recomendadas:&nbsp;\n",
    "\n",
    "* [Análise Financeira - Accounting Tools](https://www.accountingtools.com/articles/2017/5/14/financial-statement-analysis)\n",
    "* [Outro texto](https://investinganswers.com/articles/financial-statement-analysis-beginners)"
   ]
  },
  {
   "cell_type": "markdown",
   "metadata": {},
   "source": [
    "***\n",
    "### Aula 1 <a class=\"anchor\" id=\"Aula1\"></a>\n",
    "Conhecer"
   ]
  },
  {
   "cell_type": "code",
   "execution_count": null,
   "metadata": {},
   "outputs": [],
   "source": []
  }
 ],
 "metadata": {
  "kernelspec": {
   "display_name": "R",
   "language": "R",
   "name": "ir"
  },
  "language_info": {
   "codemirror_mode": "r",
   "file_extension": ".r",
   "mimetype": "text/x-r-source",
   "name": "R",
   "pygments_lexer": "r",
   "version": "3.6.0"
  }
 },
 "nbformat": 4,
 "nbformat_minor": 2
}
