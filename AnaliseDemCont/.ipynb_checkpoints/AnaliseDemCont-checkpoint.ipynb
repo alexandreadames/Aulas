{
 "cells": [
  {
   "cell_type": "markdown",
   "metadata": {},
   "source": [
    "### **Disciplina**: Análise das Demonstrações Contábeis\n",
    "\n",
    "### **Professor**: Kléber Formiga Miranda"
   ]
  },
  {
   "cell_type": "markdown",
   "metadata": {},
   "source": [
    "***\n",
    "\n",
    "**Objetivos**: Proporcionar aos discentes ferramentas para analisar os aspectos patrimoniais, financeiros e de desempenho das organizações, os motivos que determinam a evolução apresentada e as tendências futuras, fornecendo informações úteis para tomada de decisão dos diversos agentes econômicos."
   ]
  },
  {
   "cell_type": "markdown",
   "metadata": {},
   "source": [
    "Leituras recomendadas:&nbsp;\n",
    "\n",
    "* [Análise Financeira - Accounting Tools](https://www.accountingtools.com/articles/2017/5/14/financial-statement-analysis)\n",
    "* [Outro texto](https://investinganswers.com/articles/financial-statement-analysis-beginners)"
   ]
  },
  {
   "cell_type": "markdown",
   "metadata": {},
   "source": [
    "***\n",
    "### Aula 1\n",
    "Objetivo: *Discutir a necessidade da análise das demonstrações contábeis com foco no objetivo de cada usuário.*"
   ]
  },
  {
   "cell_type": "markdown",
   "metadata": {},
   "source": [
    "### Questões:\n",
    "\n",
    "1. Para QUE serve a análise das demonstrações contábeis?\n",
    "2. Para QUEM serve a análise das demonstrações contábeis?\n",
    "3. Quais informações utilizar? Sempre as mesmas? Apenas contábeis?\n",
    "4. Os números apresentados pela contabilidade são sensíveis a fatores externos a empresa (inflação, tempo, política, etc)?\n",
    "\n",
    "[Vamos ver uma notícia](http://www.valor.com.br/empresas/6397595/azul-tem-maior-rentabilidade-no-trimestre)\n",
    "\n",
    "\n",
    "### Para pensar sobre isso, vamos ver um caso prático com dados obtidos na plataforma Economatica(R)."
   ]
  },
  {
   "cell_type": "code",
   "execution_count": 16,
   "metadata": {},
   "outputs": [],
   "source": [
    "library(repr)\n",
    "options(repr.plot.width=10, repr.plot.height=5)"
   ]
  },
  {
   "cell_type": "code",
   "execution_count": 17,
   "metadata": {
    "scrolled": false
   },
   "outputs": [
    {
     "name": "stdout",
     "output_type": "stream",
     "text": [
      "Classes 'data.table' and 'data.frame':\t711 obs. of  15 variables:\n",
      " $ cod         : chr  \"ADHM3\" \"ADHM3\" \"ADHM3\" \"AELP3\" ...\n",
      " $ id          : chr  \"2172\" \"2172\" \"2172\" \"1931\" ...\n",
      " $ ano         : chr  \"2015\" \"2016\" \"2017\" \"2015\" ...\n",
      " $ econo_bov   : Factor w/ 10 levels \"Bens industriais\",..: 3 3 3 10 10 10 4 4 4 4 ...\n",
      " $ AtvTotal    : num  6681 2750 2409 13872026 50040 ...\n",
      " $ AtvCirc     : num  570 957 357 4609746 28108 ...\n",
      " $ PasCirc     : num  34931 3278 7931 4508669 11979 ...\n",
      " $ PatLiq      : num  -35587 -4232 -9328 1459965 16216 ...\n",
      " $ CxOper      : num  -26 -32802 -180 -316155 1702442 ...\n",
      " $ RecLiq      : num  0 0 18 13667413 0 ...\n",
      " $ VrMerc      : num  9763 23898 15428 538045 1236744 ...\n",
      " $ LAIR        : num  -12533 -5448 -5411 112769 535 ...\n",
      " $ LucroLiquido: num  -14799 -1817 -5411 -15532 226577 ...\n",
      " $ LucroBruto  : num  0 0 18 471607 -1278 ...\n",
      " $ LiqBolsa    : num  0.00434 0.00869 0.00273 0.00028 0.00022 0.00008 0 0.00001 0 0.00007 ...\n",
      " - attr(*, \".internal.selfref\")=<externalptr> \n"
     ]
    }
   ],
   "source": [
    "# Baixando o arquivo BDAula1.rds para exemplos\n",
    "options(scipen=999) # Opção para não  mostrar número em formato centífico (ex.: 9.28140e-01) \n",
    "options(warn=0)  # retira os avisos\n",
    "BD.Aula1 <- readRDS(\"Dados/BDAula1.rds\") # Atribuido o nome BD.Aula1 ao banco de dados (objeto)\n",
    "library(data.table); library(readxl); library(tidyverse) # pacotes para manipulação de dados\n",
    "str(BD.Aula1) # Verificando a estrutura do banco de dados"
   ]
  },
  {
   "cell_type": "code",
   "execution_count": 18,
   "metadata": {
    "scrolled": true
   },
   "outputs": [
    {
     "name": "stdout",
     "output_type": "stream",
     "text": [
      "Classes 'data.table' and 'data.frame':\t711 obs. of  15 variables:\n",
      " $ cod         : chr  \"ADHM3\" \"ADHM3\" \"ADHM3\" \"AELP3\" ...\n",
      " $ id          : num  2172 2172 2172 1931 1931 ...\n",
      " $ ano         : num  2015 2016 2017 2015 2016 ...\n",
      " $ setor       : Factor w/ 10 levels \"Bens industriais\",..: 3 3 3 10 10 10 4 4 4 4 ...\n",
      " $ AtvTotal    : num  6681 2750 2409 13872026 50040 ...\n",
      " $ AtvCirc     : num  570 957 357 4609746 28108 ...\n",
      " $ PasCirc     : num  34931 3278 7931 4508669 11979 ...\n",
      " $ PatLiq      : num  -35587 -4232 -9328 1459965 16216 ...\n",
      " $ CxOper      : num  -26 -32802 -180 -316155 1702442 ...\n",
      " $ RecLiq      : num  0 0 18 13667413 0 ...\n",
      " $ VrMerc      : num  9763 23898 15428 538045 1236744 ...\n",
      " $ LAIR        : num  -12533 -5448 -5411 112769 535 ...\n",
      " $ LucroLiquido: num  -14799 -1817 -5411 -15532 226577 ...\n",
      " $ LucroBruto  : num  0 0 18 471607 -1278 ...\n",
      " $ LiqBolsa    : num  0.00434 0.00869 0.00273 0.00028 0.00022 0.00008 0 0.00001 0 0.00007 ...\n",
      " - attr(*, \".internal.selfref\")=<externalptr> \n"
     ]
    }
   ],
   "source": [
    "BD.Aula1$id <- as.numeric(BD.Aula1$id) # transformando o id da empresa para formato numérico\n",
    "BD.Aula1$ano <- as.numeric(BD.Aula1$ano) # transformando o ano para formato numérico\n",
    "setnames(BD.Aula1, \"econo_bov\", \"setor\") # trocando o nome da variavel econo_bov para setor (mais sugestivo)\n",
    "str(BD.Aula1) # verificando se a estrutura dessas duas variáveis foram alteradas"
   ]
  },
  {
   "cell_type": "markdown",
   "metadata": {},
   "source": [
    "### Questões\n",
    "\n",
    "1. O que podemos observar nesse banco de dados?\n",
    "2. É possível fazer alguma análise?\n"
   ]
  },
  {
   "cell_type": "code",
   "execution_count": 4,
   "metadata": {
    "scrolled": true
   },
   "outputs": [
    {
     "data": {
      "text/html": [
       "<table>\n",
       "<thead><tr><th scope=col>cod</th><th scope=col>id</th><th scope=col>ano</th><th scope=col>setor</th><th scope=col>AtvTotal</th><th scope=col>AtvCirc</th><th scope=col>PasCirc</th><th scope=col>PatLiq</th><th scope=col>CxOper</th><th scope=col>RecLiq</th><th scope=col>VrMerc</th><th scope=col>LAIR</th><th scope=col>LucroLiquido</th><th scope=col>LucroBruto</th><th scope=col>LiqBolsa</th></tr></thead>\n",
       "<tbody>\n",
       "\t<tr><td>ADHM3              </td><td>2172               </td><td>2015               </td><td>Consumo não cíclico</td><td>    6681           </td><td>     570           </td><td>   34931           </td><td>  -35587           </td><td>     -26           </td><td>       0           </td><td>     9763          </td><td>  -12533           </td><td>  -14799           </td><td>       0           </td><td>     0.00434       </td></tr>\n",
       "\t<tr><td>ADHM3              </td><td>2172               </td><td>2016               </td><td>Consumo não cíclico</td><td>    2750           </td><td>     957           </td><td>    3278           </td><td>   -4232           </td><td>  -32802           </td><td>       0           </td><td>    23898          </td><td>   -5448           </td><td>   -1817           </td><td>       0           </td><td>     0.00869       </td></tr>\n",
       "\t<tr><td>ADHM3              </td><td>2172               </td><td>2017               </td><td>Consumo não cíclico</td><td>    2409           </td><td>     357           </td><td>    7931           </td><td>   -9328           </td><td>    -180           </td><td>      18           </td><td>    15428          </td><td>   -5411           </td><td>   -5411           </td><td>      18           </td><td>     0.00273       </td></tr>\n",
       "\t<tr><td>AELP3              </td><td>1931               </td><td>2015               </td><td>Utilidade pública  </td><td>13872026           </td><td> 4609746           </td><td> 4508669           </td><td> 1459965           </td><td> -316155           </td><td>13667413           </td><td>   538045          </td><td>  112769           </td><td>  -15532           </td><td>  471607           </td><td>     0.00028       </td></tr>\n",
       "\t<tr><td>AELP3              </td><td>1931               </td><td>2016               </td><td>Utilidade pública  </td><td>   50040           </td><td>   28108           </td><td>   11979           </td><td>   16216           </td><td> 1702442           </td><td>       0           </td><td>  1236744          </td><td>     535           </td><td>  226577           </td><td>   -1278           </td><td>     0.00022       </td></tr>\n",
       "\t<tr><td>AELP3              </td><td>1931               </td><td>2017               </td><td>Utilidade pública  </td><td>   34273           </td><td>   11157           </td><td>   12008           </td><td>    -759           </td><td>       0           </td><td>       0           </td><td>   470674          </td><td>     181           </td><td>     130           </td><td>    -765           </td><td>     0.00008       </td></tr>\n",
       "\t<tr><td>BRGE6              </td><td> 470               </td><td>2015               </td><td>Financeiro e outros</td><td> 3034511           </td><td> 1720799           </td><td> 1155473           </td><td>  999692           </td><td>  126222           </td><td>   27701           </td><td>   336882          </td><td>  118269           </td><td>   64225           </td><td>  -71286           </td><td>     0.00000       </td></tr>\n",
       "\t<tr><td>BRGE6              </td><td> 470               </td><td>2016               </td><td>Financeiro e outros</td><td> 3247532           </td><td> 1855664           </td><td> 1282724           </td><td> 1044205           </td><td>  123703           </td><td>   30556           </td><td>   212774          </td><td>  122897           </td><td>   61175           </td><td>  -58695           </td><td>     0.00001       </td></tr>\n",
       "\t<tr><td>BRGE6              </td><td> 470               </td><td>2017               </td><td>Financeiro e outros</td><td> 3141175           </td><td> 1880712           </td><td> 1293229           </td><td> 1090754           </td><td>  136395           </td><td>   25294           </td><td>   248995          </td><td>  108806           </td><td>   51187           </td><td>  -65916           </td><td>     0.00000       </td></tr>\n",
       "\t<tr><td>RPAD5              </td><td> 995               </td><td>2015               </td><td>Financeiro e outros</td><td>  857499           </td><td>    9396           </td><td>    5830           </td><td>  851427           </td><td>   -2423           </td><td>     189           </td><td>   209630          </td><td>   51585           </td><td>   51537           </td><td>     162           </td><td>     0.00007       </td></tr>\n",
       "\t<tr><td>RPAD5              </td><td> 995               </td><td>2016               </td><td>Financeiro e outros</td><td>  889310           </td><td>    6243           </td><td>    6114           </td><td>  882902           </td><td>   -2489           </td><td>     239           </td><td>   341428          </td><td>   50735           </td><td>   50783           </td><td>     227           </td><td>     0.00027       </td></tr>\n",
       "\t<tr><td>RPAD5              </td><td> 995               </td><td>2017               </td><td>Financeiro e outros</td><td>  925349           </td><td>   22302           </td><td>    6631           </td><td>  918365           </td><td>   -2595           </td><td>     308           </td><td>   249601          </td><td>   40621           </td><td>   43536           </td><td>     293           </td><td>     0.00006       </td></tr>\n",
       "\t<tr><td>ALSC3              </td><td>2130               </td><td>2015               </td><td>Financeiro e outros</td><td> 4115208           </td><td>  297078           </td><td>  320420           </td><td> 1819779           </td><td>  306164           </td><td>  494799           </td><td>  1762757          </td><td>  184162           </td><td>  131971           </td><td>  369745           </td><td>     0.12896       </td></tr>\n",
       "\t<tr><td>ALSC3              </td><td>2130               </td><td>2016               </td><td>Financeiro e outros</td><td> 4896895           </td><td>  921565           </td><td>  557181           </td><td> 2404431           </td><td>  234013           </td><td>  487551           </td><td>  2919162          </td><td>    4177           </td><td>  -17766           </td><td>  364143           </td><td>     0.13409       </td></tr>\n",
       "\t<tr><td>ALSC3              </td><td>2130               </td><td>2017               </td><td>Financeiro e outros</td><td> 4793893           </td><td>  713202           </td><td>  254062           </td><td> 2465415           </td><td>  390669           </td><td>  507691           </td><td>  3656124          </td><td>  125022           </td><td>   94539           </td><td>  377152           </td><td>     0.16624       </td></tr>\n",
       "\t<tr><td>ALPA4              </td><td>1045               </td><td>2015               </td><td>Consumo cíclico    </td><td> 3763470           </td><td> 2208631           </td><td> 1309519           </td><td> 1839529           </td><td>  407319           </td><td> 4126254           </td><td>  3880414          </td><td>  306000           </td><td>  272314           </td><td> 1759426           </td><td>     0.11066       </td></tr>\n",
       "\t<tr><td>ALPA4              </td><td>1045               </td><td>2016               </td><td>Consumo cíclico    </td><td> 3782052           </td><td> 2262005           </td><td>  994530           </td><td> 1976023           </td><td>  340971           </td><td> 4054404           </td><td>  4362152          </td><td>  385281           </td><td>  361567           </td><td> 1800284           </td><td>     0.12783       </td></tr>\n",
       "\t<tr><td>ALPA4              </td><td>1045               </td><td>2017               </td><td>Consumo cíclico    </td><td> 3853454           </td><td> 2439913           </td><td> 1121505           </td><td> 2186390           </td><td>  303003           </td><td> 3721863           </td><td>  7981233          </td><td>  305795           </td><td>  362289           </td><td> 1639602           </td><td>     0.16364       </td></tr>\n",
       "\t<tr><td>ALUP11             </td><td>2149               </td><td>2015               </td><td>Utilidade pública  </td><td>10011663           </td><td> 2320219           </td><td> 1927256           </td><td> 2510077           </td><td> 1263031           </td><td> 1493559           </td><td>  2739153          </td><td>  649522           </td><td>  209169           </td><td> 1153621           </td><td>     0.06983       </td></tr>\n",
       "\t<tr><td>ALUP11             </td><td>2149               </td><td>2016               </td><td>Utilidade pública  </td><td>10230001           </td><td> 2577166           </td><td> 1777465           </td><td> 2899182           </td><td> 1135442           </td><td> 1553811           </td><td>  5365648          </td><td>  811193           </td><td>  310812           </td><td> 1213610           </td><td>     0.11389       </td></tr>\n",
       "\t<tr><td>ALUP11             </td><td>2149               </td><td>2017               </td><td>Utilidade pública  </td><td>11463372           </td><td> 3597227           </td><td> 1705261           </td><td> 3883930           </td><td> 1105317           </td><td> 1538191           </td><td>  6273239          </td><td>  789721           </td><td>  330885           </td><td> 1131110           </td><td>     0.20849       </td></tr>\n",
       "\t<tr><td>ABEV3              </td><td>2326               </td><td>2015               </td><td>Consumo não cíclico</td><td>90176234           </td><td>28314489           </td><td>30141913           </td><td>48331883           </td><td>23580946           </td><td>46720141           </td><td>279978928          </td><td>16513389           </td><td>12423771           </td><td>30658770           </td><td>309636.00000       </td></tr>\n",
       "\t<tr><td>ABEV3              </td><td>2326               </td><td>2016               </td><td>Consumo não cíclico</td><td>83841418           </td><td>23886851           </td><td>28773650           </td><td>44825048           </td><td>12344513           </td><td>45602561           </td><td>257498089          </td><td>13398370           </td><td>12546610           </td><td>28924602           </td><td>332545.00000       </td></tr>\n",
       "\t<tr><td>ABEV3              </td><td>2326               </td><td>2017               </td><td>Consumo não cíclico</td><td>86851989           </td><td>24718073           </td><td>28688476           </td><td>46008814           </td><td>17874062           </td><td>47899276           </td><td>334313503          </td><td>12929802           </td><td> 7331968           </td><td>29857498           </td><td>286391.00000       </td></tr>\n",
       "\t<tr><td>CBEE3              </td><td> 305               </td><td>2015               </td><td>Utilidade pública  </td><td> 7818528           </td><td> 2265388           </td><td> 1906229           </td><td> 2513420           </td><td>  310808           </td><td> 5177380           </td><td>  3491039          </td><td>  -34667           </td><td>  -35234           </td><td>  495304           </td><td>     0.00005       </td></tr>\n",
       "\t<tr><td>CBEE3              </td><td> 305               </td><td>2016               </td><td>Utilidade pública  </td><td> 8104030           </td><td> 1733407           </td><td> 2147850           </td><td> 2269847           </td><td>  669294           </td><td> 4466988           </td><td>  4216709          </td><td> -316203           </td><td> -221832           </td><td>  507139           </td><td>     0.00002       </td></tr>\n",
       "\t<tr><td>CBEE3              </td><td> 305               </td><td>2017               </td><td>Utilidade pública  </td><td> 9330722           </td><td> 2156080           </td><td> 2685422           </td><td> 3356968           </td><td>  510816           </td><td> 5338280           </td><td>  4299157          </td><td> -148074           </td><td> -102977           </td><td>  626442           </td><td>     0.00002       </td></tr>\n",
       "\t<tr><td>ANIM3              </td><td>2324               </td><td>2015               </td><td>Consumo cíclico    </td><td> 1175777           </td><td>  394124           </td><td>  238064           </td><td>  642118           </td><td>  -35768           </td><td>  856620           </td><td>  1139776          </td><td>   58469           </td><td>   64203           </td><td>  364004           </td><td>     0.23466       </td></tr>\n",
       "\t<tr><td>ANIM3              </td><td>2324               </td><td>2016               </td><td>Consumo cíclico    </td><td> 1387852           </td><td>  434042           </td><td>  268289           </td><td>  635692           </td><td>  122084           </td><td>  960434           </td><td>  1090775          </td><td>   19318           </td><td>   20845           </td><td>  348851           </td><td>     0.05842       </td></tr>\n",
       "\t<tr><td>ANIM3              </td><td>2324               </td><td>2017               </td><td>Consumo cíclico    </td><td> 1338152           </td><td>  410012           </td><td>  221467           </td><td>  696441           </td><td>  157251           </td><td> 1045674           </td><td>  2257111          </td><td>   48319           </td><td>   85152           </td><td>  399133           </td><td>     0.05444       </td></tr>\n",
       "</tbody>\n",
       "</table>\n"
      ],
      "text/latex": [
       "\\begin{tabular}{r|lllllllllllllll}\n",
       " cod & id & ano & setor & AtvTotal & AtvCirc & PasCirc & PatLiq & CxOper & RecLiq & VrMerc & LAIR & LucroLiquido & LucroBruto & LiqBolsa\\\\\n",
       "\\hline\n",
       "\t ADHM3               & 2172                & 2015                & Consumo não cíclico &     6681            &      570            &    34931            &   -35587            &      -26            &        0            &      9763           &   -12533            &   -14799            &        0            &      0.00434       \\\\\n",
       "\t ADHM3               & 2172                & 2016                & Consumo não cíclico &     2750            &      957            &     3278            &    -4232            &   -32802            &        0            &     23898           &    -5448            &    -1817            &        0            &      0.00869       \\\\\n",
       "\t ADHM3               & 2172                & 2017                & Consumo não cíclico &     2409            &      357            &     7931            &    -9328            &     -180            &       18            &     15428           &    -5411            &    -5411            &       18            &      0.00273       \\\\\n",
       "\t AELP3               & 1931                & 2015                & Utilidade pública   & 13872026            &  4609746            &  4508669            &  1459965            &  -316155            & 13667413            &    538045           &   112769            &   -15532            &   471607            &      0.00028       \\\\\n",
       "\t AELP3               & 1931                & 2016                & Utilidade pública   &    50040            &    28108            &    11979            &    16216            &  1702442            &        0            &   1236744           &      535            &   226577            &    -1278            &      0.00022       \\\\\n",
       "\t AELP3               & 1931                & 2017                & Utilidade pública   &    34273            &    11157            &    12008            &     -759            &        0            &        0            &    470674           &      181            &      130            &     -765            &      0.00008       \\\\\n",
       "\t BRGE6               &  470                & 2015                & Financeiro e outros &  3034511            &  1720799            &  1155473            &   999692            &   126222            &    27701            &    336882           &   118269            &    64225            &   -71286            &      0.00000       \\\\\n",
       "\t BRGE6               &  470                & 2016                & Financeiro e outros &  3247532            &  1855664            &  1282724            &  1044205            &   123703            &    30556            &    212774           &   122897            &    61175            &   -58695            &      0.00001       \\\\\n",
       "\t BRGE6               &  470                & 2017                & Financeiro e outros &  3141175            &  1880712            &  1293229            &  1090754            &   136395            &    25294            &    248995           &   108806            &    51187            &   -65916            &      0.00000       \\\\\n",
       "\t RPAD5               &  995                & 2015                & Financeiro e outros &   857499            &     9396            &     5830            &   851427            &    -2423            &      189            &    209630           &    51585            &    51537            &      162            &      0.00007       \\\\\n",
       "\t RPAD5               &  995                & 2016                & Financeiro e outros &   889310            &     6243            &     6114            &   882902            &    -2489            &      239            &    341428           &    50735            &    50783            &      227            &      0.00027       \\\\\n",
       "\t RPAD5               &  995                & 2017                & Financeiro e outros &   925349            &    22302            &     6631            &   918365            &    -2595            &      308            &    249601           &    40621            &    43536            &      293            &      0.00006       \\\\\n",
       "\t ALSC3               & 2130                & 2015                & Financeiro e outros &  4115208            &   297078            &   320420            &  1819779            &   306164            &   494799            &   1762757           &   184162            &   131971            &   369745            &      0.12896       \\\\\n",
       "\t ALSC3               & 2130                & 2016                & Financeiro e outros &  4896895            &   921565            &   557181            &  2404431            &   234013            &   487551            &   2919162           &     4177            &   -17766            &   364143            &      0.13409       \\\\\n",
       "\t ALSC3               & 2130                & 2017                & Financeiro e outros &  4793893            &   713202            &   254062            &  2465415            &   390669            &   507691            &   3656124           &   125022            &    94539            &   377152            &      0.16624       \\\\\n",
       "\t ALPA4               & 1045                & 2015                & Consumo cíclico     &  3763470            &  2208631            &  1309519            &  1839529            &   407319            &  4126254            &   3880414           &   306000            &   272314            &  1759426            &      0.11066       \\\\\n",
       "\t ALPA4               & 1045                & 2016                & Consumo cíclico     &  3782052            &  2262005            &   994530            &  1976023            &   340971            &  4054404            &   4362152           &   385281            &   361567            &  1800284            &      0.12783       \\\\\n",
       "\t ALPA4               & 1045                & 2017                & Consumo cíclico     &  3853454            &  2439913            &  1121505            &  2186390            &   303003            &  3721863            &   7981233           &   305795            &   362289            &  1639602            &      0.16364       \\\\\n",
       "\t ALUP11              & 2149                & 2015                & Utilidade pública   & 10011663            &  2320219            &  1927256            &  2510077            &  1263031            &  1493559            &   2739153           &   649522            &   209169            &  1153621            &      0.06983       \\\\\n",
       "\t ALUP11              & 2149                & 2016                & Utilidade pública   & 10230001            &  2577166            &  1777465            &  2899182            &  1135442            &  1553811            &   5365648           &   811193            &   310812            &  1213610            &      0.11389       \\\\\n",
       "\t ALUP11              & 2149                & 2017                & Utilidade pública   & 11463372            &  3597227            &  1705261            &  3883930            &  1105317            &  1538191            &   6273239           &   789721            &   330885            &  1131110            &      0.20849       \\\\\n",
       "\t ABEV3               & 2326                & 2015                & Consumo não cíclico & 90176234            & 28314489            & 30141913            & 48331883            & 23580946            & 46720141            & 279978928           & 16513389            & 12423771            & 30658770            & 309636.00000       \\\\\n",
       "\t ABEV3               & 2326                & 2016                & Consumo não cíclico & 83841418            & 23886851            & 28773650            & 44825048            & 12344513            & 45602561            & 257498089           & 13398370            & 12546610            & 28924602            & 332545.00000       \\\\\n",
       "\t ABEV3               & 2326                & 2017                & Consumo não cíclico & 86851989            & 24718073            & 28688476            & 46008814            & 17874062            & 47899276            & 334313503           & 12929802            &  7331968            & 29857498            & 286391.00000       \\\\\n",
       "\t CBEE3               &  305                & 2015                & Utilidade pública   &  7818528            &  2265388            &  1906229            &  2513420            &   310808            &  5177380            &   3491039           &   -34667            &   -35234            &   495304            &      0.00005       \\\\\n",
       "\t CBEE3               &  305                & 2016                & Utilidade pública   &  8104030            &  1733407            &  2147850            &  2269847            &   669294            &  4466988            &   4216709           &  -316203            &  -221832            &   507139            &      0.00002       \\\\\n",
       "\t CBEE3               &  305                & 2017                & Utilidade pública   &  9330722            &  2156080            &  2685422            &  3356968            &   510816            &  5338280            &   4299157           &  -148074            &  -102977            &   626442            &      0.00002       \\\\\n",
       "\t ANIM3               & 2324                & 2015                & Consumo cíclico     &  1175777            &   394124            &   238064            &   642118            &   -35768            &   856620            &   1139776           &    58469            &    64203            &   364004            &      0.23466       \\\\\n",
       "\t ANIM3               & 2324                & 2016                & Consumo cíclico     &  1387852            &   434042            &   268289            &   635692            &   122084            &   960434            &   1090775           &    19318            &    20845            &   348851            &      0.05842       \\\\\n",
       "\t ANIM3               & 2324                & 2017                & Consumo cíclico     &  1338152            &   410012            &   221467            &   696441            &   157251            &  1045674            &   2257111           &    48319            &    85152            &   399133            &      0.05444       \\\\\n",
       "\\end{tabular}\n"
      ],
      "text/markdown": [
       "\n",
       "| cod | id | ano | setor | AtvTotal | AtvCirc | PasCirc | PatLiq | CxOper | RecLiq | VrMerc | LAIR | LucroLiquido | LucroBruto | LiqBolsa |\n",
       "|---|---|---|---|---|---|---|---|---|---|---|---|---|---|---|\n",
       "| ADHM3               | 2172                | 2015                | Consumo não cíclico |     6681            |      570            |    34931            |   -35587            |      -26            |        0            |      9763           |   -12533            |   -14799            |        0            |      0.00434        |\n",
       "| ADHM3               | 2172                | 2016                | Consumo não cíclico |     2750            |      957            |     3278            |    -4232            |   -32802            |        0            |     23898           |    -5448            |    -1817            |        0            |      0.00869        |\n",
       "| ADHM3               | 2172                | 2017                | Consumo não cíclico |     2409            |      357            |     7931            |    -9328            |     -180            |       18            |     15428           |    -5411            |    -5411            |       18            |      0.00273        |\n",
       "| AELP3               | 1931                | 2015                | Utilidade pública   | 13872026            |  4609746            |  4508669            |  1459965            |  -316155            | 13667413            |    538045           |   112769            |   -15532            |   471607            |      0.00028        |\n",
       "| AELP3               | 1931                | 2016                | Utilidade pública   |    50040            |    28108            |    11979            |    16216            |  1702442            |        0            |   1236744           |      535            |   226577            |    -1278            |      0.00022        |\n",
       "| AELP3               | 1931                | 2017                | Utilidade pública   |    34273            |    11157            |    12008            |     -759            |        0            |        0            |    470674           |      181            |      130            |     -765            |      0.00008        |\n",
       "| BRGE6               |  470                | 2015                | Financeiro e outros |  3034511            |  1720799            |  1155473            |   999692            |   126222            |    27701            |    336882           |   118269            |    64225            |   -71286            |      0.00000        |\n",
       "| BRGE6               |  470                | 2016                | Financeiro e outros |  3247532            |  1855664            |  1282724            |  1044205            |   123703            |    30556            |    212774           |   122897            |    61175            |   -58695            |      0.00001        |\n",
       "| BRGE6               |  470                | 2017                | Financeiro e outros |  3141175            |  1880712            |  1293229            |  1090754            |   136395            |    25294            |    248995           |   108806            |    51187            |   -65916            |      0.00000        |\n",
       "| RPAD5               |  995                | 2015                | Financeiro e outros |   857499            |     9396            |     5830            |   851427            |    -2423            |      189            |    209630           |    51585            |    51537            |      162            |      0.00007        |\n",
       "| RPAD5               |  995                | 2016                | Financeiro e outros |   889310            |     6243            |     6114            |   882902            |    -2489            |      239            |    341428           |    50735            |    50783            |      227            |      0.00027        |\n",
       "| RPAD5               |  995                | 2017                | Financeiro e outros |   925349            |    22302            |     6631            |   918365            |    -2595            |      308            |    249601           |    40621            |    43536            |      293            |      0.00006        |\n",
       "| ALSC3               | 2130                | 2015                | Financeiro e outros |  4115208            |   297078            |   320420            |  1819779            |   306164            |   494799            |   1762757           |   184162            |   131971            |   369745            |      0.12896        |\n",
       "| ALSC3               | 2130                | 2016                | Financeiro e outros |  4896895            |   921565            |   557181            |  2404431            |   234013            |   487551            |   2919162           |     4177            |   -17766            |   364143            |      0.13409        |\n",
       "| ALSC3               | 2130                | 2017                | Financeiro e outros |  4793893            |   713202            |   254062            |  2465415            |   390669            |   507691            |   3656124           |   125022            |    94539            |   377152            |      0.16624        |\n",
       "| ALPA4               | 1045                | 2015                | Consumo cíclico     |  3763470            |  2208631            |  1309519            |  1839529            |   407319            |  4126254            |   3880414           |   306000            |   272314            |  1759426            |      0.11066        |\n",
       "| ALPA4               | 1045                | 2016                | Consumo cíclico     |  3782052            |  2262005            |   994530            |  1976023            |   340971            |  4054404            |   4362152           |   385281            |   361567            |  1800284            |      0.12783        |\n",
       "| ALPA4               | 1045                | 2017                | Consumo cíclico     |  3853454            |  2439913            |  1121505            |  2186390            |   303003            |  3721863            |   7981233           |   305795            |   362289            |  1639602            |      0.16364        |\n",
       "| ALUP11              | 2149                | 2015                | Utilidade pública   | 10011663            |  2320219            |  1927256            |  2510077            |  1263031            |  1493559            |   2739153           |   649522            |   209169            |  1153621            |      0.06983        |\n",
       "| ALUP11              | 2149                | 2016                | Utilidade pública   | 10230001            |  2577166            |  1777465            |  2899182            |  1135442            |  1553811            |   5365648           |   811193            |   310812            |  1213610            |      0.11389        |\n",
       "| ALUP11              | 2149                | 2017                | Utilidade pública   | 11463372            |  3597227            |  1705261            |  3883930            |  1105317            |  1538191            |   6273239           |   789721            |   330885            |  1131110            |      0.20849        |\n",
       "| ABEV3               | 2326                | 2015                | Consumo não cíclico | 90176234            | 28314489            | 30141913            | 48331883            | 23580946            | 46720141            | 279978928           | 16513389            | 12423771            | 30658770            | 309636.00000        |\n",
       "| ABEV3               | 2326                | 2016                | Consumo não cíclico | 83841418            | 23886851            | 28773650            | 44825048            | 12344513            | 45602561            | 257498089           | 13398370            | 12546610            | 28924602            | 332545.00000        |\n",
       "| ABEV3               | 2326                | 2017                | Consumo não cíclico | 86851989            | 24718073            | 28688476            | 46008814            | 17874062            | 47899276            | 334313503           | 12929802            |  7331968            | 29857498            | 286391.00000        |\n",
       "| CBEE3               |  305                | 2015                | Utilidade pública   |  7818528            |  2265388            |  1906229            |  2513420            |   310808            |  5177380            |   3491039           |   -34667            |   -35234            |   495304            |      0.00005        |\n",
       "| CBEE3               |  305                | 2016                | Utilidade pública   |  8104030            |  1733407            |  2147850            |  2269847            |   669294            |  4466988            |   4216709           |  -316203            |  -221832            |   507139            |      0.00002        |\n",
       "| CBEE3               |  305                | 2017                | Utilidade pública   |  9330722            |  2156080            |  2685422            |  3356968            |   510816            |  5338280            |   4299157           |  -148074            |  -102977            |   626442            |      0.00002        |\n",
       "| ANIM3               | 2324                | 2015                | Consumo cíclico     |  1175777            |   394124            |   238064            |   642118            |   -35768            |   856620            |   1139776           |    58469            |    64203            |   364004            |      0.23466        |\n",
       "| ANIM3               | 2324                | 2016                | Consumo cíclico     |  1387852            |   434042            |   268289            |   635692            |   122084            |   960434            |   1090775           |    19318            |    20845            |   348851            |      0.05842        |\n",
       "| ANIM3               | 2324                | 2017                | Consumo cíclico     |  1338152            |   410012            |   221467            |   696441            |   157251            |  1045674            |   2257111           |    48319            |    85152            |   399133            |      0.05444        |\n",
       "\n"
      ],
      "text/plain": [
       "   cod    id   ano  setor               AtvTotal AtvCirc  PasCirc  PatLiq  \n",
       "1  ADHM3  2172 2015 Consumo não cíclico     6681      570    34931   -35587\n",
       "2  ADHM3  2172 2016 Consumo não cíclico     2750      957     3278    -4232\n",
       "3  ADHM3  2172 2017 Consumo não cíclico     2409      357     7931    -9328\n",
       "4  AELP3  1931 2015 Utilidade pública   13872026  4609746  4508669  1459965\n",
       "5  AELP3  1931 2016 Utilidade pública      50040    28108    11979    16216\n",
       "6  AELP3  1931 2017 Utilidade pública      34273    11157    12008     -759\n",
       "7  BRGE6   470 2015 Financeiro e outros  3034511  1720799  1155473   999692\n",
       "8  BRGE6   470 2016 Financeiro e outros  3247532  1855664  1282724  1044205\n",
       "9  BRGE6   470 2017 Financeiro e outros  3141175  1880712  1293229  1090754\n",
       "10 RPAD5   995 2015 Financeiro e outros   857499     9396     5830   851427\n",
       "11 RPAD5   995 2016 Financeiro e outros   889310     6243     6114   882902\n",
       "12 RPAD5   995 2017 Financeiro e outros   925349    22302     6631   918365\n",
       "13 ALSC3  2130 2015 Financeiro e outros  4115208   297078   320420  1819779\n",
       "14 ALSC3  2130 2016 Financeiro e outros  4896895   921565   557181  2404431\n",
       "15 ALSC3  2130 2017 Financeiro e outros  4793893   713202   254062  2465415\n",
       "16 ALPA4  1045 2015 Consumo cíclico      3763470  2208631  1309519  1839529\n",
       "17 ALPA4  1045 2016 Consumo cíclico      3782052  2262005   994530  1976023\n",
       "18 ALPA4  1045 2017 Consumo cíclico      3853454  2439913  1121505  2186390\n",
       "19 ALUP11 2149 2015 Utilidade pública   10011663  2320219  1927256  2510077\n",
       "20 ALUP11 2149 2016 Utilidade pública   10230001  2577166  1777465  2899182\n",
       "21 ALUP11 2149 2017 Utilidade pública   11463372  3597227  1705261  3883930\n",
       "22 ABEV3  2326 2015 Consumo não cíclico 90176234 28314489 30141913 48331883\n",
       "23 ABEV3  2326 2016 Consumo não cíclico 83841418 23886851 28773650 44825048\n",
       "24 ABEV3  2326 2017 Consumo não cíclico 86851989 24718073 28688476 46008814\n",
       "25 CBEE3   305 2015 Utilidade pública    7818528  2265388  1906229  2513420\n",
       "26 CBEE3   305 2016 Utilidade pública    8104030  1733407  2147850  2269847\n",
       "27 CBEE3   305 2017 Utilidade pública    9330722  2156080  2685422  3356968\n",
       "28 ANIM3  2324 2015 Consumo cíclico      1175777   394124   238064   642118\n",
       "29 ANIM3  2324 2016 Consumo cíclico      1387852   434042   268289   635692\n",
       "30 ANIM3  2324 2017 Consumo cíclico      1338152   410012   221467   696441\n",
       "   CxOper   RecLiq   VrMerc    LAIR     LucroLiquido LucroBruto LiqBolsa    \n",
       "1       -26        0      9763   -12533   -14799            0        0.00434\n",
       "2    -32802        0     23898    -5448    -1817            0        0.00869\n",
       "3      -180       18     15428    -5411    -5411           18        0.00273\n",
       "4   -316155 13667413    538045   112769   -15532       471607        0.00028\n",
       "5   1702442        0   1236744      535   226577        -1278        0.00022\n",
       "6         0        0    470674      181      130         -765        0.00008\n",
       "7    126222    27701    336882   118269    64225       -71286        0.00000\n",
       "8    123703    30556    212774   122897    61175       -58695        0.00001\n",
       "9    136395    25294    248995   108806    51187       -65916        0.00000\n",
       "10    -2423      189    209630    51585    51537          162        0.00007\n",
       "11    -2489      239    341428    50735    50783          227        0.00027\n",
       "12    -2595      308    249601    40621    43536          293        0.00006\n",
       "13   306164   494799   1762757   184162   131971       369745        0.12896\n",
       "14   234013   487551   2919162     4177   -17766       364143        0.13409\n",
       "15   390669   507691   3656124   125022    94539       377152        0.16624\n",
       "16   407319  4126254   3880414   306000   272314      1759426        0.11066\n",
       "17   340971  4054404   4362152   385281   361567      1800284        0.12783\n",
       "18   303003  3721863   7981233   305795   362289      1639602        0.16364\n",
       "19  1263031  1493559   2739153   649522   209169      1153621        0.06983\n",
       "20  1135442  1553811   5365648   811193   310812      1213610        0.11389\n",
       "21  1105317  1538191   6273239   789721   330885      1131110        0.20849\n",
       "22 23580946 46720141 279978928 16513389 12423771     30658770   309636.00000\n",
       "23 12344513 45602561 257498089 13398370 12546610     28924602   332545.00000\n",
       "24 17874062 47899276 334313503 12929802  7331968     29857498   286391.00000\n",
       "25   310808  5177380   3491039   -34667   -35234       495304        0.00005\n",
       "26   669294  4466988   4216709  -316203  -221832       507139        0.00002\n",
       "27   510816  5338280   4299157  -148074  -102977       626442        0.00002\n",
       "28   -35768   856620   1139776    58469    64203       364004        0.23466\n",
       "29   122084   960434   1090775    19318    20845       348851        0.05842\n",
       "30   157251  1045674   2257111    48319    85152       399133        0.05444"
      ]
     },
     "metadata": {},
     "output_type": "display_data"
    }
   ],
   "source": [
    "head(BD.Aula1, 30) # observando as 30 primeiras observações do banco de dados (BD.Aula1)"
   ]
  },
  {
   "cell_type": "markdown",
   "metadata": {},
   "source": [
    "### Vamos ver informações setoriais para tentar outros insights"
   ]
  },
  {
   "cell_type": "code",
   "execution_count": 5,
   "metadata": {
    "scrolled": true
   },
   "outputs": [
    {
     "data": {
      "text/html": [
       "<table>\n",
       "<thead><tr><th scope=col>setor</th><th scope=col>ano</th><th scope=col>qdeOBS</th><th scope=col>qdeEmpresas</th><th scope=col>AtivoMedio</th></tr></thead>\n",
       "<tbody>\n",
       "\t<tr><td>Petróleo, gás e biocombustíveis</td><td>2015                           </td><td> 7                             </td><td> 2.333333                      </td><td>133594615                      </td></tr>\n",
       "\t<tr><td>Petróleo, gás e biocombustíveis</td><td>2017                           </td><td> 7                             </td><td> 2.333333                      </td><td>124059312                      </td></tr>\n",
       "\t<tr><td>Petróleo, gás e biocombustíveis</td><td>2016                           </td><td> 7                             </td><td> 2.333333                      </td><td>119531565                      </td></tr>\n",
       "\t<tr><td>Telecomunicações               </td><td>2015                           </td><td> 4                             </td><td> 1.333333                      </td><td> 59164513                      </td></tr>\n",
       "\t<tr><td>Telecomunicações               </td><td>2016                           </td><td> 4                             </td><td> 1.333333                      </td><td> 55488266                      </td></tr>\n",
       "\t<tr><td>Telecomunicações               </td><td>2017                           </td><td> 4                             </td><td> 1.333333                      </td><td> 51437939                      </td></tr>\n",
       "\t<tr><td>Materiais básicos              </td><td>2015                           </td><td>23                             </td><td> 7.666667                      </td><td> 32522038                      </td></tr>\n",
       "\t<tr><td>Materiais básicos              </td><td>2017                           </td><td>23                             </td><td> 7.666667                      </td><td> 30119553                      </td></tr>\n",
       "\t<tr><td>Materiais básicos              </td><td>2016                           </td><td>23                             </td><td> 7.666667                      </td><td> 29871080                      </td></tr>\n",
       "\t<tr><td>Consumo não cíclico            </td><td>2015                           </td><td>22                             </td><td> 7.333333                      </td><td> 21418085                      </td></tr>\n",
       "\t<tr><td>Consumo não cíclico            </td><td>2017                           </td><td>22                             </td><td> 7.333333                      </td><td> 21196793                      </td></tr>\n",
       "\t<tr><td>Consumo não cíclico            </td><td>2016                           </td><td>22                             </td><td> 7.333333                      </td><td> 19796615                      </td></tr>\n",
       "\t<tr><td>Utilidade pública              </td><td>2017                           </td><td>39                             </td><td>13.000000                      </td><td> 16645611                      </td></tr>\n",
       "\t<tr><td>Utilidade pública              </td><td>2016                           </td><td>39                             </td><td>13.000000                      </td><td> 15811761                      </td></tr>\n",
       "\t<tr><td>Utilidade pública              </td><td>2015                           </td><td>39                             </td><td>13.000000                      </td><td> 14960235                      </td></tr>\n",
       "\t<tr><td>Financeiro e outros            </td><td>2017                           </td><td>25                             </td><td> 8.333333                      </td><td> 11129654                      </td></tr>\n",
       "\t<tr><td>Financeiro e outros            </td><td>2016                           </td><td>25                             </td><td> 8.333333                      </td><td>  8411279                      </td></tr>\n",
       "\t<tr><td>Financeiro e outros            </td><td>2015                           </td><td>25                             </td><td> 8.333333                      </td><td>  8028839                      </td></tr>\n",
       "\t<tr><td>Bens industriais               </td><td>2017                           </td><td>36                             </td><td>12.000000                      </td><td>  5273417                      </td></tr>\n",
       "\t<tr><td>Bens industriais               </td><td>2015                           </td><td>36                             </td><td>12.000000                      </td><td>  5148267                      </td></tr>\n",
       "\t<tr><td>Bens industriais               </td><td>2016                           </td><td>36                             </td><td>12.000000                      </td><td>  4847532                      </td></tr>\n",
       "\t<tr><td>Consumo cíclico                </td><td>2017                           </td><td>64                             </td><td>21.333333                      </td><td>  4354130                      </td></tr>\n",
       "\t<tr><td>Consumo cíclico                </td><td>2015                           </td><td>64                             </td><td>21.333333                      </td><td>  4303478                      </td></tr>\n",
       "\t<tr><td>Consumo cíclico                </td><td>2016                           </td><td>64                             </td><td>21.333333                      </td><td>  4053913                      </td></tr>\n",
       "\t<tr><td>Saúde                          </td><td>2017                           </td><td>12                             </td><td> 4.000000                      </td><td>  2233218                      </td></tr>\n",
       "\t<tr><td>Saúde                          </td><td>2016                           </td><td>12                             </td><td> 4.000000                      </td><td>  2129127                      </td></tr>\n",
       "\t<tr><td>Saúde                          </td><td>2015                           </td><td>12                             </td><td> 4.000000                      </td><td>  2041961                      </td></tr>\n",
       "\t<tr><td>Tecnologia da informação       </td><td>2015                           </td><td> 5                             </td><td> 1.666667                      </td><td>  1203482                      </td></tr>\n",
       "\t<tr><td>Tecnologia da informação       </td><td>2017                           </td><td> 5                             </td><td> 1.666667                      </td><td>  1200851                      </td></tr>\n",
       "\t<tr><td>Tecnologia da informação       </td><td>2016                           </td><td> 5                             </td><td> 1.666667                      </td><td>  1200107                      </td></tr>\n",
       "</tbody>\n",
       "</table>\n"
      ],
      "text/latex": [
       "\\begin{tabular}{r|lllll}\n",
       " setor & ano & qdeOBS & qdeEmpresas & AtivoMedio\\\\\n",
       "\\hline\n",
       "\t Petróleo, gás e biocombustíveis & 2015                            &  7                              &  2.333333                       & 133594615                      \\\\\n",
       "\t Petróleo, gás e biocombustíveis & 2017                            &  7                              &  2.333333                       & 124059312                      \\\\\n",
       "\t Petróleo, gás e biocombustíveis & 2016                            &  7                              &  2.333333                       & 119531565                      \\\\\n",
       "\t Telecomunicações                & 2015                            &  4                              &  1.333333                       &  59164513                      \\\\\n",
       "\t Telecomunicações                & 2016                            &  4                              &  1.333333                       &  55488266                      \\\\\n",
       "\t Telecomunicações                & 2017                            &  4                              &  1.333333                       &  51437939                      \\\\\n",
       "\t Materiais básicos               & 2015                            & 23                              &  7.666667                       &  32522038                      \\\\\n",
       "\t Materiais básicos               & 2017                            & 23                              &  7.666667                       &  30119553                      \\\\\n",
       "\t Materiais básicos               & 2016                            & 23                              &  7.666667                       &  29871080                      \\\\\n",
       "\t Consumo não cíclico             & 2015                            & 22                              &  7.333333                       &  21418085                      \\\\\n",
       "\t Consumo não cíclico             & 2017                            & 22                              &  7.333333                       &  21196793                      \\\\\n",
       "\t Consumo não cíclico             & 2016                            & 22                              &  7.333333                       &  19796615                      \\\\\n",
       "\t Utilidade pública               & 2017                            & 39                              & 13.000000                       &  16645611                      \\\\\n",
       "\t Utilidade pública               & 2016                            & 39                              & 13.000000                       &  15811761                      \\\\\n",
       "\t Utilidade pública               & 2015                            & 39                              & 13.000000                       &  14960235                      \\\\\n",
       "\t Financeiro e outros             & 2017                            & 25                              &  8.333333                       &  11129654                      \\\\\n",
       "\t Financeiro e outros             & 2016                            & 25                              &  8.333333                       &   8411279                      \\\\\n",
       "\t Financeiro e outros             & 2015                            & 25                              &  8.333333                       &   8028839                      \\\\\n",
       "\t Bens industriais                & 2017                            & 36                              & 12.000000                       &   5273417                      \\\\\n",
       "\t Bens industriais                & 2015                            & 36                              & 12.000000                       &   5148267                      \\\\\n",
       "\t Bens industriais                & 2016                            & 36                              & 12.000000                       &   4847532                      \\\\\n",
       "\t Consumo cíclico                 & 2017                            & 64                              & 21.333333                       &   4354130                      \\\\\n",
       "\t Consumo cíclico                 & 2015                            & 64                              & 21.333333                       &   4303478                      \\\\\n",
       "\t Consumo cíclico                 & 2016                            & 64                              & 21.333333                       &   4053913                      \\\\\n",
       "\t Saúde                           & 2017                            & 12                              &  4.000000                       &   2233218                      \\\\\n",
       "\t Saúde                           & 2016                            & 12                              &  4.000000                       &   2129127                      \\\\\n",
       "\t Saúde                           & 2015                            & 12                              &  4.000000                       &   2041961                      \\\\\n",
       "\t Tecnologia da informação        & 2015                            &  5                              &  1.666667                       &   1203482                      \\\\\n",
       "\t Tecnologia da informação        & 2017                            &  5                              &  1.666667                       &   1200851                      \\\\\n",
       "\t Tecnologia da informação        & 2016                            &  5                              &  1.666667                       &   1200107                      \\\\\n",
       "\\end{tabular}\n"
      ],
      "text/markdown": [
       "\n",
       "| setor | ano | qdeOBS | qdeEmpresas | AtivoMedio |\n",
       "|---|---|---|---|---|\n",
       "| Petróleo, gás e biocombustíveis | 2015                            |  7                              |  2.333333                       | 133594615                       |\n",
       "| Petróleo, gás e biocombustíveis | 2017                            |  7                              |  2.333333                       | 124059312                       |\n",
       "| Petróleo, gás e biocombustíveis | 2016                            |  7                              |  2.333333                       | 119531565                       |\n",
       "| Telecomunicações                | 2015                            |  4                              |  1.333333                       |  59164513                       |\n",
       "| Telecomunicações                | 2016                            |  4                              |  1.333333                       |  55488266                       |\n",
       "| Telecomunicações                | 2017                            |  4                              |  1.333333                       |  51437939                       |\n",
       "| Materiais básicos               | 2015                            | 23                              |  7.666667                       |  32522038                       |\n",
       "| Materiais básicos               | 2017                            | 23                              |  7.666667                       |  30119553                       |\n",
       "| Materiais básicos               | 2016                            | 23                              |  7.666667                       |  29871080                       |\n",
       "| Consumo não cíclico             | 2015                            | 22                              |  7.333333                       |  21418085                       |\n",
       "| Consumo não cíclico             | 2017                            | 22                              |  7.333333                       |  21196793                       |\n",
       "| Consumo não cíclico             | 2016                            | 22                              |  7.333333                       |  19796615                       |\n",
       "| Utilidade pública               | 2017                            | 39                              | 13.000000                       |  16645611                       |\n",
       "| Utilidade pública               | 2016                            | 39                              | 13.000000                       |  15811761                       |\n",
       "| Utilidade pública               | 2015                            | 39                              | 13.000000                       |  14960235                       |\n",
       "| Financeiro e outros             | 2017                            | 25                              |  8.333333                       |  11129654                       |\n",
       "| Financeiro e outros             | 2016                            | 25                              |  8.333333                       |   8411279                       |\n",
       "| Financeiro e outros             | 2015                            | 25                              |  8.333333                       |   8028839                       |\n",
       "| Bens industriais                | 2017                            | 36                              | 12.000000                       |   5273417                       |\n",
       "| Bens industriais                | 2015                            | 36                              | 12.000000                       |   5148267                       |\n",
       "| Bens industriais                | 2016                            | 36                              | 12.000000                       |   4847532                       |\n",
       "| Consumo cíclico                 | 2017                            | 64                              | 21.333333                       |   4354130                       |\n",
       "| Consumo cíclico                 | 2015                            | 64                              | 21.333333                       |   4303478                       |\n",
       "| Consumo cíclico                 | 2016                            | 64                              | 21.333333                       |   4053913                       |\n",
       "| Saúde                           | 2017                            | 12                              |  4.000000                       |   2233218                       |\n",
       "| Saúde                           | 2016                            | 12                              |  4.000000                       |   2129127                       |\n",
       "| Saúde                           | 2015                            | 12                              |  4.000000                       |   2041961                       |\n",
       "| Tecnologia da informação        | 2015                            |  5                              |  1.666667                       |   1203482                       |\n",
       "| Tecnologia da informação        | 2017                            |  5                              |  1.666667                       |   1200851                       |\n",
       "| Tecnologia da informação        | 2016                            |  5                              |  1.666667                       |   1200107                       |\n",
       "\n"
      ],
      "text/plain": [
       "   setor                           ano  qdeOBS qdeEmpresas AtivoMedio\n",
       "1  Petróleo, gás e biocombustíveis 2015  7      2.333333   133594615 \n",
       "2  Petróleo, gás e biocombustíveis 2017  7      2.333333   124059312 \n",
       "3  Petróleo, gás e biocombustíveis 2016  7      2.333333   119531565 \n",
       "4  Telecomunicações                2015  4      1.333333    59164513 \n",
       "5  Telecomunicações                2016  4      1.333333    55488266 \n",
       "6  Telecomunicações                2017  4      1.333333    51437939 \n",
       "7  Materiais básicos               2015 23      7.666667    32522038 \n",
       "8  Materiais básicos               2017 23      7.666667    30119553 \n",
       "9  Materiais básicos               2016 23      7.666667    29871080 \n",
       "10 Consumo não cíclico             2015 22      7.333333    21418085 \n",
       "11 Consumo não cíclico             2017 22      7.333333    21196793 \n",
       "12 Consumo não cíclico             2016 22      7.333333    19796615 \n",
       "13 Utilidade pública               2017 39     13.000000    16645611 \n",
       "14 Utilidade pública               2016 39     13.000000    15811761 \n",
       "15 Utilidade pública               2015 39     13.000000    14960235 \n",
       "16 Financeiro e outros             2017 25      8.333333    11129654 \n",
       "17 Financeiro e outros             2016 25      8.333333     8411279 \n",
       "18 Financeiro e outros             2015 25      8.333333     8028839 \n",
       "19 Bens industriais                2017 36     12.000000     5273417 \n",
       "20 Bens industriais                2015 36     12.000000     5148267 \n",
       "21 Bens industriais                2016 36     12.000000     4847532 \n",
       "22 Consumo cíclico                 2017 64     21.333333     4354130 \n",
       "23 Consumo cíclico                 2015 64     21.333333     4303478 \n",
       "24 Consumo cíclico                 2016 64     21.333333     4053913 \n",
       "25 Saúde                           2017 12      4.000000     2233218 \n",
       "26 Saúde                           2016 12      4.000000     2129127 \n",
       "27 Saúde                           2015 12      4.000000     2041961 \n",
       "28 Tecnologia da informação        2015  5      1.666667     1203482 \n",
       "29 Tecnologia da informação        2017  5      1.666667     1200851 \n",
       "30 Tecnologia da informação        2016  5      1.666667     1200107 "
      ]
     },
     "metadata": {},
     "output_type": "display_data"
    }
   ],
   "source": [
    "setorial <- BD.Aula1[, .(qdeOBS = .N, qdeEmpresas = .N/3, AtivoMedio = mean(AtvTotal)), by = .(setor, ano)][order(AtivoMedio, decreasing = T)] # Esse banco de dados possui 3 observações por empresa\n",
    "setorial"
   ]
  },
  {
   "cell_type": "markdown",
   "metadata": {},
   "source": [
    "### Vamos ver informações de apenas um setor"
   ]
  },
  {
   "cell_type": "code",
   "execution_count": 6,
   "metadata": {
    "scrolled": true
   },
   "outputs": [
    {
     "data": {
      "text/html": [
       "<table>\n",
       "<thead><tr><th scope=col>cod</th><th scope=col>id</th><th scope=col>ano</th><th scope=col>setor</th><th scope=col>AtvTotal</th><th scope=col>AtvCirc</th><th scope=col>PasCirc</th><th scope=col>PatLiq</th><th scope=col>CxOper</th><th scope=col>RecLiq</th><th scope=col>VrMerc</th><th scope=col>LAIR</th><th scope=col>LucroLiquido</th><th scope=col>LucroBruto</th><th scope=col>LiqBolsa</th></tr></thead>\n",
       "<tbody>\n",
       "\t<tr><td>LUPA3                          </td><td>2006                           </td><td>2015                           </td><td>Petróleo, gás e biocombustíveis</td><td>   814031                      </td><td>   235735                      </td><td>   211624                      </td><td>    93313                      </td><td>   41535                       </td><td>   268294                      </td><td>    19445                      </td><td>    39873                      </td><td>   -75137                      </td><td>  -10235                       </td><td>     0.00157                   </td></tr>\n",
       "\t<tr><td>LUPA3                          </td><td>2006                           </td><td>2016                           </td><td>Petróleo, gás e biocombustíveis</td><td>   642290                      </td><td>   162544                      </td><td>   177222                      </td><td>    44611                      </td><td>  -52892                       </td><td>   138486                      </td><td>    37857                      </td><td>   -55194                      </td><td>     7370                      </td><td>  -30558                       </td><td>     0.01262                   </td></tr>\n",
       "\t<tr><td>LUPA3                          </td><td>2006                           </td><td>2017                           </td><td>Petróleo, gás e biocombustíveis</td><td>   575280                      </td><td>   224321                      </td><td>   126620                      </td><td>    85818                      </td><td>  -16298                       </td><td>   112366                      </td><td>    27242                      </td><td>   -38802                      </td><td>    -5487                      </td><td>   -5279                       </td><td>     0.01357                   </td></tr>\n",
       "\t<tr><td>OSXB3                          </td><td>2134                           </td><td>2015                           </td><td>Petróleo, gás e biocombustíveis</td><td>  8270933                      </td><td>  4089110                      </td><td>  7337693                      </td><td> -2776922                      </td><td>   23612                       </td><td>   414197                      </td><td>    46885                      </td><td>  -392896                      </td><td>  -979760                      </td><td>   76100                       </td><td>     0.01009                   </td></tr>\n",
       "\t<tr><td>OSXB3                          </td><td>2134                           </td><td>2016                           </td><td>Petróleo, gás e biocombustíveis</td><td>  1687484                      </td><td>    31532                      </td><td>   454355                      </td><td> -2845933                      </td><td>-1255425                       </td><td>     1093                      </td><td>    47221                      </td><td> -1445823                      </td><td> -1402945                      </td><td>   -6237                       </td><td>     0.00227                   </td></tr>\n",
       "\t<tr><td>OSXB3                          </td><td>2134                           </td><td>2017                           </td><td>Petróleo, gás e biocombustíveis</td><td>  1743785                      </td><td>     9423                      </td><td>   445183                      </td><td> -3536617                      </td><td>  -29566                       </td><td>    10629                      </td><td>    24114                      </td><td>  -502657                      </td><td>  -501902                      </td><td>   10629                       </td><td>     0.00029                   </td></tr>\n",
       "\t<tr><td>RPMG3                          </td><td> 998                           </td><td>2015                           </td><td>Petróleo, gás e biocombustíveis</td><td>   368995                      </td><td>   165433                      </td><td>   919366                      </td><td> -1572780                      </td><td>    -636                       </td><td>   710127                      </td><td>   243666                      </td><td>  -482634                      </td><td>  -482634                      </td><td> -124308                       </td><td>     0.00388                   </td></tr>\n",
       "\t<tr><td>RPMG3                          </td><td> 998                           </td><td>2016                           </td><td>Petróleo, gás e biocombustíveis</td><td>   640725                      </td><td>   449970                      </td><td>  1952751                      </td><td> -2137825                      </td><td>     942                       </td><td>   711544                      </td><td>   488009                      </td><td>  -565283                      </td><td>  -565283                      </td><td> -189115                       </td><td>     0.00379                   </td></tr>\n",
       "\t<tr><td>RPMG3                          </td><td> 998                           </td><td>2017                           </td><td>Petróleo, gás e biocombustíveis</td><td>  1039210                      </td><td>   853363                      </td><td>  2745287                      </td><td> -2329765                      </td><td>    7902                       </td><td>   548247                      </td><td>   534712                      </td><td>  -191901                      </td><td>  -191901                      </td><td>  -21873                       </td><td>     0.00231                   </td></tr>\n",
       "\t<tr><td>PETR4                          </td><td> 951                           </td><td>2015                           </td><td>Petróleo, gás e biocombustíveis</td><td>900135000                      </td><td>169581000                      </td><td>111572000                      </td><td>254731000                      </td><td>86407000                       </td><td>321638000                      </td><td>101315519                      </td><td>-41229000                      </td><td>-34836000                      </td><td>98576000                       </td><td>694402.00000                   </td></tr>\n",
       "\t<tr><td>PETR4                          </td><td> 951                           </td><td>2016                           </td><td>Petróleo, gás e biocombustíveis</td><td>804945000                      </td><td>145907000                      </td><td> 81167000                      </td><td>250230000                      </td><td>89709000                       </td><td>282589000                      </td><td>209377550                      </td><td>-10703000                      </td><td>-14824000                      </td><td>89978000                       </td><td>676554.00000                   </td></tr>\n",
       "\t<tr><td>PETR4                          </td><td> 951                           </td><td>2017                           </td><td>Petróleo, gás e biocombustíveis</td><td>831515000                      </td><td>155909000                      </td><td> 82535000                      </td><td>263985000                      </td><td>86467000                       </td><td>283695000                      </td><td>216044789                      </td><td>  6174000                      </td><td>  -446000                      </td><td>91595000                       </td><td>534559.00000                   </td></tr>\n",
       "\t<tr><td>PRIO3                          </td><td>2218                           </td><td>2015                           </td><td>Petróleo, gás e biocombustíveis</td><td>  1177037                      </td><td>   899822                      </td><td>    85423                      </td><td>   914105                      </td><td>  -20171                       </td><td>   253071                      </td><td>   161554                      </td><td>   104894                      </td><td>   110421                      </td><td>  -41386                       </td><td>     0.03175                   </td></tr>\n",
       "\t<tr><td>PRIO3                          </td><td>2218                           </td><td>2016                           </td><td>Petróleo, gás e biocombustíveis</td><td>  1082369                      </td><td>   781580                      </td><td>    79620                      </td><td>   834152                      </td><td>  114000                       </td><td>   397871                      </td><td>   286358                      </td><td>   252951                      </td><td>   241622                      </td><td>  -10597                       </td><td>     0.00546                   </td></tr>\n",
       "\t<tr><td>PRIO3                          </td><td>2218                           </td><td>2017                           </td><td>Petróleo, gás e biocombustíveis</td><td>  1270244                      </td><td>   849655                      </td><td>   216852                      </td><td>   883130                      </td><td>   49087                       </td><td>   533922                      </td><td>  1024061                      </td><td>    48658                      </td><td>    50851                      </td><td>   98858                       </td><td>     0.02375                   </td></tr>\n",
       "\t<tr><td>QGEP3                          </td><td>2236                           </td><td>2015                           </td><td>Petróleo, gás e biocombustíveis</td><td>  3430263                      </td><td>  1337343                      </td><td>   157967                      </td><td>  2689165                      </td><td>  431472                       </td><td>   496192                      </td><td>  1503279                      </td><td>    75710                      </td><td>    93613                      </td><td>  243338                       </td><td>     0.16924                   </td></tr>\n",
       "\t<tr><td>QGEP3                          </td><td>2236                           </td><td>2016                           </td><td>Petróleo, gás e biocombustíveis</td><td>  3563420                      </td><td>  1433910                      </td><td>   254532                      </td><td>  2779647                      </td><td>  341772                       </td><td>   476454                      </td><td>  1374353                      </td><td>   167855                      </td><td>   152898                      </td><td>  235722                       </td><td>     0.14897                   </td></tr>\n",
       "\t<tr><td>QGEP3                          </td><td>2236                           </td><td>2017                           </td><td>Petróleo, gás e biocombustíveis</td><td>  3931342                      </td><td>  2277177                      </td><td>   308842                      </td><td>  3110110                      </td><td>  428777                       </td><td>   501726                      </td><td>  2782885                      </td><td>   434619                      </td><td>   357375                      </td><td>  274012                       </td><td>     0.11196                   </td></tr>\n",
       "\t<tr><td>UGPA3                          </td><td>1846                           </td><td>2015                           </td><td>Petróleo, gás e biocombustíveis</td><td> 20966049                      </td><td>  9911349                      </td><td>  3833391                      </td><td>  7945041                      </td><td> 3201679                       </td><td> 75655274                      </td><td> 32829412                      </td><td>  2247308                      </td><td>  1503466                      </td><td> 6721572                       </td><td>113858.00000                   </td></tr>\n",
       "\t<tr><td>UGPA3                          </td><td>1846                           </td><td>2016                           </td><td>Petróleo, gás e biocombustíveis</td><td> 24159670                      </td><td> 13011796                      </td><td>  5486946                      </td><td>  8527623                      </td><td> 2513670                       </td><td> 77352955                      </td><td> 37187088                      </td><td>  2270610                      </td><td>  1561585                      </td><td> 7010232                       </td><td>103766.00000                   </td></tr>\n",
       "\t<tr><td>UGPA3                          </td><td>1846                           </td><td>2017                           </td><td>Petróleo, gás e biocombustíveis</td><td> 28340322                      </td><td> 15201291                      </td><td>  7013988                      </td><td>  9381261                      </td><td> 2279420                       </td><td> 80007422                      </td><td> 40752281                      </td><td>  2413297                      </td><td>  1574306                      </td><td> 7271641                       </td><td>     0.92814                   </td></tr>\n",
       "</tbody>\n",
       "</table>\n"
      ],
      "text/latex": [
       "\\begin{tabular}{r|lllllllllllllll}\n",
       " cod & id & ano & setor & AtvTotal & AtvCirc & PasCirc & PatLiq & CxOper & RecLiq & VrMerc & LAIR & LucroLiquido & LucroBruto & LiqBolsa\\\\\n",
       "\\hline\n",
       "\t LUPA3                           & 2006                            & 2015                            & Petróleo, gás e biocombustíveis &    814031                       &    235735                       &    211624                       &     93313                       &    41535                        &    268294                       &     19445                       &     39873                       &    -75137                       &   -10235                        &      0.00157                   \\\\\n",
       "\t LUPA3                           & 2006                            & 2016                            & Petróleo, gás e biocombustíveis &    642290                       &    162544                       &    177222                       &     44611                       &   -52892                        &    138486                       &     37857                       &    -55194                       &      7370                       &   -30558                        &      0.01262                   \\\\\n",
       "\t LUPA3                           & 2006                            & 2017                            & Petróleo, gás e biocombustíveis &    575280                       &    224321                       &    126620                       &     85818                       &   -16298                        &    112366                       &     27242                       &    -38802                       &     -5487                       &    -5279                        &      0.01357                   \\\\\n",
       "\t OSXB3                           & 2134                            & 2015                            & Petróleo, gás e biocombustíveis &   8270933                       &   4089110                       &   7337693                       &  -2776922                       &    23612                        &    414197                       &     46885                       &   -392896                       &   -979760                       &    76100                        &      0.01009                   \\\\\n",
       "\t OSXB3                           & 2134                            & 2016                            & Petróleo, gás e biocombustíveis &   1687484                       &     31532                       &    454355                       &  -2845933                       & -1255425                        &      1093                       &     47221                       &  -1445823                       &  -1402945                       &    -6237                        &      0.00227                   \\\\\n",
       "\t OSXB3                           & 2134                            & 2017                            & Petróleo, gás e biocombustíveis &   1743785                       &      9423                       &    445183                       &  -3536617                       &   -29566                        &     10629                       &     24114                       &   -502657                       &   -501902                       &    10629                        &      0.00029                   \\\\\n",
       "\t RPMG3                           &  998                            & 2015                            & Petróleo, gás e biocombustíveis &    368995                       &    165433                       &    919366                       &  -1572780                       &     -636                        &    710127                       &    243666                       &   -482634                       &   -482634                       &  -124308                        &      0.00388                   \\\\\n",
       "\t RPMG3                           &  998                            & 2016                            & Petróleo, gás e biocombustíveis &    640725                       &    449970                       &   1952751                       &  -2137825                       &      942                        &    711544                       &    488009                       &   -565283                       &   -565283                       &  -189115                        &      0.00379                   \\\\\n",
       "\t RPMG3                           &  998                            & 2017                            & Petróleo, gás e biocombustíveis &   1039210                       &    853363                       &   2745287                       &  -2329765                       &     7902                        &    548247                       &    534712                       &   -191901                       &   -191901                       &   -21873                        &      0.00231                   \\\\\n",
       "\t PETR4                           &  951                            & 2015                            & Petróleo, gás e biocombustíveis & 900135000                       & 169581000                       & 111572000                       & 254731000                       & 86407000                        & 321638000                       & 101315519                       & -41229000                       & -34836000                       & 98576000                        & 694402.00000                   \\\\\n",
       "\t PETR4                           &  951                            & 2016                            & Petróleo, gás e biocombustíveis & 804945000                       & 145907000                       &  81167000                       & 250230000                       & 89709000                        & 282589000                       & 209377550                       & -10703000                       & -14824000                       & 89978000                        & 676554.00000                   \\\\\n",
       "\t PETR4                           &  951                            & 2017                            & Petróleo, gás e biocombustíveis & 831515000                       & 155909000                       &  82535000                       & 263985000                       & 86467000                        & 283695000                       & 216044789                       &   6174000                       &   -446000                       & 91595000                        & 534559.00000                   \\\\\n",
       "\t PRIO3                           & 2218                            & 2015                            & Petróleo, gás e biocombustíveis &   1177037                       &    899822                       &     85423                       &    914105                       &   -20171                        &    253071                       &    161554                       &    104894                       &    110421                       &   -41386                        &      0.03175                   \\\\\n",
       "\t PRIO3                           & 2218                            & 2016                            & Petróleo, gás e biocombustíveis &   1082369                       &    781580                       &     79620                       &    834152                       &   114000                        &    397871                       &    286358                       &    252951                       &    241622                       &   -10597                        &      0.00546                   \\\\\n",
       "\t PRIO3                           & 2218                            & 2017                            & Petróleo, gás e biocombustíveis &   1270244                       &    849655                       &    216852                       &    883130                       &    49087                        &    533922                       &   1024061                       &     48658                       &     50851                       &    98858                        &      0.02375                   \\\\\n",
       "\t QGEP3                           & 2236                            & 2015                            & Petróleo, gás e biocombustíveis &   3430263                       &   1337343                       &    157967                       &   2689165                       &   431472                        &    496192                       &   1503279                       &     75710                       &     93613                       &   243338                        &      0.16924                   \\\\\n",
       "\t QGEP3                           & 2236                            & 2016                            & Petróleo, gás e biocombustíveis &   3563420                       &   1433910                       &    254532                       &   2779647                       &   341772                        &    476454                       &   1374353                       &    167855                       &    152898                       &   235722                        &      0.14897                   \\\\\n",
       "\t QGEP3                           & 2236                            & 2017                            & Petróleo, gás e biocombustíveis &   3931342                       &   2277177                       &    308842                       &   3110110                       &   428777                        &    501726                       &   2782885                       &    434619                       &    357375                       &   274012                        &      0.11196                   \\\\\n",
       "\t UGPA3                           & 1846                            & 2015                            & Petróleo, gás e biocombustíveis &  20966049                       &   9911349                       &   3833391                       &   7945041                       &  3201679                        &  75655274                       &  32829412                       &   2247308                       &   1503466                       &  6721572                        & 113858.00000                   \\\\\n",
       "\t UGPA3                           & 1846                            & 2016                            & Petróleo, gás e biocombustíveis &  24159670                       &  13011796                       &   5486946                       &   8527623                       &  2513670                        &  77352955                       &  37187088                       &   2270610                       &   1561585                       &  7010232                        & 103766.00000                   \\\\\n",
       "\t UGPA3                           & 1846                            & 2017                            & Petróleo, gás e biocombustíveis &  28340322                       &  15201291                       &   7013988                       &   9381261                       &  2279420                        &  80007422                       &  40752281                       &   2413297                       &   1574306                       &  7271641                        &      0.92814                   \\\\\n",
       "\\end{tabular}\n"
      ],
      "text/markdown": [
       "\n",
       "| cod | id | ano | setor | AtvTotal | AtvCirc | PasCirc | PatLiq | CxOper | RecLiq | VrMerc | LAIR | LucroLiquido | LucroBruto | LiqBolsa |\n",
       "|---|---|---|---|---|---|---|---|---|---|---|---|---|---|---|\n",
       "| LUPA3                           | 2006                            | 2015                            | Petróleo, gás e biocombustíveis |    814031                       |    235735                       |    211624                       |     93313                       |    41535                        |    268294                       |     19445                       |     39873                       |    -75137                       |   -10235                        |      0.00157                    |\n",
       "| LUPA3                           | 2006                            | 2016                            | Petróleo, gás e biocombustíveis |    642290                       |    162544                       |    177222                       |     44611                       |   -52892                        |    138486                       |     37857                       |    -55194                       |      7370                       |   -30558                        |      0.01262                    |\n",
       "| LUPA3                           | 2006                            | 2017                            | Petróleo, gás e biocombustíveis |    575280                       |    224321                       |    126620                       |     85818                       |   -16298                        |    112366                       |     27242                       |    -38802                       |     -5487                       |    -5279                        |      0.01357                    |\n",
       "| OSXB3                           | 2134                            | 2015                            | Petróleo, gás e biocombustíveis |   8270933                       |   4089110                       |   7337693                       |  -2776922                       |    23612                        |    414197                       |     46885                       |   -392896                       |   -979760                       |    76100                        |      0.01009                    |\n",
       "| OSXB3                           | 2134                            | 2016                            | Petróleo, gás e biocombustíveis |   1687484                       |     31532                       |    454355                       |  -2845933                       | -1255425                        |      1093                       |     47221                       |  -1445823                       |  -1402945                       |    -6237                        |      0.00227                    |\n",
       "| OSXB3                           | 2134                            | 2017                            | Petróleo, gás e biocombustíveis |   1743785                       |      9423                       |    445183                       |  -3536617                       |   -29566                        |     10629                       |     24114                       |   -502657                       |   -501902                       |    10629                        |      0.00029                    |\n",
       "| RPMG3                           |  998                            | 2015                            | Petróleo, gás e biocombustíveis |    368995                       |    165433                       |    919366                       |  -1572780                       |     -636                        |    710127                       |    243666                       |   -482634                       |   -482634                       |  -124308                        |      0.00388                    |\n",
       "| RPMG3                           |  998                            | 2016                            | Petróleo, gás e biocombustíveis |    640725                       |    449970                       |   1952751                       |  -2137825                       |      942                        |    711544                       |    488009                       |   -565283                       |   -565283                       |  -189115                        |      0.00379                    |\n",
       "| RPMG3                           |  998                            | 2017                            | Petróleo, gás e biocombustíveis |   1039210                       |    853363                       |   2745287                       |  -2329765                       |     7902                        |    548247                       |    534712                       |   -191901                       |   -191901                       |   -21873                        |      0.00231                    |\n",
       "| PETR4                           |  951                            | 2015                            | Petróleo, gás e biocombustíveis | 900135000                       | 169581000                       | 111572000                       | 254731000                       | 86407000                        | 321638000                       | 101315519                       | -41229000                       | -34836000                       | 98576000                        | 694402.00000                    |\n",
       "| PETR4                           |  951                            | 2016                            | Petróleo, gás e biocombustíveis | 804945000                       | 145907000                       |  81167000                       | 250230000                       | 89709000                        | 282589000                       | 209377550                       | -10703000                       | -14824000                       | 89978000                        | 676554.00000                    |\n",
       "| PETR4                           |  951                            | 2017                            | Petróleo, gás e biocombustíveis | 831515000                       | 155909000                       |  82535000                       | 263985000                       | 86467000                        | 283695000                       | 216044789                       |   6174000                       |   -446000                       | 91595000                        | 534559.00000                    |\n",
       "| PRIO3                           | 2218                            | 2015                            | Petróleo, gás e biocombustíveis |   1177037                       |    899822                       |     85423                       |    914105                       |   -20171                        |    253071                       |    161554                       |    104894                       |    110421                       |   -41386                        |      0.03175                    |\n",
       "| PRIO3                           | 2218                            | 2016                            | Petróleo, gás e biocombustíveis |   1082369                       |    781580                       |     79620                       |    834152                       |   114000                        |    397871                       |    286358                       |    252951                       |    241622                       |   -10597                        |      0.00546                    |\n",
       "| PRIO3                           | 2218                            | 2017                            | Petróleo, gás e biocombustíveis |   1270244                       |    849655                       |    216852                       |    883130                       |    49087                        |    533922                       |   1024061                       |     48658                       |     50851                       |    98858                        |      0.02375                    |\n",
       "| QGEP3                           | 2236                            | 2015                            | Petróleo, gás e biocombustíveis |   3430263                       |   1337343                       |    157967                       |   2689165                       |   431472                        |    496192                       |   1503279                       |     75710                       |     93613                       |   243338                        |      0.16924                    |\n",
       "| QGEP3                           | 2236                            | 2016                            | Petróleo, gás e biocombustíveis |   3563420                       |   1433910                       |    254532                       |   2779647                       |   341772                        |    476454                       |   1374353                       |    167855                       |    152898                       |   235722                        |      0.14897                    |\n",
       "| QGEP3                           | 2236                            | 2017                            | Petróleo, gás e biocombustíveis |   3931342                       |   2277177                       |    308842                       |   3110110                       |   428777                        |    501726                       |   2782885                       |    434619                       |    357375                       |   274012                        |      0.11196                    |\n",
       "| UGPA3                           | 1846                            | 2015                            | Petróleo, gás e biocombustíveis |  20966049                       |   9911349                       |   3833391                       |   7945041                       |  3201679                        |  75655274                       |  32829412                       |   2247308                       |   1503466                       |  6721572                        | 113858.00000                    |\n",
       "| UGPA3                           | 1846                            | 2016                            | Petróleo, gás e biocombustíveis |  24159670                       |  13011796                       |   5486946                       |   8527623                       |  2513670                        |  77352955                       |  37187088                       |   2270610                       |   1561585                       |  7010232                        | 103766.00000                    |\n",
       "| UGPA3                           | 1846                            | 2017                            | Petróleo, gás e biocombustíveis |  28340322                       |  15201291                       |   7013988                       |   9381261                       |  2279420                        |  80007422                       |  40752281                       |   2413297                       |   1574306                       |  7271641                        |      0.92814                    |\n",
       "\n"
      ],
      "text/plain": [
       "   cod   id   ano  setor                           AtvTotal  AtvCirc  \n",
       "1  LUPA3 2006 2015 Petróleo, gás e biocombustíveis    814031    235735\n",
       "2  LUPA3 2006 2016 Petróleo, gás e biocombustíveis    642290    162544\n",
       "3  LUPA3 2006 2017 Petróleo, gás e biocombustíveis    575280    224321\n",
       "4  OSXB3 2134 2015 Petróleo, gás e biocombustíveis   8270933   4089110\n",
       "5  OSXB3 2134 2016 Petróleo, gás e biocombustíveis   1687484     31532\n",
       "6  OSXB3 2134 2017 Petróleo, gás e biocombustíveis   1743785      9423\n",
       "7  RPMG3  998 2015 Petróleo, gás e biocombustíveis    368995    165433\n",
       "8  RPMG3  998 2016 Petróleo, gás e biocombustíveis    640725    449970\n",
       "9  RPMG3  998 2017 Petróleo, gás e biocombustíveis   1039210    853363\n",
       "10 PETR4  951 2015 Petróleo, gás e biocombustíveis 900135000 169581000\n",
       "11 PETR4  951 2016 Petróleo, gás e biocombustíveis 804945000 145907000\n",
       "12 PETR4  951 2017 Petróleo, gás e biocombustíveis 831515000 155909000\n",
       "13 PRIO3 2218 2015 Petróleo, gás e biocombustíveis   1177037    899822\n",
       "14 PRIO3 2218 2016 Petróleo, gás e biocombustíveis   1082369    781580\n",
       "15 PRIO3 2218 2017 Petróleo, gás e biocombustíveis   1270244    849655\n",
       "16 QGEP3 2236 2015 Petróleo, gás e biocombustíveis   3430263   1337343\n",
       "17 QGEP3 2236 2016 Petróleo, gás e biocombustíveis   3563420   1433910\n",
       "18 QGEP3 2236 2017 Petróleo, gás e biocombustíveis   3931342   2277177\n",
       "19 UGPA3 1846 2015 Petróleo, gás e biocombustíveis  20966049   9911349\n",
       "20 UGPA3 1846 2016 Petróleo, gás e biocombustíveis  24159670  13011796\n",
       "21 UGPA3 1846 2017 Petróleo, gás e biocombustíveis  28340322  15201291\n",
       "   PasCirc   PatLiq    CxOper   RecLiq    VrMerc    LAIR      LucroLiquido\n",
       "1     211624     93313    41535    268294     19445     39873    -75137   \n",
       "2     177222     44611   -52892    138486     37857    -55194      7370   \n",
       "3     126620     85818   -16298    112366     27242    -38802     -5487   \n",
       "4    7337693  -2776922    23612    414197     46885   -392896   -979760   \n",
       "5     454355  -2845933 -1255425      1093     47221  -1445823  -1402945   \n",
       "6     445183  -3536617   -29566     10629     24114   -502657   -501902   \n",
       "7     919366  -1572780     -636    710127    243666   -482634   -482634   \n",
       "8    1952751  -2137825      942    711544    488009   -565283   -565283   \n",
       "9    2745287  -2329765     7902    548247    534712   -191901   -191901   \n",
       "10 111572000 254731000 86407000 321638000 101315519 -41229000 -34836000   \n",
       "11  81167000 250230000 89709000 282589000 209377550 -10703000 -14824000   \n",
       "12  82535000 263985000 86467000 283695000 216044789   6174000   -446000   \n",
       "13     85423    914105   -20171    253071    161554    104894    110421   \n",
       "14     79620    834152   114000    397871    286358    252951    241622   \n",
       "15    216852    883130    49087    533922   1024061     48658     50851   \n",
       "16    157967   2689165   431472    496192   1503279     75710     93613   \n",
       "17    254532   2779647   341772    476454   1374353    167855    152898   \n",
       "18    308842   3110110   428777    501726   2782885    434619    357375   \n",
       "19   3833391   7945041  3201679  75655274  32829412   2247308   1503466   \n",
       "20   5486946   8527623  2513670  77352955  37187088   2270610   1561585   \n",
       "21   7013988   9381261  2279420  80007422  40752281   2413297   1574306   \n",
       "   LucroBruto LiqBolsa    \n",
       "1    -10235        0.00157\n",
       "2    -30558        0.01262\n",
       "3     -5279        0.01357\n",
       "4     76100        0.01009\n",
       "5     -6237        0.00227\n",
       "6     10629        0.00029\n",
       "7   -124308        0.00388\n",
       "8   -189115        0.00379\n",
       "9    -21873        0.00231\n",
       "10 98576000   694402.00000\n",
       "11 89978000   676554.00000\n",
       "12 91595000   534559.00000\n",
       "13   -41386        0.03175\n",
       "14   -10597        0.00546\n",
       "15    98858        0.02375\n",
       "16   243338        0.16924\n",
       "17   235722        0.14897\n",
       "18   274012        0.11196\n",
       "19  6721572   113858.00000\n",
       "20  7010232   103766.00000\n",
       "21  7271641        0.92814"
      ]
     },
     "metadata": {},
     "output_type": "display_data"
    }
   ],
   "source": [
    "BD.Aula1[grep(\"bioc\", setor)] # Escolhido o setor que contem o padrão informado entre aspas"
   ]
  },
  {
   "cell_type": "markdown",
   "metadata": {},
   "source": [
    "### Como facilitar a visualização do panorama da empresa?\n",
    "\n",
    "#### Vamos discutir sobre índices, gráficos e comparações intra/inter empresas/mercado"
   ]
  },
  {
   "cell_type": "markdown",
   "metadata": {},
   "source": [
    "A utilização de índices é importante, pois mitiga o efeito dos números absolutos. Por exemplo, a PETROBRAS possui mais ativos que a ALUPAR. Na mesma linha, é de se esperar que o valor absoluto do lucro da Petrobras seja superior ao da ALUPAR. Contudo, será que a relação entre o lucro gerado pelos ativos da PETROBRAS é superior ao lucro gerado pelos ativos da ALUPAR?\n",
    "\n",
    "Para esse caso, usamos índices:\n"
   ]
  },
  {
   "cell_type": "markdown",
   "metadata": {},
   "source": [
    "## Vamos ver graficamente"
   ]
  },
  {
   "cell_type": "code",
   "execution_count": 8,
   "metadata": {},
   "outputs": [
    {
     "data": {
      "image/png": "[encoded data removed]",
      "text/plain": [
       "plot without title"
      ]
     },
     "metadata": {},
     "output_type": "display_data"
    }
   ],
   "source": [
    "ggplot(setorial, aes(x = ano, y = AtivoMedio)) +\n",
    "geom_bar(stat = \"identity\", aes(fill = setor), position = \"dodge\") +\n",
    "theme(legend.position = \"bottom\", panel.background = element_blank()) +\n",
    "annotate(\"text\", x = 2016.1, y = 130000000, label = \"Temos influência da Petrobras?\")"
   ]
  },
  {
   "cell_type": "code",
   "execution_count": 9,
   "metadata": {},
   "outputs": [],
   "source": [
    "setorial2 <- BD.Aula1[cod != \"PETR4\", .(qdeOBS = .N, qdeEmpresas = .N/3, AtivoMedio = mean(AtvTotal)), by = .(setor, ano)][order(AtivoMedio, decreasing = T)] # O codigo da petrobras no banco de dados é PETR4"
   ]
  },
  {
   "cell_type": "code",
   "execution_count": 10,
   "metadata": {
    "scrolled": true
   },
   "outputs": [
    {
     "data": {
      "image/png": "[encoded data removed]",
      "text/plain": [
       "plot without title"
      ]
     },
     "metadata": {},
     "output_type": "display_data"
    }
   ],
   "source": [
    "ggplot(setorial2, aes(reorder(setor, AtivoMedio), AtivoMedio, fill = factor(ano))) +\n",
    "geom_col(position = \"dodge\") + coord_flip() +\n",
    "theme(legend.position = \"bottom\", panel.background = element_blank(), axis.title=element_blank(), axis.text.x=element_blank())\n",
    "\n"
   ]
  },
  {
   "cell_type": "markdown",
   "metadata": {},
   "source": [
    "Para usar índices temos:\n",
    "\n",
    "\\begin{align*}\n",
    "INDICE &= \\frac{LUCRO}{ATIVO}\n",
    "\\end{align*}"
   ]
  },
  {
   "cell_type": "code",
   "execution_count": 11,
   "metadata": {},
   "outputs": [
    {
     "data": {
      "text/html": [
       "<table>\n",
       "<thead><tr><th scope=col>setor</th><th scope=col>ano</th><th scope=col>indice</th></tr></thead>\n",
       "<tbody>\n",
       "\t<tr><td>Consumo não cíclico</td><td>2015               </td><td>-0.118             </td></tr>\n",
       "\t<tr><td>Consumo não cíclico</td><td>2016               </td><td>-0.016             </td></tr>\n",
       "\t<tr><td>Consumo não cíclico</td><td>2017               </td><td>-0.090             </td></tr>\n",
       "\t<tr><td>Utilidade pública  </td><td>2015               </td><td> 0.029             </td></tr>\n",
       "\t<tr><td>Utilidade pública  </td><td>2016               </td><td> 0.156             </td></tr>\n",
       "\t<tr><td>Utilidade pública  </td><td>2017               </td><td> 0.028             </td></tr>\n",
       "</tbody>\n",
       "</table>\n"
      ],
      "text/latex": [
       "\\begin{tabular}{r|lll}\n",
       " setor & ano & indice\\\\\n",
       "\\hline\n",
       "\t Consumo não cíclico & 2015                & -0.118             \\\\\n",
       "\t Consumo não cíclico & 2016                & -0.016             \\\\\n",
       "\t Consumo não cíclico & 2017                & -0.090             \\\\\n",
       "\t Utilidade pública   & 2015                &  0.029             \\\\\n",
       "\t Utilidade pública   & 2016                &  0.156             \\\\\n",
       "\t Utilidade pública   & 2017                &  0.028             \\\\\n",
       "\\end{tabular}\n"
      ],
      "text/markdown": [
       "\n",
       "| setor | ano | indice |\n",
       "|---|---|---|\n",
       "| Consumo não cíclico | 2015                | -0.118              |\n",
       "| Consumo não cíclico | 2016                | -0.016              |\n",
       "| Consumo não cíclico | 2017                | -0.090              |\n",
       "| Utilidade pública   | 2015                |  0.029              |\n",
       "| Utilidade pública   | 2016                |  0.156              |\n",
       "| Utilidade pública   | 2017                |  0.028              |\n",
       "\n"
      ],
      "text/plain": [
       "  setor               ano  indice\n",
       "1 Consumo não cíclico 2015 -0.118\n",
       "2 Consumo não cíclico 2016 -0.016\n",
       "3 Consumo não cíclico 2017 -0.090\n",
       "4 Utilidade pública   2015  0.029\n",
       "5 Utilidade pública   2016  0.156\n",
       "6 Utilidade pública   2017  0.028"
      ]
     },
     "metadata": {},
     "output_type": "display_data"
    }
   ],
   "source": [
    "resultSetor <- BD.Aula1[, .(indice = round(mean(LucroLiquido/AtvTotal), 3)), by = .(setor, ano)]\n",
    "head(resultSetor)"
   ]
  },
  {
   "cell_type": "code",
   "execution_count": 12,
   "metadata": {},
   "outputs": [
    {
     "data": {
      "image/png": "[encoded data removed]",
      "text/plain": [
       "plot without title"
      ]
     },
     "metadata": {},
     "output_type": "display_data"
    }
   ],
   "source": [
    "ggplot(resultSetor, aes(reorder(setor, indice), indice, fill = factor(ano))) +\n",
    "geom_col(position = \"dodge\") + coord_flip() +\n",
    "theme(legend.position = \"bottom\", panel.background = element_blank(), axis.title=element_blank(), axis.text.x=element_blank()) +\n",
    "geom_text(aes(y = indice + 0.1 * sign(indice), label = indice), \n",
    "              position = position_dodge(width = 0.9), size = 3, color = \"red\", fontface = \"bold\")"
   ]
  },
  {
   "cell_type": "code",
   "execution_count": 13,
   "metadata": {
    "scrolled": true
   },
   "outputs": [
    {
     "data": {
      "image/png": "[encoded data removed]",
      "text/plain": [
       "plot without title"
      ]
     },
     "metadata": {},
     "output_type": "display_data"
    }
   ],
   "source": [
    "ggplot(resultSetor[substr(setor, 1, 4) %in% c(\"Petr\", \"Tele\", \"Cons\")], aes(ano, indice, col = setor)) +\n",
    "geom_line() +\n",
    "theme(legend.position = \"right\", panel.background = element_blank(), axis.title=element_blank()) +\n",
    "labs(title = \"Grafico em linha\", subtitle = \"Aula1\", caption = \"Gráfico para disciplina de Análise (Prof. Kléber Formiga)\")"
   ]
  },
  {
   "cell_type": "code",
   "execution_count": null,
   "metadata": {},
   "outputs": [],
   "source": []
  }
 ],
 "metadata": {
  "kernelspec": {
   "display_name": "R",
   "language": "R",
   "name": "ir"
  },
  "language_info": {
   "codemirror_mode": "r",
   "file_extension": ".r",
   "mimetype": "text/x-r-source",
   "name": "R",
   "pygments_lexer": "r",
   "version": "3.6.0"
  }
 },
 "nbformat": 4,
 "nbformat_minor": 2
}
