{
 "cells": [
  {
   "cell_type": "markdown",
   "metadata": {},
   "source": [
    "# Análise das Demonstrações Contábeis\n",
    "\n",
    "## Visao das empresas\n",
    "\n",
    "<p> \n",
    "Aqui eu digo o que vamos fazer para o dia\n",
    "</p>\n",
    "\n",
    "\\begin{align*}\n",
    "x^2 &= \\frac{PL}{AT}\n",
    "\\end{align*}"
   ]
  },
  {
   "cell_type": "code",
   "execution_count": null,
   "metadata": {},
   "outputs": [],
   "source": []
  }
 ],
 "metadata": {
  "kernelspec": {
   "display_name": "R",
   "language": "R",
   "name": "ir"
  },
  "language_info": {
   "codemirror_mode": "r",
   "file_extension": ".r",
   "mimetype": "text/x-r-source",
   "name": "R",
   "pygments_lexer": "r",
   "version": "3.6.0"
  }
 },
 "nbformat": 4,
 "nbformat_minor": 2
}
